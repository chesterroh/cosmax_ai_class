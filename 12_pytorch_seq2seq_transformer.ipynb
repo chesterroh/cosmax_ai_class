{
 "cells": [
  {
   "cell_type": "code",
   "execution_count": 1,
   "id": "00d3604f-eab8-40f0-b202-43ba24055f6d",
   "metadata": {},
   "outputs": [
    {
     "name": "stderr",
     "output_type": "stream",
     "text": [
      "/home/chester/.local/lib/python3.8/site-packages/tqdm/auto.py:22: TqdmWarning: IProgress not found. Please update jupyter and ipywidgets. See https://ipywidgets.readthedocs.io/en/stable/user_install.html\n",
      "  from .autonotebook import tqdm as notebook_tqdm\n"
     ]
    }
   ],
   "source": [
    "import torch\n",
    "import torch.nn as nn\n",
    "import torch.optim as optim\n",
    "\n",
    "from torchtext.datasets import Multi30k\n",
    "from torchtext.vocab import build_vocab_from_iterator\n",
    "from torchtext.data.utils import get_tokenizer\n",
    "from torch.nn.utils.rnn import pad_sequence\n",
    "from torch.utils.data import DataLoader\n",
    "import torch.nn.functional as F\n",
    "\n",
    "import spacy\n",
    "import numpy as np\n",
    "\n",
    "import random, math, time\n"
   ]
  },
  {
   "cell_type": "code",
   "execution_count": 2,
   "id": "056bb6bc-f899-46c6-bacd-c5cbc16eb33d",
   "metadata": {},
   "outputs": [],
   "source": [
    "tokenizer_en = get_tokenizer('spacy', language='en_core_web_sm')\n",
    "tokenizer_de = get_tokenizer('spacy', language='de_core_news_sm')"
   ]
  },
  {
   "cell_type": "code",
   "execution_count": 3,
   "id": "2b04fb0c-8fff-4aff-ac69-5a2fc82b7585",
   "metadata": {},
   "outputs": [],
   "source": [
    "def yield_tokens_en(data_iter):\n",
    "    for data in data_iter:\n",
    "        yield tokenizer_en(data[1].rstrip('\\n'))\n",
    "        \n",
    "def yield_tokens_de(data_iter):\n",
    "    for data in data_iter:\n",
    "        yield tokenizer_de(data[0].rstrip('\\n'))\n",
    "        \n",
    "# torch 1.10 에서 __iter__ reset 을 하지 못하는 문제가 생겼었는데, 1.11 에서 warning 이 나옴.. lambda 대신에 partial 을 사용하라고 함 "
   ]
  },
  {
   "cell_type": "code",
   "execution_count": 4,
   "id": "e4e4825d-8324-4aba-a898-20e9433e9362",
   "metadata": {},
   "outputs": [
    {
     "name": "stderr",
     "output_type": "stream",
     "text": [
      "/home/chester/.local/lib/python3.8/site-packages/torch/utils/data/datapipes/utils/common.py:24: UserWarning: Lambda function is not supported for pickle, please use regular python function or functools.partial instead.\n",
      "  warnings.warn(\n",
      "/home/chester/.local/lib/python3.8/site-packages/torch/utils/data/datapipes/iter/selecting.py:54: UserWarning: Lambda function is not supported for pickle, please use regular python function or functools.partial instead.\n",
      "  warnings.warn(\"Lambda function is not supported for pickle, please use \"\n",
      "/home/chester/.local/lib/python3.8/site-packages/torch/utils/data/datapipes/iter/combining.py:180: UserWarning: Some child DataPipes are not exhausted when __iter__ is called. We are resetting the buffer and each child DataPipe will read from the start again.\n",
      "  warnings.warn(\"Some child DataPipes are not exhausted when __iter__ is called. We are resetting \"\n"
     ]
    }
   ],
   "source": [
    "train, valid, test = Multi30k('./.data', split=('train', 'valid', 'test'), language_pair=('de','en'))\n",
    "en_vocab = build_vocab_from_iterator(yield_tokens_en(train), min_freq=1, specials=['<unk>', '<pad>', '<sos>', '<eos>'], special_first=True)\n",
    "de_vocab = build_vocab_from_iterator(yield_tokens_de(train), min_freq=1, specials=['<unk>', '<pad>', '<sos>', '<eos>'], special_first=True)"
   ]
  },
  {
   "cell_type": "code",
   "execution_count": 5,
   "id": "75e60ec5-3562-43d1-a3b1-d183e2a434c3",
   "metadata": {},
   "outputs": [],
   "source": [
    "en_vocab.set_default_index(en_vocab['<unk>'])\n",
    "de_vocab.set_default_index(de_vocab['<unk>'])"
   ]
  },
  {
   "cell_type": "code",
   "execution_count": 6,
   "id": "644438b0-3ba3-40f6-8e8a-d21c61293042",
   "metadata": {},
   "outputs": [
    {
     "name": "stdout",
     "output_type": "stream",
     "text": [
      "10837\n",
      "19214\n"
     ]
    }
   ],
   "source": [
    "print(len(en_vocab))\n",
    "print(len(de_vocab))"
   ]
  },
  {
   "cell_type": "code",
   "execution_count": 7,
   "id": "0abe4b58-0a25-466a-a087-a0c99c719816",
   "metadata": {},
   "outputs": [
    {
     "name": "stdout",
     "output_type": "stream",
     "text": [
      "0 1 2 3\n"
     ]
    }
   ],
   "source": [
    "PAD_IDX = en_vocab['<pad>']\n",
    "SOS_IDX = en_vocab['<sos>']\n",
    "EOS_IDX = en_vocab['<eos>']\n",
    "UNK_IDX = en_vocab['<unk>']\n",
    "\n",
    "print(UNK_IDX, PAD_IDX, SOS_IDX, EOS_IDX)"
   ]
  },
  {
   "cell_type": "code",
   "execution_count": 8,
   "id": "3b5c4863-fa6d-4761-a707-b96cf70ce4db",
   "metadata": {},
   "outputs": [],
   "source": [
    "en_text_pipeline = lambda x : en_vocab(tokenizer_en(x))\n",
    "de_text_pipeline = lambda x : de_vocab(tokenizer_de(x))"
   ]
  },
  {
   "cell_type": "code",
   "execution_count": 9,
   "id": "0f5e11af-b2e7-4ff6-89f5-560b3d306b31",
   "metadata": {},
   "outputs": [],
   "source": [
    "def collate_batch(batch):\n",
    "    de_list, en_list = [], []\n",
    "    for data in batch:\n",
    "        processed_de = torch.tensor( de_text_pipeline(data[0]), dtype=torch.int64)\n",
    "        processed_en = torch.tensor( en_text_pipeline(data[1]), dtype=torch.int64)\n",
    "        de_list.append( torch.cat( [torch.tensor([SOS_IDX]), processed_de, torch.tensor([EOS_IDX])], dim=0))\n",
    "        en_list.append( torch.cat( [torch.tensor([SOS_IDX]), processed_en, torch.tensor([EOS_IDX])], dim=0))\n",
    "    de_list = pad_sequence( de_list, padding_value=PAD_IDX)\n",
    "    en_list = pad_sequence( en_list, padding_value=PAD_IDX)\n",
    "    return de_list, en_list\n"
   ]
  },
  {
   "cell_type": "code",
   "execution_count": 10,
   "id": "5397908d-4d9f-4fa7-a408-ffaaa552d9b3",
   "metadata": {},
   "outputs": [],
   "source": [
    "BATCH_SIZE = 128\n",
    "\n",
    "train_loader = DataLoader(train, batch_size=BATCH_SIZE, shuffle=False, collate_fn=collate_batch)\n",
    "valid_loader = DataLoader(valid, batch_size=BATCH_SIZE, shuffle=False, collate_fn=collate_batch)\n",
    "test_loader = DataLoader(test, batch_size=BATCH_SIZE, shuffle=False, collate_fn=collate_batch)"
   ]
  },
  {
   "cell_type": "code",
   "execution_count": 11,
   "id": "a383aa67-1da6-4700-b11d-c56d539f6b73",
   "metadata": {},
   "outputs": [],
   "source": [
    "device = torch.device(\"cuda:1\" if torch.cuda.is_available() else \"cpu\")\n",
    "DEVICE = device"
   ]
  },
  {
   "cell_type": "code",
   "execution_count": 12,
   "id": "99ad9c1c-a490-4d0b-bcc5-fbf6dfd02198",
   "metadata": {},
   "outputs": [],
   "source": [
    "from torch import Tensor\n",
    "from torch.nn import Transformer\n",
    "        "
   ]
  },
  {
   "cell_type": "code",
   "execution_count": 13,
   "id": "ca363668-9534-4993-a335-67b68ada8eb3",
   "metadata": {},
   "outputs": [],
   "source": [
    "class PositionalEncoding(nn.Module):\n",
    "    def __init__(self,\n",
    "                 emb_size: int,\n",
    "                 dropout: float,\n",
    "                 maxlen: int = 5000):\n",
    "        super(PositionalEncoding, self).__init__()\n",
    "        den = torch.exp(- torch.arange(0, emb_size, 2)* math.log(10000) / emb_size)\n",
    "        pos = torch.arange(0, maxlen).reshape(maxlen, 1)\n",
    "        pos_embedding = torch.zeros((maxlen, emb_size))\n",
    "        pos_embedding[:, 0::2] = torch.sin(pos * den)\n",
    "        pos_embedding[:, 1::2] = torch.cos(pos * den)\n",
    "        pos_embedding = pos_embedding.unsqueeze(-2)\n",
    "\n",
    "        self.dropout = nn.Dropout(dropout)\n",
    "        self.register_buffer('pos_embedding', pos_embedding)\n",
    "\n",
    "    def forward(self, token_embedding: Tensor):\n",
    "        return self.dropout(token_embedding + self.pos_embedding[:token_embedding.size(0), :])\n",
    "    "
   ]
  },
  {
   "cell_type": "code",
   "execution_count": 14,
   "id": "2ef16bba-9675-494c-8318-5222dc387281",
   "metadata": {},
   "outputs": [],
   "source": [
    "class TokenEmbedding(nn.Module):\n",
    "    def __init__(self, vocab_size: int, emb_size):\n",
    "        super(TokenEmbedding, self).__init__()\n",
    "        self.embedding = nn.Embedding(vocab_size, emb_size)\n",
    "        self.emb_size = emb_size\n",
    "\n",
    "    def forward(self, tokens: Tensor):\n",
    "        return self.embedding(tokens.long()) * math.sqrt(self.emb_size)"
   ]
  },
  {
   "cell_type": "code",
   "execution_count": 15,
   "id": "eba5e482-626f-4b50-aa67-4d0dda18c600",
   "metadata": {},
   "outputs": [],
   "source": [
    "class Seq2SeqTransformer(nn.Module):\n",
    "    def __init__(self,\n",
    "                 num_encoder_layers: int,\n",
    "                 num_decoder_layers: int,\n",
    "                 emb_size: int,\n",
    "                 nhead: int,\n",
    "                 src_vocab_size: int,\n",
    "                 tgt_vocab_size: int,\n",
    "                 dim_feedforward: int = 512,\n",
    "                 dropout: float = 0.1):\n",
    "        super(Seq2SeqTransformer, self).__init__()\n",
    "        self.transformer = Transformer(d_model=emb_size,\n",
    "                                       nhead=nhead,\n",
    "                                       num_encoder_layers=num_encoder_layers,\n",
    "                                       num_decoder_layers=num_decoder_layers,\n",
    "                                       dim_feedforward=dim_feedforward,\n",
    "                                       dropout=dropout)\n",
    "        self.generator = nn.Linear(emb_size, tgt_vocab_size)\n",
    "        self.src_tok_emb = TokenEmbedding(src_vocab_size, emb_size)\n",
    "        self.tgt_tok_emb = TokenEmbedding(tgt_vocab_size, emb_size)\n",
    "        self.positional_encoding = PositionalEncoding(\n",
    "            emb_size, dropout=dropout)\n",
    "\n",
    "    def forward(self,\n",
    "                src: Tensor,\n",
    "                trg: Tensor,\n",
    "                src_mask: Tensor,\n",
    "                tgt_mask: Tensor,\n",
    "                src_padding_mask: Tensor,\n",
    "                tgt_padding_mask: Tensor,\n",
    "                memory_key_padding_mask: Tensor):\n",
    "        src_emb = self.positional_encoding(self.src_tok_emb(src))\n",
    "        tgt_emb = self.positional_encoding(self.tgt_tok_emb(trg))\n",
    "        outs = self.transformer(src_emb, tgt_emb, src_mask, tgt_mask, None,\n",
    "                                src_padding_mask, tgt_padding_mask, memory_key_padding_mask)\n",
    "        return self.generator(outs)\n",
    "\n",
    "    def encode(self, src: Tensor, src_mask: Tensor):\n",
    "        return self.transformer.encoder(self.positional_encoding(\n",
    "                            self.src_tok_emb(src)), src_mask)\n",
    "\n",
    "    def decode(self, tgt: Tensor, memory: Tensor, tgt_mask: Tensor):\n",
    "        return self.transformer.decoder(self.positional_encoding(\n",
    "                          self.tgt_tok_emb(tgt)), memory,\n",
    "                          tgt_mask)      "
   ]
  },
  {
   "cell_type": "code",
   "execution_count": 16,
   "id": "0800f548-fc1d-47c9-80e4-15980bbf1757",
   "metadata": {},
   "outputs": [],
   "source": [
    "def generate_square_subsequent_mask(sz):\n",
    "    mask = (torch.triu(torch.ones((sz, sz), device=DEVICE)) == 1).transpose(0, 1)\n",
    "    mask = mask.float().masked_fill(mask == 0, float('-inf')).masked_fill(mask == 1, float(0.0))\n",
    "    return mask\n",
    "\n",
    "\n",
    "def create_mask(src, tgt):\n",
    "    src_seq_len = src.shape[0]\n",
    "    tgt_seq_len = tgt.shape[0]\n",
    "\n",
    "    tgt_mask = generate_square_subsequent_mask(tgt_seq_len)\n",
    "    src_mask = torch.zeros((src_seq_len, src_seq_len),device=DEVICE).type(torch.bool)\n",
    "\n",
    "    src_padding_mask = (src == PAD_IDX).transpose(0, 1)\n",
    "    tgt_padding_mask = (tgt == PAD_IDX).transpose(0, 1)\n",
    "    return src_mask, tgt_mask, src_padding_mask, tgt_padding_mask"
   ]
  },
  {
   "cell_type": "code",
   "execution_count": 17,
   "id": "5884fd90-fbdf-4cb5-b5bc-5dfde322e262",
   "metadata": {},
   "outputs": [
    {
     "name": "stdout",
     "output_type": "stream",
     "text": [
      "19214\n",
      "10837\n",
      "The model has 33,570,389 trainable parameters\n"
     ]
    }
   ],
   "source": [
    "torch.manual_seed(0)\n",
    "\n",
    "SRC_VOCAB_SIZE = len(de_vocab)\n",
    "print(SRC_VOCAB_SIZE)\n",
    "TGT_VOCAB_SIZE = len(en_vocab)\n",
    "print(TGT_VOCAB_SIZE)\n",
    "EMB_SIZE = 512\n",
    "NHEAD = 8\n",
    "FFN_HID_DIM = 512\n",
    "NUM_ENCODER_LAYERS = 3\n",
    "NUM_DECODER_LAYERS = 3\n",
    "# BATCH_SIZE = 128  ## defined in the previous section\n",
    "\n",
    "\n",
    "transformer = Seq2SeqTransformer(NUM_ENCODER_LAYERS, NUM_DECODER_LAYERS, EMB_SIZE,\n",
    "                                 NHEAD, SRC_VOCAB_SIZE, TGT_VOCAB_SIZE, FFN_HID_DIM)\n",
    "\n",
    "\n",
    "for p in transformer.parameters():\n",
    "    if p.dim() > 1:\n",
    "        nn.init.xavier_uniform_(p)\n",
    "\n",
    "def count_parameters(model):\n",
    "    return sum(p.numel() for p in model.parameters() if p.requires_grad)\n",
    "\n",
    "print(f'The model has {count_parameters(transformer):,} trainable parameters')\n",
    "\n",
    "transformer = transformer.to(device)\n",
    "\n"
   ]
  },
  {
   "cell_type": "code",
   "execution_count": 18,
   "id": "ce13bb1d-0512-483d-8261-feb2182436ba",
   "metadata": {},
   "outputs": [],
   "source": [
    "loss_fn = torch.nn.CrossEntropyLoss(ignore_index=PAD_IDX)\n",
    "optimizer = torch.optim.Adam(transformer.parameters(), lr=0.0001, betas=(0.9, 0.98), eps=1e-9)"
   ]
  },
  {
   "cell_type": "code",
   "execution_count": 19,
   "id": "900719df-ccff-4481-aecc-2e4f46886de0",
   "metadata": {},
   "outputs": [],
   "source": [
    "\n",
    "def train_epoch(model, optimizer):\n",
    "    model.train()\n",
    "    losses = 0 \n",
    "    batch_count = 0 \n",
    "    \n",
    "    train = Multi30k('./.data', split=('train'), language_pair=('de','en'))\n",
    "    train_loader = DataLoader(train, batch_size=BATCH_SIZE, shuffle=False, collate_fn=collate_batch)\n",
    "\n",
    "    \n",
    "    for src, tgt in train_loader:\n",
    "        src = src.to(device)\n",
    "        tgt = tgt.to(device)\n",
    "        \n",
    "        tgt_input = tgt[:-1,:]    # 맨 마지막에 EOS 를 빼내는 건데... # \n",
    "        \n",
    "        src_mask, tgt_mask, src_padding_mask, tgt_padding_mask = create_mask(src, tgt_input)\n",
    "        logits = model(src, tgt_input, src_mask, tgt_mask, src_padding_mask, tgt_padding_mask, src_padding_mask)\n",
    "        \n",
    "        optimizer.zero_grad()\n",
    "        \n",
    "        tgt_out = tgt[1:,:]\n",
    "        loss = loss_fn(logits.reshape(-1, logits.shape[-1]), tgt_out.reshape(-1))\n",
    "        loss.backward()\n",
    "        \n",
    "        optimizer.step()\n",
    "        losses += loss.item()\n",
    "        batch_count += 1\n",
    "        \n",
    "    return losses / batch_count\n",
    "        \n",
    "def evaluate(model):\n",
    "    model.eval()\n",
    "    losses = 0\n",
    "    batch_count = 0 \n",
    "\n",
    "    for src, tgt in valid_loader:\n",
    "        src = src.to(device)\n",
    "        tgt = tgt.to(device)\n",
    "\n",
    "        tgt_input = tgt[:-1, :]\n",
    "\n",
    "        src_mask, tgt_mask, src_padding_mask, tgt_padding_mask = create_mask(src, tgt_input)\n",
    "\n",
    "        logits = model(src, tgt_input, src_mask, tgt_mask,src_padding_mask, tgt_padding_mask, src_padding_mask)\n",
    "\n",
    "        tgt_out = tgt[1:, :]\n",
    "        loss = loss_fn(logits.reshape(-1, logits.shape[-1]), tgt_out.reshape(-1))\n",
    "        losses += loss.item()\n",
    "        batch_count += 1\n",
    "\n",
    "    return losses / batch_count       \n",
    "        "
   ]
  },
  {
   "cell_type": "code",
   "execution_count": null,
   "id": "25990bff-65f9-4039-894a-3a8dea932e07",
   "metadata": {},
   "outputs": [
    {
     "name": "stdout",
     "output_type": "stream",
     "text": [
      "Epoch: 1, Train loss: 5.343, Val loss: 4.110, Epoch time = 26.825s\n",
      "Epoch: 2, Train loss: 3.764, Val loss: 3.314, Epoch time = 27.160s\n",
      "Epoch: 3, Train loss: 3.160, Val loss: 2.892, Epoch time = 27.588s\n",
      "Epoch: 4, Train loss: 2.769, Val loss: 2.635, Epoch time = 28.151s\n",
      "Epoch: 5, Train loss: 2.479, Val loss: 2.448, Epoch time = 27.935s\n",
      "Epoch: 6, Train loss: 2.248, Val loss: 2.302, Epoch time = 27.813s\n",
      "Epoch: 7, Train loss: 2.059, Val loss: 2.192, Epoch time = 27.535s\n",
      "Epoch: 8, Train loss: 1.894, Val loss: 2.117, Epoch time = 27.933s\n",
      "Epoch: 9, Train loss: 1.757, Val loss: 2.057, Epoch time = 27.603s\n",
      "Epoch: 10, Train loss: 1.630, Val loss: 2.009, Epoch time = 27.840s\n",
      "Epoch: 11, Train loss: 1.520, Val loss: 1.964, Epoch time = 27.480s\n",
      "Epoch: 12, Train loss: 1.419, Val loss: 1.957, Epoch time = 27.615s\n",
      "Epoch: 13, Train loss: 1.334, Val loss: 1.969, Epoch time = 27.914s\n",
      "Epoch: 14, Train loss: 1.251, Val loss: 1.931, Epoch time = 28.365s\n",
      "Epoch: 15, Train loss: 1.170, Val loss: 1.909, Epoch time = 28.238s\n",
      "Epoch: 16, Train loss: 1.099, Val loss: 1.902, Epoch time = 28.122s\n",
      "Epoch: 17, Train loss: 1.032, Val loss: 1.905, Epoch time = 28.086s\n",
      "Epoch: 18, Train loss: 0.975, Val loss: 1.924, Epoch time = 27.651s\n",
      "Epoch: 19, Train loss: 0.920, Val loss: 1.916, Epoch time = 28.328s\n",
      "Epoch: 20, Train loss: 0.867, Val loss: 1.938, Epoch time = 28.168s\n",
      "Epoch: 21, Train loss: 0.812, Val loss: 1.944, Epoch time = 27.834s\n",
      "Epoch: 22, Train loss: 0.765, Val loss: 1.966, Epoch time = 27.944s\n",
      "Epoch: 23, Train loss: 0.722, Val loss: 1.979, Epoch time = 27.811s\n",
      "Epoch: 24, Train loss: 0.682, Val loss: 1.999, Epoch time = 27.457s\n",
      "Epoch: 25, Train loss: 0.640, Val loss: 2.028, Epoch time = 26.888s\n",
      "Epoch: 26, Train loss: 0.601, Val loss: 2.044, Epoch time = 26.409s\n",
      "Epoch: 27, Train loss: 0.565, Val loss: 2.050, Epoch time = 26.697s\n",
      "Epoch: 28, Train loss: 0.531, Val loss: 2.069, Epoch time = 26.721s\n"
     ]
    }
   ],
   "source": [
    "from timeit import default_timer as timer\n",
    "NUM_EPOCHS = 36\n",
    "\n",
    "for epoch in range(1, NUM_EPOCHS+1):\n",
    "    start_time = timer()\n",
    "    train_loss = train_epoch(transformer, optimizer)\n",
    "    end_time = timer()\n",
    "    val_loss = evaluate(transformer)\n",
    "    print((f\"Epoch: {epoch}, Train loss: {train_loss:.3f}, Val loss: {val_loss:.3f}, \"f\"Epoch time = {(end_time - start_time):.3f}s\"))\n"
   ]
  },
  {
   "cell_type": "code",
   "execution_count": null,
   "id": "52940600-26ae-44de-82c3-7eb4924ab69c",
   "metadata": {},
   "outputs": [],
   "source": [
    "\n",
    "# function to generate output sequence using greedy algorithm\n",
    "def greedy_decode(model, src, src_mask, max_len, start_symbol):\n",
    "    src = src.to(DEVICE)\n",
    "    src_mask = src_mask.to(DEVICE)\n",
    "\n",
    "    memory = model.encode(src, src_mask)\n",
    "    ys = torch.ones(1, 1).fill_(start_symbol).type(torch.long).to(DEVICE)\n",
    "    for i in range(max_len-1):\n",
    "        memory = memory.to(DEVICE)\n",
    "        tgt_mask = (generate_square_subsequent_mask(ys.size(0))\n",
    "                    .type(torch.bool)).to(DEVICE)\n",
    "        out = model.decode(ys, memory, tgt_mask)\n",
    "        out = out.transpose(0, 1)\n",
    "        prob = model.generator(out[:, -1])\n",
    "        _, next_word = torch.max(prob, dim=1)\n",
    "        next_word = next_word.item()\n",
    "\n",
    "        ys = torch.cat([ys,\n",
    "                        torch.ones(1, 1).type_as(src.data).fill_(next_word)], dim=0)\n",
    "        if next_word == EOS_IDX:\n",
    "            break\n",
    "    return ys\n",
    "\n",
    "\n",
    "# actual function to translate input sentence into target language\n",
    "def translate(model: torch.nn.Module, src_sentence: str):\n",
    "    model.eval()\n",
    "    src = text_transform[SRC_LANGUAGE](src_sentence).view(-1, 1)\n",
    "    num_tokens = src.shape[0]\n",
    "    src_mask = (torch.zeros(num_tokens, num_tokens)).type(torch.bool)\n",
    "    tgt_tokens = greedy_decode(\n",
    "        model,  src, src_mask, max_len=num_tokens + 5, start_symbol=BOS_IDX).flatten()\n",
    "    return \" \".join(vocab_transform[TGT_LANGUAGE].lookup_tokens(list(tgt_tokens.cpu().numpy()))).replace(\"<bos>\", \"\").replace(\"<eos>\", \"\")"
   ]
  },
  {
   "cell_type": "code",
   "execution_count": null,
   "id": "fe8fc3b9-3fc8-4315-aebe-400749b52b3c",
   "metadata": {},
   "outputs": [],
   "source": [
    "print(translate(transformer, \"Eine Gruppe von Menschen steht vor einem Iglu .\"))\n"
   ]
  },
  {
   "cell_type": "code",
   "execution_count": null,
   "id": "ab240a63-f140-4f34-b78d-50785ec6264e",
   "metadata": {},
   "outputs": [],
   "source": []
  }
 ],
 "metadata": {
  "kernelspec": {
   "display_name": "Python 3 (ipykernel)",
   "language": "python",
   "name": "python3"
  },
  "language_info": {
   "codemirror_mode": {
    "name": "ipython",
    "version": 3
   },
   "file_extension": ".py",
   "mimetype": "text/x-python",
   "name": "python",
   "nbconvert_exporter": "python",
   "pygments_lexer": "ipython3",
   "version": "3.8.10"
  }
 },
 "nbformat": 4,
 "nbformat_minor": 5
}
