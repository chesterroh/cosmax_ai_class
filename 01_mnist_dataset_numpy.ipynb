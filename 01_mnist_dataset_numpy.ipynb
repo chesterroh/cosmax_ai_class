{
 "cells": [
  {
   "cell_type": "markdown",
   "metadata": {},
   "source": [
    "# MNIST dataset\n",
    "\n",
    "Numpy 를 가지고 dataset 을 한번 만져보도록 하겠습니다.. 그 유명한 Yann Lecun 교수가 무려 90년대 초반에 만들었던 Neural Net 이였던 LeNet 에 사용되었던 dataset 입니다.  0 에서 9 까지의 사람손글씨 데이터셋인데요.\n",
    "\n",
    "1993 년의 풋풋한 Lecun 교수님의 모습도 확인하실겸 https://www.youtube.com/watch?v=FwFduRA_L6Q 이 동영상 한번 보시지요. 영상속의 사람손글씨들을 모아 놓은 데이터넷이 MNIST dataset 입니다.\n",
    "\n",
    "dataset 은 yann.lcun.com 에서 다운로드 받으실 수 있는데요.  http://yann.lecun.com/exdb/mnist/ 이 페이지입니다..\n",
    "자 그럼 한번 데이터셋을 다운로드해보고 Jupyter Notebook (Google Colab) 에서 직접 데이터셋을 한번 살펴보도록 합시다.\n"
   ]
  },
  {
   "cell_type": "code",
   "execution_count": 1,
   "metadata": {},
   "outputs": [],
   "source": [
    "import numpy as np\n",
    "from urllib import request\n",
    "import gzip\n",
    "\n"
   ]
  },
  {
   "cell_type": "markdown",
   "metadata": {},
   "source": [
    "다운로드해야 하는 file 들의 이름을 가지고 URL 을 완성해봅시다. "
   ]
  },
  {
   "cell_type": "code",
   "execution_count": 2,
   "metadata": {},
   "outputs": [
    {
     "name": "stdout",
     "output_type": "stream",
     "text": [
      "http://yann.lecun.com/exdb/mnist/ downloaded train-images-idx3-ubyte.gz\n",
      "http://yann.lecun.com/exdb/mnist/ downloaded t10k-images-idx3-ubyte.gz\n",
      "http://yann.lecun.com/exdb/mnist/ downloaded train-labels-idx1-ubyte.gz\n",
      "http://yann.lecun.com/exdb/mnist/ downloaded t10k-labels-idx1-ubyte.gz\n",
      "download has been completed.\n"
     ]
    }
   ],
   "source": [
    "filename = [\n",
    "[\"x_train\", \"train-images-idx3-ubyte.gz\"],\n",
    "[\"x_test\", \"t10k-images-idx3-ubyte.gz\"],\n",
    "[\"y_train\", \"train-labels-idx1-ubyte.gz\"],\n",
    "[\"y_test\", \"t10k-labels-idx1-ubyte.gz\" ],\n",
    "]\n",
    "\n",
    "base_url = \"http://yann.lecun.com/exdb/mnist/\"\n",
    "\n",
    "# filename list 에서 하나씩 file 이름들을 가져옵니다. \n",
    "for n in filename:\n",
    "    request.urlretrieve(base_url+n[1],n[1])\n",
    "    print(\"%s downloaded \" % base_url+n[1])\n",
    "\n",
    "print(\"download has been completed.\")"
   ]
  },
  {
   "cell_type": "code",
   "execution_count": 3,
   "metadata": {},
   "outputs": [],
   "source": [
    "# dictionary 에 'x_train', 'y_train', 'x_test', 'y_test' 라는 key 로 저장합니다.\n",
    "mnist = {}\n",
    "\n",
    "# train, test image 를 가져와서 dictionary 에 넣습니다.  x_train, y_train 에 넣습니다. \n",
    "for name in filename[:2]:\n",
    "    with gzip.open(name[1], 'rb') as f:\n",
    "        mnist[name[0]] = np.frombuffer(f.read(), np.uint8, offset=16).reshape(-1,28,28)\n",
    "        \n",
    "for name in filename[2:]:\n",
    "    with gzip.open(name[1], 'rb') as f:\n",
    "        mnist[name[0]] = np.frombuffer(f.read(),np.uint8, offset=8).reshape(-1,1)"
   ]
  },
  {
   "cell_type": "code",
   "execution_count": 4,
   "metadata": {},
   "outputs": [
    {
     "name": "stdout",
     "output_type": "stream",
     "text": [
      "(60000, 28, 28)\n",
      "(60000, 1)\n"
     ]
    }
   ],
   "source": [
    "# training data, label 의 shape 을 살펴봅시다. \n",
    "print(mnist['x_train'].shape)\n",
    "print(mnist['y_train'].shape)\n"
   ]
  },
  {
   "cell_type": "code",
   "execution_count": 5,
   "metadata": {},
   "outputs": [
    {
     "name": "stdout",
     "output_type": "stream",
     "text": [
      "(10000, 28, 28)\n",
      "(10000, 1)\n"
     ]
    }
   ],
   "source": [
    "# test data, label 의 shape 을 살펴볼까요?\n",
    "print(mnist['x_test'].shape)\n",
    "print(mnist['y_test'].shape)"
   ]
  },
  {
   "cell_type": "markdown",
   "metadata": {},
   "source": [
    "Training data,label 이 60000 장, 그리고 Test data, label 의 갯수가 10000장이 있는 것을 확인할 수 있습니다.\n",
    "\n",
    "그럼 dataset 이 제대로 들어와 있는지 한번 확인해볼까요?"
   ]
  },
  {
   "cell_type": "code",
   "execution_count": 6,
   "metadata": {},
   "outputs": [
    {
     "data": {
      "image/png": "[encoded data removed]",
      "text/plain": [
       "<Figure size 432x288 with 1 Axes>"
      ]
     },
     "metadata": {
      "needs_background": "light"
     },
     "output_type": "display_data"
    }
   ],
   "source": [
    "import matplotlib.pyplot as plt\n",
    "\n",
    "# 100 번째 index 에 들어있는 데이터를 한번 출력해봅시다. \n",
    "img = mnist['x_train'][99,:]\n",
    "plt.imshow(img)\n",
    "plt.show()"
   ]
  },
  {
   "cell_type": "markdown",
   "metadata": {},
   "source": [
    "28x28 pixel 로 표현되어 있네요. 몇번을 나타내는 것 같으신가요?\n",
    "한번, label 이 몇번으로 표현되어 있는지 한번 볼까요? "
   ]
  },
  {
   "cell_type": "code",
   "execution_count": 7,
   "metadata": {},
   "outputs": [
    {
     "name": "stdout",
     "output_type": "stream",
     "text": [
      "[1]\n"
     ]
    }
   ],
   "source": [
    "print(mnist['y_train'][99])"
   ]
  },
  {
   "cell_type": "markdown",
   "metadata": {},
   "source": [
    "네 1 이라고 제대로 표현되는 것 같습니다. "
   ]
  },
  {
   "cell_type": "markdown",
   "metadata": {},
   "source": [
    "\n",
    "그럼 6000 번째 데이터는 어떤 숫자일까요?"
   ]
  },
  {
   "cell_type": "code",
   "execution_count": 8,
   "metadata": {},
   "outputs": [
    {
     "data": {
      "image/png": "[encoded data removed]",
      "text/plain": [
       "<Figure size 432x288 with 1 Axes>"
      ]
     },
     "metadata": {
      "needs_background": "light"
     },
     "output_type": "display_data"
    }
   ],
   "source": [
    "\n",
    "# 왜 5999 인지는 아시겠죠?\n",
    "img = mnist['x_train'][5999,:]\n",
    "plt.imshow(img)\n",
    "plt.show()"
   ]
  },
  {
   "cell_type": "code",
   "execution_count": 9,
   "metadata": {},
   "outputs": [
    {
     "name": "stdout",
     "output_type": "stream",
     "text": [
      "[9]\n"
     ]
    }
   ],
   "source": [
    "# label 이 제대로 박혀 있는지 한번 볼까요?\n",
    "\n",
    "print(mnist['y_train'][5999])"
   ]
  },
  {
   "cell_type": "markdown",
   "metadata": {},
   "source": [
    "제대로 나오네요.. 자 그럼 이제 연습문제 한번 풀어보도록 합시다.\n",
    "dictionary 를 손쉽게 억세스 하기 위해서 변수들을 좀더 쉽게 만들어 볼까요?\n",
    "\n",
    "\n"
   ]
  },
  {
   "cell_type": "code",
   "execution_count": 10,
   "metadata": {},
   "outputs": [],
   "source": [
    "x_train, y_train, x_test, y_test = mnist['x_train'], mnist['y_train'], mnist['x_test'], mnist['y_test']"
   ]
  },
  {
   "cell_type": "markdown",
   "metadata": {},
   "source": [
    "## 연습문제 1"
   ]
  },
  {
   "cell_type": "code",
   "execution_count": 11,
   "metadata": {},
   "outputs": [],
   "source": [
    "# 연습문제 1. (pyplot)\n",
    "# x_train data 로부터 i 번째에서부터 시작하는 이미지를 10 개를 동시에 출력해 봅시다.\n",
    "# \n",
    "\n",
    "def draw_10_images(i):\n",
    "    images = xtrain[i:i+10]\n",
    "    # 아래에 pyplot 을 이용해서 코드를 작성해보세요. ( cf. subplot 을 배웠지요? )"
   ]
  },
  {
   "cell_type": "markdown",
   "metadata": {},
   "source": [
    "## 연습문제 2"
   ]
  },
  {
   "cell_type": "code",
   "execution_count": 12,
   "metadata": {},
   "outputs": [],
   "source": [
    "# 연습문제 2. x_train 에서 각각의 0, 1, 2, ..., 9 각각의 데이터셋은 몇개씩이나 있을까요?\n",
    "\n",
    "# your code here \n",
    "\n",
    "\n",
    "\n",
    "\n",
    "# (hint) numpy 의 condition operator 를 지난 자료에서 알려드렸습니다. \n",
    "# y_train == 8"
   ]
  },
  {
   "cell_type": "markdown",
   "metadata": {},
   "source": [
    "## 연습문제 3"
   ]
  },
  {
   "cell_type": "code",
   "execution_count": 71,
   "metadata": {},
   "outputs": [],
   "source": [
    "# 연습문제 3. 0~9 까지를 분류하는 multi-class classification 은 pytorch 를 이용해서 매우 손쉽게 풀어볼 예정이구요. 학습을 위해서 0,1 숫자 두개는 특별히 분류해서 numpy 를 이용해서 직접 logistic regression 을 돌려볼려고 합니다. 0,1 만 존재하는 x_train, y_train, x_test, y_test 를 만들어 보도록 합시다. \n"
   ]
  },
  {
   "cell_type": "code",
   "execution_count": null,
   "metadata": {},
   "outputs": [],
   "source": []
  }
 ],
 "metadata": {
  "kernelspec": {
   "display_name": "Python 3",
   "language": "python",
   "name": "python3"
  },
  "language_info": {
   "codemirror_mode": {
    "name": "ipython",
    "version": 3
   },
   "file_extension": ".py",
   "mimetype": "text/x-python",
   "name": "python",
   "nbconvert_exporter": "python",
   "pygments_lexer": "ipython3",
   "version": "3.8.4"
  }
 },
 "nbformat": 4,
 "nbformat_minor": 4
}
