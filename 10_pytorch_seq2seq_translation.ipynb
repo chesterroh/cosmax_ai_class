{
 "cells": [
  {
   "cell_type": "code",
   "execution_count": 1,
   "metadata": {},
   "outputs": [],
   "source": [
    "import torch\n",
    "import torch.nn as nn\n",
    "import torch.optim as optim\n",
    "\n",
    "from torchtext.datasets import Multi30k\n",
    "from torchtext.vocab import build_vocab_from_iterator\n",
    "from torchtext.data.utils import get_tokenizer\n",
    "from torch.nn.utils.rnn import pad_sequence\n",
    "from torch.utils.data import DataLoader\n",
    "\n",
    "import spacy\n",
    "import numpy as np\n",
    "\n",
    "import random\n",
    "import math\n",
    "import time"
   ]
  },
  {
   "cell_type": "code",
   "execution_count": 2,
   "metadata": {},
   "outputs": [],
   "source": [
    "SEED = 1234\n",
    "random.seed(SEED)\n",
    "np.random.seed(SEED)\n",
    "torch.manual_seed(SEED)\n",
    "torch.cuda.manual_seed(SEED)\n",
    "torch.backends.cudnn.deterministic = True"
   ]
  },
  {
   "cell_type": "code",
   "execution_count": 3,
   "metadata": {},
   "outputs": [],
   "source": [
    "tokenizer_en = get_tokenizer('spacy', language='en_core_web_sm')\n",
    "tokenizer_de = get_tokenizer('spacy', language='de_core_news_sm')"
   ]
  },
  {
   "cell_type": "code",
   "execution_count": 4,
   "metadata": {},
   "outputs": [],
   "source": [
    "\n",
    "def yield_tokens_en(data_iter):\n",
    "    for data in data_iter:\n",
    "        yield tokenizer_en(data[1].rstrip('\\n'))\n",
    "        \n",
    "def yield_tokens_de(data_iter):\n",
    "    for data in data_iter:\n",
    "        yield tokenizer_de(data[0].rstrip('\\n'))\n",
    "        \n",
    "    "
   ]
  },
  {
   "cell_type": "code",
   "execution_count": 1,
   "metadata": {},
   "outputs": [
    {
     "ename": "NameError",
     "evalue": "name 'Multi30k' is not defined",
     "output_type": "error",
     "traceback": [
      "\u001b[0;31m---------------------------------------------------------------------------\u001b[0m",
      "\u001b[0;31mNameError\u001b[0m                                 Traceback (most recent call last)",
      "Input \u001b[0;32mIn [1]\u001b[0m, in \u001b[0;36m<cell line: 1>\u001b[0;34m()\u001b[0m\n\u001b[0;32m----> 1\u001b[0m train \u001b[38;5;241m=\u001b[39m \u001b[43mMulti30k\u001b[49m(\u001b[38;5;124m'\u001b[39m\u001b[38;5;124m./.data\u001b[39m\u001b[38;5;124m'\u001b[39m, split\u001b[38;5;241m=\u001b[39m(\u001b[38;5;124m'\u001b[39m\u001b[38;5;124mtrain\u001b[39m\u001b[38;5;124m'\u001b[39m), language_pair\u001b[38;5;241m=\u001b[39m(\u001b[38;5;124m'\u001b[39m\u001b[38;5;124mde\u001b[39m\u001b[38;5;124m'\u001b[39m,\u001b[38;5;124m'\u001b[39m\u001b[38;5;124men\u001b[39m\u001b[38;5;124m'\u001b[39m))\n\u001b[1;32m      2\u001b[0m en_vocab \u001b[38;5;241m=\u001b[39m build_vocab_from_iterator(yield_tokens_en(train), min_freq\u001b[38;5;241m=\u001b[39m\u001b[38;5;241m2\u001b[39m, specials\u001b[38;5;241m=\u001b[39m[\u001b[38;5;124m'\u001b[39m\u001b[38;5;124m<unk>\u001b[39m\u001b[38;5;124m'\u001b[39m, \u001b[38;5;124m'\u001b[39m\u001b[38;5;124m<pad>\u001b[39m\u001b[38;5;124m'\u001b[39m, \u001b[38;5;124m'\u001b[39m\u001b[38;5;124m<sos>\u001b[39m\u001b[38;5;124m'\u001b[39m, \u001b[38;5;124m'\u001b[39m\u001b[38;5;124m<eos>\u001b[39m\u001b[38;5;124m'\u001b[39m])\n\u001b[1;32m      3\u001b[0m de_vocab \u001b[38;5;241m=\u001b[39m build_vocab_from_iterator(yield_tokens_de(train), min_freq\u001b[38;5;241m=\u001b[39m\u001b[38;5;241m2\u001b[39m, specials\u001b[38;5;241m=\u001b[39m[\u001b[38;5;124m'\u001b[39m\u001b[38;5;124m<unk>\u001b[39m\u001b[38;5;124m'\u001b[39m, \u001b[38;5;124m'\u001b[39m\u001b[38;5;124m<pad>\u001b[39m\u001b[38;5;124m'\u001b[39m, \u001b[38;5;124m'\u001b[39m\u001b[38;5;124m<sos>\u001b[39m\u001b[38;5;124m'\u001b[39m, \u001b[38;5;124m'\u001b[39m\u001b[38;5;124m<eos>\u001b[39m\u001b[38;5;124m'\u001b[39m])\n",
      "\u001b[0;31mNameError\u001b[0m: name 'Multi30k' is not defined"
     ]
    }
   ],
   "source": [
    "train = Multi30k('./.data', split=('train'), language_pair=('de','en'))\n",
    "en_vocab = build_vocab_from_iterator(yield_tokens_en(train), min_freq=2, specials=['<unk>', '<pad>', '<sos>', '<eos>'])\n",
    "de_vocab = build_vocab_from_iterator(yield_tokens_de(train), min_freq=2, specials=['<unk>', '<pad>', '<sos>', '<eos>'])"
   ]
  },
  {
   "cell_type": "code",
   "execution_count": 6,
   "metadata": {},
   "outputs": [],
   "source": [
    "en_vocab.set_default_index(en_vocab['<unk>'])\n",
    "de_vocab.set_default_index(de_vocab['<unk>'])"
   ]
  },
  {
   "cell_type": "code",
   "execution_count": 7,
   "metadata": {},
   "outputs": [
    {
     "name": "stdout",
     "output_type": "stream",
     "text": [
      "6191\n",
      "8014\n"
     ]
    }
   ],
   "source": [
    "print(len(en_vocab))\n",
    "print(len(de_vocab))"
   ]
  },
  {
   "cell_type": "code",
   "execution_count": 8,
   "metadata": {},
   "outputs": [
    {
     "name": "stdout",
     "output_type": "stream",
     "text": [
      "0 1 2 3\n"
     ]
    }
   ],
   "source": [
    "PAD_IDX = en_vocab['<pad>']\n",
    "SOS_IDX = en_vocab['<sos>']\n",
    "EOS_IDX = en_vocab['<eos>']\n",
    "UNK_IDX = en_vocab['<unk>']\n",
    "\n",
    "print(UNK_IDX, PAD_IDX, SOS_IDX, EOS_IDX)"
   ]
  },
  {
   "cell_type": "code",
   "execution_count": 9,
   "metadata": {},
   "outputs": [],
   "source": [
    "en_text_pipeline = lambda x : en_vocab(tokenizer_en(x))\n",
    "de_text_pipeline = lambda x : de_vocab(tokenizer_de(x))"
   ]
  },
  {
   "cell_type": "code",
   "execution_count": 10,
   "metadata": {},
   "outputs": [],
   "source": [
    "def collate_batch(batch):\n",
    "    de_list, en_list = [], []\n",
    "    for data in batch:\n",
    "        processed_de = torch.tensor( de_text_pipeline(data[0]), dtype=torch.int64)\n",
    "        processed_en = torch.tensor( en_text_pipeline(data[1]), dtype=torch.int64)\n",
    "        de_list.append( torch.cat( [torch.tensor([SOS_IDX]), processed_de, torch.tensor([EOS_IDX])], dim=0))\n",
    "        en_list.append( torch.cat( [torch.tensor([SOS_IDX]), processed_en, torch.tensor([EOS_IDX])], dim=0))\n",
    "    de_list = pad_sequence( de_list, padding_value=PAD_IDX)\n",
    "    en_list = pad_sequence( en_list, padding_value=PAD_IDX)\n",
    "    return de_list, en_list\n"
   ]
  },
  {
   "cell_type": "code",
   "execution_count": 11,
   "metadata": {},
   "outputs": [],
   "source": [
    "train, valid, test = Multi30k('./.data', split=('train', 'valid', 'test'), language_pair=('de','en'))\n",
    "\n",
    "BATCH_SIZE = 64\n",
    "\n",
    "train_loader = DataLoader( train, batch_size=BATCH_SIZE, shuffle=False, collate_fn=collate_batch)\n",
    "valid_loader = DataLoader(valid, batch_size=BATCH_SIZE, shuffle=False, collate_fn=collate_batch)\n",
    "#test_loader = DataLoader(test, batch_size=BATCH_SIZE, shuffle=False, collate_fn=collate_batch)"
   ]
  },
  {
   "cell_type": "markdown",
   "metadata": {},
   "source": [
    "(참고) DataLaoder iteration 이 한번밖에 안되는 현상이 있는 것 같음...  각 batch 들의 sequence_length 들이 다른 경우에는 batch 가 한번 돌고 나면 유지되는게 아니라 없어지는 것일 수도 있고, torchtext 0.11 의 bug 일수도 있어서 이대로 놔두었다가 pytorch version 이 바뀌었을때 다시 한번 테스트 해보는 것으로 ...  다른 seq2seq code 들도 training loop 안에서 DataLoader 를 새로 부르고 있음 "
   ]
  },
  {
   "cell_type": "code",
   "execution_count": 12,
   "metadata": {},
   "outputs": [
    {
     "data": {
      "text/plain": [
       "'\\nimport time \\n\\nEPOCH = 10\\n\\nfor i in range(1, EPOCH+1):\\n    print(\"starting epoch\",i)\\n    for (src, dst) in train_loader:\\n        print(src.shape, dst.shape)\\n    time.sleep(0.5)\\n'"
      ]
     },
     "execution_count": 12,
     "metadata": {},
     "output_type": "execute_result"
    }
   ],
   "source": [
    "'''\n",
    "import time \n",
    "\n",
    "EPOCH = 10\n",
    "\n",
    "for i in range(1, EPOCH+1):\n",
    "    print(\"starting epoch\",i)\n",
    "    for (src, dst) in train_loader:\n",
    "        print(src.shape, dst.shape)\n",
    "    time.sleep(0.5)\n",
    "'''\n"
   ]
  },
  {
   "cell_type": "code",
   "execution_count": 13,
   "metadata": {},
   "outputs": [],
   "source": [
    "\n",
    "device = torch.device(\"cuda\" if torch.cuda.is_available() else \"cpu\")"
   ]
  },
  {
   "cell_type": "code",
   "execution_count": 14,
   "metadata": {},
   "outputs": [],
   "source": [
    "\n",
    "class Encoder(nn.Module):\n",
    "    def __init__(self, input_dim, emb_dim, hid_dim, n_layers, dropout):\n",
    "        super().__init__()\n",
    "        self.hid_dim = hid_dim\n",
    "        self.n_layers = n_layers\n",
    "        self.embedding = nn.Embedding(input_dim, emb_dim)\n",
    "        \n",
    "        self.rnn = nn.LSTM(emb_dim, hid_dim, n_layers, dropout = dropout)\n",
    "        self.dropout = nn.Dropout(dropout)\n",
    "        \n",
    "    def forward(self, src):\n",
    "        # batch_frist = False ... meaning input dimension would be [src_len, batch_len]\n",
    "        embedded = self.dropout(self.embedding(src))\n",
    "        \n",
    "        # embedded = [ src_len, batch_len, emb_dim]\n",
    "        outputs, (hidden, cell) = self.rnn(embedded)\n",
    "        \n",
    "        # outputs dim = [src_len(sequence len), batch_len, hidden_dim * n_direction(=1)]\n",
    "        # hidden dim = [ n_layers * n_directions, batch_size, hidden_dim ]\n",
    "        # cell dim = [ n_layers * n_directions, batch_size, hidden_dim]\n",
    "        # outputs are always from the top(last) layer\n",
    "        \n",
    "        return hidden, cell   # we don't need outputs as long as we don't use attention \n",
    "        \n",
    "        "
   ]
  },
  {
   "cell_type": "code",
   "execution_count": 15,
   "metadata": {},
   "outputs": [],
   "source": [
    "class Decoder(nn.Module):\n",
    "    def __init__(self, output_dim, emb_dim, hid_dim, n_layers, dropout):\n",
    "        super().__init__()\n",
    "        \n",
    "        self.output_dim = output_dim\n",
    "        self.hid_dim = hid_dim\n",
    "        self.n_layers = n_layers\n",
    "\n",
    "        self.embedding = nn.Embedding(output_dim, emb_dim)\n",
    "        self.rnn = nn.LSTM( emb_dim, hid_dim, n_layers, dropout = dropout)\n",
    "        self.fc_out = nn.Linear( hid_dim, output_dim)\n",
    "        self.dropout = nn.Dropout(dropout)\n",
    "        \n",
    "    def forward(self, input, hidden, cell):\n",
    "        # input = [batch_size]\n",
    "        # hidden = [ n_layers * n_directions, batch_size, hid_dim]\n",
    "        # cell = [ n_layers * n_directions, batch_size, hid_dim]\n",
    "        \n",
    "        input = input.unsqueeze(0)\n",
    "        # input dimension is now [1,batch_size]\n",
    "        \n",
    "        embedded = self.dropout(self.embedding(input))\n",
    "        \n",
    "        # embedded is now [1, batch_size, emb_dim]\n",
    "        \n",
    "        output, (hidden, cell) = self.rnn(embedded, (hidden,cell))\n",
    "        \n",
    "        # output = [ seq_len, batch_size, hid_dim * n_directions]\n",
    "        # hidden = [ n_layers * n_directions, batch_size, hid_dim]\n",
    "        # cell = [ n_layers * n_directions, batch_size, hid_dim]\n",
    "        \n",
    "        # seq_len and n_directions is 1 in the decoder ( why???)\n",
    "        # output = [ 1, batch_size, hid_dim]\n",
    "        # hidden = [ n_layers, batch_size, hid_dim]\n",
    "        # cell = [ n_layers, batch_size, hid_dim]\n",
    "        \n",
    "        prediction = self.fc_out(output.squeeze(0))\n",
    "        # precition dim = [batch_size, output_dim]\n",
    "        \n",
    "        return prediction, hidden, cell\n"
   ]
  },
  {
   "cell_type": "code",
   "execution_count": 16,
   "metadata": {},
   "outputs": [],
   "source": [
    "class Seq2Seq(nn.Module):\n",
    "    def __init__(self, encoder, decoder, device):\n",
    "        super().__init__()\n",
    "        \n",
    "        self.encoder = encoder\n",
    "        self.decoder = decoder\n",
    "        self.device = device\n",
    "        \n",
    "    def forward(self, src, trg, teacher_forcing_ratio = 0.5):\n",
    "        # src_dim = [src_len, batch_len]\n",
    "        # trg_dim = [trg_len, batch_len]\n",
    "        batch_size = trg.shape[1]\n",
    "        trg_len = trg.shape[0]\n",
    "        trg_vocab_size = self.decoder.output_dim\n",
    "        \n",
    "        outputs = torch.zeros(trg_len, batch_size, trg_vocab_size).to(self.device)\n",
    "        \n",
    "        hidden, cell = self.encoder(src)\n",
    "        input = trg[0,:]\n",
    "        \n",
    "        for t in range(1,trg_len):\n",
    "            output, hidden, cell = self.decoder(input, hidden, cell)\n",
    "            outputs[t] = output\n",
    "            \n",
    "            teacher_force = random.random() < teacher_forcing_ratio\n",
    "            top1 = output.argmax(1)\n",
    "            \n",
    "            input = trg[t] if teacher_force else top1\n",
    "        \n",
    "        return outputs\n"
   ]
  },
  {
   "cell_type": "code",
   "execution_count": 17,
   "metadata": {},
   "outputs": [],
   "source": [
    "\n",
    "INPUT_DIM = len(de_vocab)\n",
    "OUTPUT_DIM = len(en_vocab)\n",
    "ENC_EMB_DIM = 256\n",
    "DEC_EMB_DIM = 256\n",
    "HID_DIM = 512\n",
    "N_LAYERS = 2\n",
    "ENC_DROPOUT = 0.5\n",
    "DEC_DROPOUT = 0.5\n",
    "\n",
    "enc = Encoder(INPUT_DIM, ENC_EMB_DIM, HID_DIM, N_LAYERS, ENC_DROPOUT)\n",
    "dec = Decoder(OUTPUT_DIM, DEC_EMB_DIM, HID_DIM, N_LAYERS, DEC_DROPOUT)\n",
    "model = Seq2Seq(enc, dec, device).to(device)"
   ]
  },
  {
   "cell_type": "code",
   "execution_count": 18,
   "metadata": {},
   "outputs": [
    {
     "data": {
      "text/plain": [
       "Seq2Seq(\n",
       "  (encoder): Encoder(\n",
       "    (embedding): Embedding(8014, 256)\n",
       "    (rnn): LSTM(256, 512, num_layers=2, dropout=0.5)\n",
       "    (dropout): Dropout(p=0.5, inplace=False)\n",
       "  )\n",
       "  (decoder): Decoder(\n",
       "    (embedding): Embedding(6191, 256)\n",
       "    (rnn): LSTM(256, 512, num_layers=2, dropout=0.5)\n",
       "    (fc_out): Linear(in_features=512, out_features=6191, bias=True)\n",
       "    (dropout): Dropout(p=0.5, inplace=False)\n",
       "  )\n",
       ")"
      ]
     },
     "execution_count": 18,
     "metadata": {},
     "output_type": "execute_result"
    }
   ],
   "source": [
    "def init_weights(m):\n",
    "    for name, param in m.named_parameters():\n",
    "        nn.init.uniform_(param.data, -0.08, 0.08)\n",
    "        \n",
    "model.apply(init_weights)"
   ]
  },
  {
   "cell_type": "code",
   "execution_count": 19,
   "metadata": {},
   "outputs": [
    {
     "data": {
      "text/plain": [
       "14168879"
      ]
     },
     "execution_count": 19,
     "metadata": {},
     "output_type": "execute_result"
    }
   ],
   "source": [
    "def count_parameters(model):\n",
    "    return sum(p.numel() for p in model.parameters() if p.requires_grad)\n",
    "\n",
    "count_parameters(model)"
   ]
  },
  {
   "cell_type": "code",
   "execution_count": 20,
   "metadata": {},
   "outputs": [],
   "source": [
    "optimizer = optim.Adam(model.parameters())\n",
    "PAD_IDX = en_vocab['<pad>']\n",
    "\n",
    "criterion = nn.CrossEntropyLoss(ignore_index = PAD_IDX)"
   ]
  },
  {
   "cell_type": "code",
   "execution_count": 21,
   "metadata": {},
   "outputs": [],
   "source": [
    "\n",
    "def train( model, iterator, optimizer, criterion, clip):\n",
    "    \n",
    "    model.train()\n",
    "    epoch_loss = 0 \n",
    "    \n",
    "    for i, batch in enumerate(iterator):\n",
    "        src = batch[0].to(device)\n",
    "        trg = batch[1].to(device)\n",
    "        \n",
    "        optimizer.zero_grad()\n",
    "        \n",
    "        output = model(src, trg)\n",
    "        \n",
    "        # trg = [target_length , batch_len]\n",
    "        # output = [target_len, batch_len, output_dim]\n",
    "        \n",
    "        output_dim = output.shape[-1]\n",
    "        \n",
    "        output = output[1:].view(-1, output_dim)\n",
    "        trg = trg[1:].view(-1)\n",
    "        \n",
    "        loss = criterion(output, trg)\n",
    "        loss.backward()\n",
    "        \n",
    "        torch.nn.utils.clip_grad_norm_(model.parameters(), clip)\n",
    "        \n",
    "        optimizer.step()\n",
    "        \n",
    "        epoch_loss += loss.item()\n",
    "    return epoch_loss / len(iterator)\n",
    "        \n",
    "   "
   ]
  },
  {
   "cell_type": "code",
   "execution_count": 22,
   "metadata": {},
   "outputs": [],
   "source": [
    "def evaluate(model, iterator, criterion):\n",
    "    \n",
    "    model.eval()\n",
    "    \n",
    "    epoch_loss = 0\n",
    "    \n",
    "    with torch.no_grad():\n",
    "    \n",
    "        for i, batch in enumerate(iterator):\n",
    "\n",
    "            src = batch[0].to(device)\n",
    "            trg = batch[1].to(device)\n",
    "\n",
    "            output = model(src, trg, 0) #turn off teacher forcing\n",
    "\n",
    "            #trg = [trg len, batch size]\n",
    "            #output = [trg len, batch size, output dim]\n",
    "\n",
    "            output_dim = output.shape[-1]\n",
    "            \n",
    "            output = output[1:].view(-1, output_dim)\n",
    "            trg = trg[1:].view(-1)\n",
    "\n",
    "            #trg = [(trg len - 1) * batch size]\n",
    "            #output = [(trg len - 1) * batch size, output dim]\n",
    "\n",
    "            loss = criterion(output, trg)\n",
    "            \n",
    "            epoch_loss += loss.item()\n",
    "        \n",
    "    return epoch_loss / len(iterator)"
   ]
  },
  {
   "cell_type": "code",
   "execution_count": 23,
   "metadata": {},
   "outputs": [],
   "source": [
    "def epoch_time(start_time, end_time):\n",
    "    elapsed_time = end_time - start_time\n",
    "    elapsed_mins = int(elapsed_time / 60)\n",
    "    elapsed_secs = int(elapsed_time - (elapsed_mins * 60))\n",
    "    return elapsed_mins, elapsed_secs"
   ]
  },
  {
   "cell_type": "code",
   "execution_count": 24,
   "metadata": {},
   "outputs": [
    {
     "name": "stdout",
     "output_type": "stream",
     "text": [
      "Epoch: 01 | Time: 0m 41s\n",
      "\tTrain Loss: 4.648 | Train PPL: 104.410\n",
      "\t Val. Loss: 4.620 |  Val. PPL: 101.533\n",
      "Epoch: 02 | Time: 0m 41s\n",
      "\tTrain Loss: 3.956 | Train PPL:  52.250\n",
      "\t Val. Loss: 4.431 |  Val. PPL:  84.029\n",
      "Epoch: 03 | Time: 0m 42s\n",
      "\tTrain Loss: 3.694 | Train PPL:  40.188\n",
      "\t Val. Loss: 4.201 |  Val. PPL:  66.747\n",
      "Epoch: 04 | Time: 0m 41s\n",
      "\tTrain Loss: 3.510 | Train PPL:  33.437\n",
      "\t Val. Loss: 4.134 |  Val. PPL:  62.438\n",
      "Epoch: 05 | Time: 0m 41s\n",
      "\tTrain Loss: 3.317 | Train PPL:  27.585\n",
      "\t Val. Loss: 4.061 |  Val. PPL:  58.039\n",
      "Epoch: 06 | Time: 0m 41s\n",
      "\tTrain Loss: 3.161 | Train PPL:  23.590\n",
      "\t Val. Loss: 3.959 |  Val. PPL:  52.431\n",
      "Epoch: 07 | Time: 0m 41s\n",
      "\tTrain Loss: 2.996 | Train PPL:  20.009\n",
      "\t Val. Loss: 3.871 |  Val. PPL:  47.992\n",
      "Epoch: 08 | Time: 0m 42s\n",
      "\tTrain Loss: 2.862 | Train PPL:  17.491\n",
      "\t Val. Loss: 3.831 |  Val. PPL:  46.111\n",
      "Epoch: 09 | Time: 0m 42s\n",
      "\tTrain Loss: 2.729 | Train PPL:  15.321\n",
      "\t Val. Loss: 3.756 |  Val. PPL:  42.767\n",
      "Epoch: 10 | Time: 0m 42s\n",
      "\tTrain Loss: 2.628 | Train PPL:  13.843\n",
      "\t Val. Loss: 3.779 |  Val. PPL:  43.791\n",
      "Epoch: 11 | Time: 0m 41s\n",
      "\tTrain Loss: 2.509 | Train PPL:  12.299\n",
      "\t Val. Loss: 3.735 |  Val. PPL:  41.877\n",
      "Epoch: 12 | Time: 0m 42s\n",
      "\tTrain Loss: 2.404 | Train PPL:  11.063\n",
      "\t Val. Loss: 3.792 |  Val. PPL:  44.364\n",
      "Epoch: 13 | Time: 0m 41s\n",
      "\tTrain Loss: 2.322 | Train PPL:  10.200\n",
      "\t Val. Loss: 3.778 |  Val. PPL:  43.712\n",
      "Epoch: 14 | Time: 0m 41s\n",
      "\tTrain Loss: 2.246 | Train PPL:   9.449\n",
      "\t Val. Loss: 3.769 |  Val. PPL:  43.351\n",
      "Epoch: 15 | Time: 0m 41s\n",
      "\tTrain Loss: 2.156 | Train PPL:   8.632\n",
      "\t Val. Loss: 3.741 |  Val. PPL:  42.132\n",
      "Epoch: 16 | Time: 0m 41s\n",
      "\tTrain Loss: 2.070 | Train PPL:   7.922\n",
      "\t Val. Loss: 3.773 |  Val. PPL:  43.525\n",
      "Epoch: 17 | Time: 0m 41s\n",
      "\tTrain Loss: 2.000 | Train PPL:   7.386\n",
      "\t Val. Loss: 3.827 |  Val. PPL:  45.921\n",
      "Epoch: 18 | Time: 0m 41s\n",
      "\tTrain Loss: 1.933 | Train PPL:   6.908\n",
      "\t Val. Loss: 3.837 |  Val. PPL:  46.393\n",
      "Epoch: 19 | Time: 0m 41s\n",
      "\tTrain Loss: 1.863 | Train PPL:   6.445\n",
      "\t Val. Loss: 3.851 |  Val. PPL:  47.041\n",
      "Epoch: 20 | Time: 0m 41s\n",
      "\tTrain Loss: 1.798 | Train PPL:   6.040\n",
      "\t Val. Loss: 3.872 |  Val. PPL:  48.029\n"
     ]
    }
   ],
   "source": [
    "N_EPOCHS = 20\n",
    "CLIP = 1\n",
    "\n",
    "best_valid_loss = float('inf')\n",
    "\n",
    "for epoch in range(N_EPOCHS):\n",
    "    \n",
    "    start_time = time.time()\n",
    "    \n",
    "    train_iter = Multi30k('./.data', split=('train'), language_pair=('de','en'))\n",
    "    train_loader = DataLoader( train_iter, batch_size=BATCH_SIZE, shuffle=False, collate_fn=collate_batch)\n",
    "    \n",
    "    valid_iter = Multi30k('./.data', split=('valid'), language_pair=('de','en'))\n",
    "    valid_loader = DataLoader(valid_iter, batch_size=BATCH_SIZE, shuffle=False, collate_fn=collate_batch)\n",
    "    \n",
    "    train_loss = train(model, train_loader, optimizer, criterion, CLIP)\n",
    "    valid_loss = evaluate(model, valid_loader, criterion)\n",
    "    \n",
    "    end_time = time.time()\n",
    "    \n",
    "    epoch_mins, epoch_secs = epoch_time(start_time, end_time)\n",
    "    \n",
    "    if valid_loss < best_valid_loss:\n",
    "        best_valid_loss = valid_loss\n",
    "        torch.save(model.state_dict(), 'tut1-model.pt')\n",
    "    \n",
    "    print(f'Epoch: {epoch+1:02} | Time: {epoch_mins}m {epoch_secs}s')\n",
    "    print(f'\\tTrain Loss: {train_loss:.3f} | Train PPL: {math.exp(train_loss):7.3f}')\n",
    "    print(f'\\t Val. Loss: {valid_loss:.3f} |  Val. PPL: {math.exp(valid_loss):7.3f}')"
   ]
  },
  {
   "cell_type": "code",
   "execution_count": 25,
   "metadata": {},
   "outputs": [
    {
     "name": "stdout",
     "output_type": "stream",
     "text": [
      "| Test Loss: 3.737 | Test PPL:  41.986 |\n"
     ]
    }
   ],
   "source": [
    "model.load_state_dict(torch.load('tut1-model.pt'))\n",
    "\n",
    "test_iter = Multi30k('./.data', split=('test'), language_pair=('de','en'))\n",
    "test_loader = DataLoader(test_iter, batch_size=BATCH_SIZE, shuffle=False, collate_fn=collate_batch)\n",
    "    \n",
    "\n",
    "test_loss = evaluate(model, test_loader, criterion)\n",
    "\n",
    "print(f'| Test Loss: {test_loss:.3f} | Test PPL: {math.exp(test_loss):7.3f} |')"
   ]
  },
  {
   "cell_type": "code",
   "execution_count": null,
   "metadata": {},
   "outputs": [],
   "source": []
  }
 ],
 "metadata": {
  "kernelspec": {
   "display_name": "Python 3 (ipykernel)",
   "language": "python",
   "name": "python3"
  },
  "language_info": {
   "codemirror_mode": {
    "name": "ipython",
    "version": 3
   },
   "file_extension": ".py",
   "mimetype": "text/x-python",
   "name": "python",
   "nbconvert_exporter": "python",
   "pygments_lexer": "ipython3",
   "version": "3.8.10"
  }
 },
 "nbformat": 4,
 "nbformat_minor": 4
}
