{
 "cells": [
  {
   "cell_type": "markdown",
   "metadata": {},
   "source": [
    "## update: 2022-03-12\n",
    "pytorch 1.10 에서 trainloader 의 Iterator 가 reset 되지 않았던 문제가 있었던 것이 확실함...\n",
    "pytroch 1.11.0 으로 올라오면서 해당 에러가 수정된 것 같아서 trainloader 를 그때그때 새롭게 부르는 부분을 수정해야 함 "
   ]
  },
  {
   "cell_type": "markdown",
   "metadata": {},
   "source": [
    "seq2seq 에서 Attention 구현은 꽤나 복잡합니다. \n",
    "\n",
    "* seq2seq 에서 Attention 을 어떻게 계산하는지에 대해서는 아래의 youtube 를 보시면 기본개념에 대해서 이해하기 수월합니다.\n",
    "\n",
    "https://www.youtube.com/watch?v=WsQLdu2JMgI\n",
    "\n",
    "* 네트웍의 연결구조가 코드를 봐서 쉽게 이해가 안될수도 있습니다. attention network 구조가 단순히 encoder/decoder 구조로만 이루어진 seq2seq 이랑 비교해서 상당히 복잡합니다.  계산된 attention weight 값이 rnn cell 의 input embedding 에 합쳐지기도 하고, rnn 에서 나온 출력값이 최종 출력을 위해서 linear-softmax 로 들어갈때도 같이 concatenate 됩니다. 다음장에 나오는 transformer 에서도 내부적으로 많은 residual connection 을 사용합니다. \n",
    "\n",
    "https://pytorch.org/tutorials/intermediate/seq2seq_translation_tutorial.html\n",
    "\n",
    "\n",
    "* 아래의 코드는 seq2seq with attention 구현으로 가장 널리 알려지고, 복제된(?) bentrevett 의 구현을 이용했습니다. \n",
    "\n",
    "https://github.com/bentrevett/pytorch-seq2seq/blob/master/3%20-%20Neural%20Machine%20Translation%20by%20Jointly%20Learning%20to%20Align%20and%20Translate.ipynb\n",
    "\n",
    "위 구현체에서 dimension 을 이해하는데 약간의 어려움을 주는 부분인 encoder 에서의 bidirectional-RNN 을 unidirectional-RNN 으로 만들었습니다.    encoder 와 decoder 와 hidden dimension 을 갖도록 만들었다고 보시면 되어요.  ( 원논문에 encoder 부분만 bidirectional 로 정의되어 있어서 따라한 것 같습니다.)"
   ]
  },
  {
   "cell_type": "code",
   "execution_count": 1,
   "metadata": {},
   "outputs": [
    {
     "name": "stderr",
     "output_type": "stream",
     "text": [
      "/home/chester/.local/lib/python3.8/site-packages/tqdm/auto.py:22: TqdmWarning: IProgress not found. Please update jupyter and ipywidgets. See https://ipywidgets.readthedocs.io/en/stable/user_install.html\n",
      "  from .autonotebook import tqdm as notebook_tqdm\n"
     ]
    }
   ],
   "source": [
    "import torch\n",
    "import torch.nn as nn\n",
    "import torch.optim as optim\n",
    "\n",
    "from torchtext.datasets import Multi30k\n",
    "from torchtext.vocab import build_vocab_from_iterator\n",
    "from torchtext.data.utils import get_tokenizer\n",
    "from torch.nn.utils.rnn import pad_sequence\n",
    "from torch.utils.data import DataLoader\n",
    "import torch.nn.functional as F\n",
    "\n",
    "import spacy\n",
    "import numpy as np\n",
    "\n",
    "import random\n",
    "import math\n",
    "import time"
   ]
  },
  {
   "cell_type": "code",
   "execution_count": 2,
   "metadata": {},
   "outputs": [],
   "source": [
    "SEED = 1234\n",
    "random.seed(SEED)\n",
    "np.random.seed(SEED)\n",
    "torch.manual_seed(SEED)\n",
    "torch.cuda.manual_seed(SEED)\n",
    "torch.backends.cudnn.deterministic = True"
   ]
  },
  {
   "cell_type": "code",
   "execution_count": 3,
   "metadata": {},
   "outputs": [],
   "source": [
    "tokenizer_en = get_tokenizer('spacy', language='en_core_web_sm')\n",
    "tokenizer_de = get_tokenizer('spacy', language='de_core_news_sm')"
   ]
  },
  {
   "cell_type": "code",
   "execution_count": 4,
   "metadata": {},
   "outputs": [],
   "source": [
    "\n",
    "def yield_tokens_en(data_iter):\n",
    "    for data in data_iter:\n",
    "        yield tokenizer_en(data[1].rstrip('\\n'))\n",
    "        \n",
    "def yield_tokens_de(data_iter):\n",
    "    for data in data_iter:\n",
    "        yield tokenizer_de(data[0].rstrip('\\n'))\n",
    "        \n",
    "    "
   ]
  },
  {
   "cell_type": "code",
   "execution_count": 5,
   "metadata": {},
   "outputs": [
    {
     "name": "stderr",
     "output_type": "stream",
     "text": [
      "/home/chester/.local/lib/python3.8/site-packages/torch/utils/data/datapipes/utils/common.py:24: UserWarning: Lambda function is not supported for pickle, please use regular python function or functools.partial instead.\n",
      "  warnings.warn(\n",
      "/home/chester/.local/lib/python3.8/site-packages/torch/utils/data/datapipes/iter/selecting.py:54: UserWarning: Lambda function is not supported for pickle, please use regular python function or functools.partial instead.\n",
      "  warnings.warn(\"Lambda function is not supported for pickle, please use \"\n",
      "/home/chester/.local/lib/python3.8/site-packages/torch/utils/data/datapipes/iter/combining.py:180: UserWarning: Some child DataPipes are not exhausted when __iter__ is called. We are resetting the buffer and each child DataPipe will read from the start again.\n",
      "  warnings.warn(\"Some child DataPipes are not exhausted when __iter__ is called. We are resetting \"\n"
     ]
    }
   ],
   "source": [
    "train, valid, test = Multi30k('./.data', split=('train', 'valid', 'test'), language_pair=('de','en'))\n",
    "en_vocab = build_vocab_from_iterator(yield_tokens_en(train), min_freq=2, specials=['<unk>', '<pad>', '<sos>', '<eos>'])\n",
    "de_vocab = build_vocab_from_iterator(yield_tokens_de(train), min_freq=2, specials=['<unk>', '<pad>', '<sos>', '<eos>'])"
   ]
  },
  {
   "cell_type": "code",
   "execution_count": 6,
   "metadata": {},
   "outputs": [],
   "source": [
    "en_vocab.set_default_index(en_vocab['<unk>'])\n",
    "de_vocab.set_default_index(de_vocab['<unk>'])"
   ]
  },
  {
   "cell_type": "code",
   "execution_count": 7,
   "metadata": {},
   "outputs": [
    {
     "name": "stdout",
     "output_type": "stream",
     "text": [
      "6191\n",
      "8014\n"
     ]
    }
   ],
   "source": [
    "print(len(en_vocab))\n",
    "print(len(de_vocab))"
   ]
  },
  {
   "cell_type": "code",
   "execution_count": 8,
   "metadata": {},
   "outputs": [
    {
     "name": "stdout",
     "output_type": "stream",
     "text": [
      "0 1 2 3\n"
     ]
    }
   ],
   "source": [
    "PAD_IDX = en_vocab['<pad>']\n",
    "SOS_IDX = en_vocab['<sos>']\n",
    "EOS_IDX = en_vocab['<eos>']\n",
    "UNK_IDX = en_vocab['<unk>']\n",
    "\n",
    "print(UNK_IDX, PAD_IDX, SOS_IDX, EOS_IDX)"
   ]
  },
  {
   "cell_type": "code",
   "execution_count": 9,
   "metadata": {},
   "outputs": [],
   "source": [
    "en_text_pipeline = lambda x : en_vocab(tokenizer_en(x))\n",
    "de_text_pipeline = lambda x : de_vocab(tokenizer_de(x))"
   ]
  },
  {
   "cell_type": "code",
   "execution_count": 10,
   "metadata": {},
   "outputs": [],
   "source": [
    "def collate_batch(batch):\n",
    "    de_list, en_list = [], []\n",
    "    for data in batch:\n",
    "        processed_de = torch.tensor( de_text_pipeline(data[0]), dtype=torch.int64)\n",
    "        processed_en = torch.tensor( en_text_pipeline(data[1]), dtype=torch.int64)\n",
    "        de_list.append( torch.cat( [torch.tensor([SOS_IDX]), processed_de, torch.tensor([EOS_IDX])], dim=0))\n",
    "        en_list.append( torch.cat( [torch.tensor([SOS_IDX]), processed_en, torch.tensor([EOS_IDX])], dim=0))\n",
    "    de_list = pad_sequence( de_list, padding_value=PAD_IDX)\n",
    "    en_list = pad_sequence( en_list, padding_value=PAD_IDX)\n",
    "    return de_list, en_list\n"
   ]
  },
  {
   "cell_type": "code",
   "execution_count": 11,
   "metadata": {},
   "outputs": [],
   "source": [
    "train, valid, test = Multi30k('./.data', split=('train', 'valid', 'test'), language_pair=('de','en'))\n",
    "\n",
    "BATCH_SIZE = 64\n",
    "\n",
    "train_loader = DataLoader( train, batch_size=BATCH_SIZE, shuffle=False, collate_fn=collate_batch)\n",
    "valid_loader = DataLoader(valid, batch_size=BATCH_SIZE, shuffle=False, collate_fn=collate_batch)\n",
    "test_loader = DataLoader(test, batch_size=BATCH_SIZE, shuffle=False, collate_fn=collate_batch)"
   ]
  },
  {
   "cell_type": "code",
   "execution_count": 12,
   "metadata": {},
   "outputs": [],
   "source": [
    "device = torch.device(\"cuda\" if torch.cuda.is_available() else \"cpu\")"
   ]
  },
  {
   "cell_type": "markdown",
   "metadata": {},
   "source": [
    "여기서부터 Encoder, Attention, Decoder 를 한번 만들어보도록 하자.\n",
    "주의할점은 지난 10과에서 구현했던 seq2seq 와 마찬가지로 Encoder 에서 RNN 계산을 할때는 src 문장의 모든 sequence 를 (seq_len, batch_len, hidden_dim ) 으로 넣었다면 Decoder 를 계산할때는 매 스텝의 RNN output 을 가지고 attention 을 계산하고, 바로 전 output 의 출력값을 input 으로 넣어줘야 하기 때문에 Decoder 에 입력되는 tensor 의 dimension 이 (1, batch_len, hidden_dim ) 이 된다는 것이다. 이 부분에 혼돈이 없도록 하는데 주의가 필요하다."
   ]
  },
  {
   "cell_type": "code",
   "execution_count": 13,
   "metadata": {},
   "outputs": [],
   "source": [
    "class Encoder(nn.Module):\n",
    "    def __init__(self, input_dim, emb_dim, enc_hid_dim, dec_hid_dim, dropout):\n",
    "        super().__init__()\n",
    "        \n",
    "        self.embedding = nn.Embedding(input_dim, emb_dim)\n",
    "        self.rnn = nn.GRU(emb_dim, enc_hid_dim)\n",
    "        self.fc = nn.Linear(enc_hid_dim, dec_hid_dim)\n",
    "        self.dropout= nn.Dropout(dropout)\n",
    "        \n",
    "    def forward(self, src):\n",
    "        # src = [src_len, N ]\n",
    "        \n",
    "        embedded = self.dropout(self.embedding(src))\n",
    "        # embedded : [ src_len, N, emb_dim ]\n",
    "        \n",
    "        outputs, hidden = self.rnn(embedded)\n",
    "        # outputs : [ src_len, N, enc_hid_dim ] \n",
    "        # hidden : [ n_layers * n_direction, N, enc_hid_dim ]\n",
    "        \n",
    "        last_hidden_for_attention = torch.tanh(self.fc(hidden.squeeze(0)))\n",
    "        # last_hidden_for_attention = [ N, dec_hid_dim ] \n",
    "        \n",
    "        # outputs : [ src_len, N, enc_hid_dim ] \n",
    "        # last_hidden_for_attention  : [ N, dec_hid_dim ] \n",
    "        \n",
    "        return outputs, last_hidden_for_attention\n"
   ]
  },
  {
   "cell_type": "code",
   "execution_count": 14,
   "metadata": {},
   "outputs": [],
   "source": [
    "class Attention(nn.Module):\n",
    "    def __init__(self, enc_hid_dim, dec_hid_dim):\n",
    "        super().__init__()\n",
    "        \n",
    "        self.attn = nn.Linear( enc_hid_dim + dec_hid_dim, dec_hid_dim )\n",
    "        self.v = nn.Linear( dec_hid_dim, 1, bias=False)\n",
    "        \n",
    "    def forward(self, hidden, encoder_outputs):\n",
    "        \n",
    "        # hidden : [ batch_size, dec_hid_dim ]\n",
    "        # encoder_outputs : [ src_len, N, enc_hid_dim ]\n",
    "        \n",
    "        batch_size = encoder_outputs.shape[1]\n",
    "        src_len = encoder_outputs.shape[0]\n",
    "        \n",
    "        # decoder 의 hidden ouput 을 encoder 의 src_len 갯수만큼 늘림 \n",
    "        hidden = hidden.unsqueeze(1).repeat(1, src_len, 1)\n",
    "        # hidden : [ N, src_len, dec_hid_dim ] 이 되는 것에 주의!\n",
    "\n",
    "        encoder_outputs = encoder_outputs.permute(1,0,2) \n",
    "        # hidden 의 dimension 인 [ N , src_len, enc_hid_dim ] 으로 맞추어 준다....  통상적으로 [ src_len, N, enc_hid_dim ] 으로 되어 있음\n",
    "\n",
    "        concat = torch.cat((hidden, encoder_outputs), dim=2)\n",
    "        \n",
    "        energy = torch.tanh(self.attn(concat))\n",
    "        # hidden 과 encoder_outs 에 있는 hidden 값을 concatenate 해서 넣어줌, \n",
    "        \n",
    "        # energy : [ N, src_len, dec_hid_dim ] \n",
    "        \n",
    "        attention = self.v(energy).squeeze(2) \n",
    "        # hid_dim 으로 되어 있는 값을 하나의 값으로 weighted sum 을 해줌...\n",
    "        # 그리고 나서 맨 마지막에 있는 불필요한 dimension 을 떼어줘서 softmax 에 넣을 준비를 함 \n",
    "        \n",
    "        alpha = F.softmax( attention, dim=1 )\n",
    "        \n",
    "        return alpha\n"
   ]
  },
  {
   "cell_type": "code",
   "execution_count": 15,
   "metadata": {},
   "outputs": [],
   "source": [
    "class Decoder(nn.Module):\n",
    "    def __init__(self, output_dim, emb_dim, enc_hid_dim, dec_hid_dim, dropout, attention):\n",
    "        super().__init__()\n",
    "        self.output_dim = output_dim\n",
    "        self.attention = attention\n",
    "        \n",
    "        self.embedding = nn.Embedding(output_dim, emb_dim) \n",
    "        self.rnn = nn.GRU( enc_hid_dim + emb_dim, dec_hid_dim )\n",
    "        self.fc_out = nn.Linear( enc_hid_dim + dec_hid_dim + emb_dim, output_dim)\n",
    "        self.dropout = nn.Dropout(dropout)\n",
    "        \n",
    "    def forward(self, input, hidden, encoder_outputs):\n",
    "        \n",
    "        # input : [ N ]  ( encoder 와 달리 하나의 단어씩 들어오는 것에 주의 : class Seq2seq 의 forward() 를 참고\n",
    "        # hidden : [ N, dec_hid_dim ]\n",
    "        # encoder_outputs : [ src_len, N, enc_hid_dim ] \n",
    "        \n",
    "        input = input.unsqueeze(0)\n",
    "        # input : [ 1, N ] ... 이렇게 차원을 맞추어 주어야 pytorch nn.Embedding 등 함수에 넣을 수 있다. \n",
    "        \n",
    "        embedded = self.dropout(self.embedding(input))\n",
    "        # embedded : [ 1, N, emb_dim ]\n",
    "        \n",
    "        a = self.attention(hidden, encoder_outputs)\n",
    "        # a : [ N, src_len ] .....   SOFTMAX 값이 들어가 있음\n",
    "        \n",
    "        a = a.unsqueeze(1)  \n",
    "        # a : [ N, 1, src_len ]\n",
    "        \n",
    "        encoder_outputs = encoder_outputs.permute(1, 0, 2)\n",
    "        \n",
    "        # encoder_outputs : [ N, src_len, enc_hid_dim ] \n",
    "\n",
    "        weighted = torch.bmm(a, encoder_outputs)\n",
    "        # weighted : [ N, 1, enc_hid_dim ] \n",
    "        \n",
    "        weighted = weighted.permute(1,0,2)\n",
    "        # weighted : [ 1, N, enc_hid_dim ] 으로 다시 변경함\n",
    "        \n",
    "        rnn_input = torch.cat( (embedded, weighted), dim=2 )\n",
    "        # rnn_input [ 1, N, enc_hid_dim + emb_dim ] \n",
    "        \n",
    "        output, hidden = self.rnn(rnn_input, hidden.unsqueeze(0))\n",
    "        # output : [ 1, N, dec_hid_dim ] \n",
    "        # hidden : [ 1, N, dec_hid_dim ] \n",
    "        \n",
    "        # thus\n",
    "        assert(output==hidden).all()\n",
    "        \n",
    "        # final outcome 을 내는 linear layer 에 넣기 위해서 trg_len 에 해당하는 0-dimension 을 모두 제거함 \n",
    "        # 즉, [ 1, N, dec_hid_dim ] --> [ N, dec_hid_dim ] \n",
    "\n",
    "        embedded = embedded.squeeze(0)\n",
    "        output = output.squeeze(0)\n",
    "        weighted = weighted.squeeze(0)\n",
    "        \n",
    "        prediction = self.fc_out( torch.cat( ( output, weighted, embedded), dim=1))\n",
    "        \n",
    "        # prediction : [ N, output_dim ] .... 이제 여기에 argmax 를 붙히면 \n",
    "        return prediction, hidden.squeeze(0)\n",
    "    "
   ]
  },
  {
   "cell_type": "code",
   "execution_count": 16,
   "metadata": {},
   "outputs": [],
   "source": [
    "class Seq2Seq(nn.Module):\n",
    "    def __init__(self, encoder, decoder, device):\n",
    "        super().__init__()\n",
    "        \n",
    "        self.encoder = encoder\n",
    "        self.decoder = decoder\n",
    "        self.device = device\n",
    "        \n",
    "    def forward(self, src, trg, teacher_forcing_ratio = 0.5 ):\n",
    "        # src : [ src_len, N ]\n",
    "        # trg : [ trg_len, N ]\n",
    "        \n",
    "        batch_size = src.shape[1]\n",
    "        trg_len = trg.shape[0]\n",
    "        trg_vocab_size = self.decoder.output_dim\n",
    "        \n",
    "        # 전체 output 을 저장할 placehoder 만들어두기 \n",
    "        outputs = torch.zeros(trg_len, batch_size, trg_vocab_size).to(self.device)\n",
    "        \n",
    "        encoder_outputs, hidden = self.encoder(src)\n",
    "        \n",
    "        # decoder 에 넣을 첫번때 input 은 SOS token 이 되어야 함\n",
    "        input = trg[0,:] \n",
    "        # input : [ N ] \n",
    "        \n",
    "        for t in range(1, trg_len):  \n",
    "            \n",
    "            output, hidden = self.decoder(input, hidden, encoder_outputs)\n",
    "            \n",
    "            outputs[t] = output\n",
    "            \n",
    "            teacher_force = random.random() < teacher_forcing_ratio\n",
    "            \n",
    "            top1 = output.argmax(1)\n",
    "            \n",
    "            input = trg[t] if teacher_force else top1\n",
    "            \n",
    "        return outputs"
   ]
  },
  {
   "cell_type": "code",
   "execution_count": 17,
   "metadata": {},
   "outputs": [],
   "source": [
    "INPUT_DIM = len(de_vocab)\n",
    "OUTPUT_DIM = len(en_vocab)\n",
    "ENC_EMB_DIM = 256\n",
    "DEC_EMB_DIM = 256\n",
    "ENC_HID_DIM = 512\n",
    "DEC_HID_DIM = 512\n",
    "ENC_DROPOUT = 0.5\n",
    "DEC_DROPOUT = 0.5\n",
    "\n",
    "attn = Attention(ENC_HID_DIM, DEC_HID_DIM)\n",
    "enc = Encoder(INPUT_DIM, ENC_EMB_DIM, ENC_HID_DIM, DEC_HID_DIM, ENC_DROPOUT)\n",
    "dec = Decoder(OUTPUT_DIM, DEC_EMB_DIM, ENC_HID_DIM, DEC_HID_DIM, DEC_DROPOUT,attn)\n",
    "\n",
    "model = Seq2Seq(enc, dec, device).to(device)\n",
    "\n"
   ]
  },
  {
   "cell_type": "code",
   "execution_count": 18,
   "metadata": {},
   "outputs": [
    {
     "data": {
      "text/plain": [
       "Seq2Seq(\n",
       "  (encoder): Encoder(\n",
       "    (embedding): Embedding(8014, 256)\n",
       "    (rnn): GRU(256, 512)\n",
       "    (fc): Linear(in_features=512, out_features=512, bias=True)\n",
       "    (dropout): Dropout(p=0.5, inplace=False)\n",
       "  )\n",
       "  (decoder): Decoder(\n",
       "    (attention): Attention(\n",
       "      (attn): Linear(in_features=1024, out_features=512, bias=True)\n",
       "      (v): Linear(in_features=512, out_features=1, bias=False)\n",
       "    )\n",
       "    (embedding): Embedding(6191, 256)\n",
       "    (rnn): GRU(768, 512)\n",
       "    (fc_out): Linear(in_features=1280, out_features=6191, bias=True)\n",
       "    (dropout): Dropout(p=0.5, inplace=False)\n",
       "  )\n",
       ")"
      ]
     },
     "execution_count": 18,
     "metadata": {},
     "output_type": "execute_result"
    }
   ],
   "source": [
    "def init_weights(m):\n",
    "    for name, param in m.named_parameters():\n",
    "        if 'weight' in name:\n",
    "            nn.init.normal_(param.data, mean=0, std=0.01)\n",
    "        else:\n",
    "            nn.init.constant_(param.data, 0)\n",
    "            \n",
    "model.apply(init_weights)"
   ]
  },
  {
   "cell_type": "code",
   "execution_count": 19,
   "metadata": {},
   "outputs": [
    {
     "name": "stdout",
     "output_type": "stream",
     "text": [
      "The model has 15,506,991 trainable parameters\n"
     ]
    }
   ],
   "source": [
    "def count_parameters(model):\n",
    "    return sum(p.numel() for p in model.parameters() if p.requires_grad)\n",
    "\n",
    "print(f'The model has {count_parameters(model):,} trainable parameters')"
   ]
  },
  {
   "cell_type": "code",
   "execution_count": 20,
   "metadata": {},
   "outputs": [],
   "source": [
    "optimizer = optim.Adam(model.parameters())\n"
   ]
  },
  {
   "cell_type": "code",
   "execution_count": 21,
   "metadata": {},
   "outputs": [],
   "source": [
    "PAD_IDX = en_vocab['<pad>']\n",
    "\n",
    "criterion = nn.CrossEntropyLoss(ignore_index = PAD_IDX)"
   ]
  },
  {
   "cell_type": "code",
   "execution_count": 22,
   "metadata": {},
   "outputs": [],
   "source": [
    "\n",
    "def train( model, iterator, optimizer, criterion, clip):\n",
    "    \n",
    "    model.train()\n",
    "    epoch_loss = 0 \n",
    "    iter_len = 0 \n",
    "    \n",
    "    for i, batch in enumerate(iterator):\n",
    "        src = batch[0].to(device)\n",
    "        trg = batch[1].to(device)\n",
    "        \n",
    "        optimizer.zero_grad()\n",
    "        \n",
    "        output = model(src, trg)\n",
    "        \n",
    "        # trg = [target_length , batch_len]\n",
    "        # output = [target_len, batch_len, output_dim]\n",
    "        \n",
    "        output_dim = output.shape[-1]\n",
    "        \n",
    "        output = output[1:].view(-1, output_dim)\n",
    "        trg = trg[1:].view(-1)\n",
    "        \n",
    "        loss = criterion(output, trg)\n",
    "        loss.backward()\n",
    "        \n",
    "        torch.nn.utils.clip_grad_norm_(model.parameters(), clip)\n",
    "        \n",
    "        optimizer.step()\n",
    "        \n",
    "        epoch_loss += loss.item()\n",
    "        iter_len += 1\n",
    "    return epoch_loss /iter_len\n",
    "        \n",
    "   "
   ]
  },
  {
   "cell_type": "code",
   "execution_count": 23,
   "metadata": {},
   "outputs": [],
   "source": [
    "def evaluate(model, iterator, criterion):\n",
    "    \n",
    "    model.eval()\n",
    "    \n",
    "    epoch_loss = 0\n",
    "    iter_len = 0 \n",
    "    \n",
    "    with torch.no_grad():\n",
    "    \n",
    "        for i, batch in enumerate(iterator):\n",
    "\n",
    "            src = batch[0].to(device)\n",
    "            trg = batch[1].to(device)\n",
    "\n",
    "            output = model(src, trg, 0) #turn off teacher forcing\n",
    "\n",
    "            #trg = [trg len, batch size]\n",
    "            #output = [trg len, batch size, output dim]\n",
    "\n",
    "            output_dim = output.shape[-1]\n",
    "            \n",
    "            output = output[1:].view(-1, output_dim)\n",
    "            trg = trg[1:].view(-1)\n",
    "\n",
    "            #trg = [(trg len - 1) * batch size]\n",
    "            #output = [(trg len - 1) * batch size, output dim]\n",
    "\n",
    "            loss = criterion(output, trg)\n",
    "            \n",
    "            epoch_loss += loss.item()\n",
    "            iter_len += 1\n",
    "        \n",
    "    return epoch_loss /iter_len"
   ]
  },
  {
   "cell_type": "code",
   "execution_count": 24,
   "metadata": {},
   "outputs": [],
   "source": [
    "def epoch_time(start_time, end_time):\n",
    "    elapsed_time = end_time - start_time\n",
    "    elapsed_mins = int(elapsed_time / 60)\n",
    "    elapsed_secs = int(elapsed_time - (elapsed_mins * 60))\n",
    "    return elapsed_mins, elapsed_secs"
   ]
  },
  {
   "cell_type": "code",
   "execution_count": null,
   "metadata": {},
   "outputs": [],
   "source": []
  },
  {
   "cell_type": "code",
   "execution_count": 25,
   "metadata": {
    "scrolled": true
   },
   "outputs": [
    {
     "name": "stdout",
     "output_type": "stream",
     "text": [
      "Epoch: 01 | Time: 0m 57s\n",
      "\tTrain Loss: 4.689 | Train PPL: 108.711\n",
      "\t Val. Loss: 4.614 |  Val. PPL: 100.876\n",
      "Epoch: 02 | Time: 0m 54s\n",
      "\tTrain Loss: 3.708 | Train PPL:  40.789\n",
      "\t Val. Loss: 3.974 |  Val. PPL:  53.185\n",
      "Epoch: 03 | Time: 0m 55s\n",
      "\tTrain Loss: 3.034 | Train PPL:  20.785\n",
      "\t Val. Loss: 3.585 |  Val. PPL:  36.039\n",
      "Epoch: 04 | Time: 0m 55s\n",
      "\tTrain Loss: 2.573 | Train PPL:  13.109\n",
      "\t Val. Loss: 3.386 |  Val. PPL:  29.551\n",
      "Epoch: 05 | Time: 0m 55s\n",
      "\tTrain Loss: 2.242 | Train PPL:   9.412\n",
      "\t Val. Loss: 3.426 |  Val. PPL:  30.740\n",
      "Epoch: 06 | Time: 0m 55s\n",
      "\tTrain Loss: 1.987 | Train PPL:   7.293\n",
      "\t Val. Loss: 3.402 |  Val. PPL:  30.036\n",
      "Epoch: 07 | Time: 0m 55s\n",
      "\tTrain Loss: 1.784 | Train PPL:   5.953\n",
      "\t Val. Loss: 3.427 |  Val. PPL:  30.793\n",
      "Epoch: 08 | Time: 0m 55s\n",
      "\tTrain Loss: 1.635 | Train PPL:   5.129\n",
      "\t Val. Loss: 3.440 |  Val. PPL:  31.202\n",
      "Epoch: 09 | Time: 0m 55s\n",
      "\tTrain Loss: 1.520 | Train PPL:   4.570\n",
      "\t Val. Loss: 3.526 |  Val. PPL:  33.999\n",
      "Epoch: 10 | Time: 0m 55s\n",
      "\tTrain Loss: 1.411 | Train PPL:   4.100\n",
      "\t Val. Loss: 3.573 |  Val. PPL:  35.626\n",
      "Epoch: 11 | Time: 0m 55s\n",
      "\tTrain Loss: 1.328 | Train PPL:   3.772\n",
      "\t Val. Loss: 3.616 |  Val. PPL:  37.176\n",
      "Epoch: 12 | Time: 0m 55s\n",
      "\tTrain Loss: 1.267 | Train PPL:   3.550\n",
      "\t Val. Loss: 3.681 |  Val. PPL:  39.701\n",
      "Epoch: 13 | Time: 0m 55s\n",
      "\tTrain Loss: 1.175 | Train PPL:   3.238\n",
      "\t Val. Loss: 3.731 |  Val. PPL:  41.716\n",
      "Epoch: 14 | Time: 0m 55s\n",
      "\tTrain Loss: 1.133 | Train PPL:   3.105\n",
      "\t Val. Loss: 3.772 |  Val. PPL:  43.463\n",
      "Epoch: 15 | Time: 0m 55s\n",
      "\tTrain Loss: 1.097 | Train PPL:   2.994\n",
      "\t Val. Loss: 3.847 |  Val. PPL:  46.834\n"
     ]
    }
   ],
   "source": [
    "N_EPOCHS = 15\n",
    "CLIP = 1\n",
    "\n",
    "best_valid_loss = float('inf')\n",
    "\n",
    "for epoch in range(N_EPOCHS):\n",
    "    \n",
    "    start_time = time.time()\n",
    "\n",
    "    train_loss = train(model, train_loader, optimizer, criterion, CLIP)\n",
    "    valid_loss = evaluate(model, valid_loader, criterion)\n",
    "    \n",
    "    end_time = time.time()\n",
    "    \n",
    "    epoch_mins, epoch_secs = epoch_time(start_time, end_time)\n",
    "    \n",
    "    if valid_loss < best_valid_loss:\n",
    "        best_valid_loss = valid_loss\n",
    "        torch.save(model.state_dict(), 'tut1-model.pt')\n",
    "    \n",
    "    print(f'Epoch: {epoch+1:02} | Time: {epoch_mins}m {epoch_secs}s')\n",
    "    print(f'\\tTrain Loss: {train_loss:.3f} | Train PPL: {math.exp(train_loss):7.3f}')\n",
    "    print(f'\\t Val. Loss: {valid_loss:.3f} |  Val. PPL: {math.exp(valid_loss):7.3f}')"
   ]
  },
  {
   "cell_type": "code",
   "execution_count": 26,
   "metadata": {},
   "outputs": [
    {
     "name": "stdout",
     "output_type": "stream",
     "text": [
      "| Test Loss: 3.345 | Test PPL:  28.370 |\n"
     ]
    }
   ],
   "source": [
    "model.load_state_dict(torch.load('tut1-model.pt'))\n",
    "\n",
    "\n",
    "test_loss = evaluate(model, test_loader, criterion)\n",
    "\n",
    "print(f'| Test Loss: {test_loss:.3f} | Test PPL: {math.exp(test_loss):7.3f} |')"
   ]
  },
  {
   "cell_type": "code",
   "execution_count": null,
   "metadata": {},
   "outputs": [],
   "source": []
  },
  {
   "cell_type": "code",
   "execution_count": null,
   "metadata": {},
   "outputs": [],
   "source": []
  },
  {
   "cell_type": "code",
   "execution_count": null,
   "metadata": {},
   "outputs": [],
   "source": []
  },
  {
   "cell_type": "code",
   "execution_count": null,
   "metadata": {},
   "outputs": [],
   "source": []
  }
 ],
 "metadata": {
  "kernelspec": {
   "display_name": "Python 3 (ipykernel)",
   "language": "python",
   "name": "python3"
  },
  "language_info": {
   "codemirror_mode": {
    "name": "ipython",
    "version": 3
   },
   "file_extension": ".py",
   "mimetype": "text/x-python",
   "name": "python",
   "nbconvert_exporter": "python",
   "pygments_lexer": "ipython3",
   "version": "3.8.10"
  }
 },
 "nbformat": 4,
 "nbformat_minor": 4
}
