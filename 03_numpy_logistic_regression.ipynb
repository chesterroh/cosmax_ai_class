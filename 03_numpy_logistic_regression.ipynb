{
 "cells": [
  {
   "cell_type": "markdown",
   "metadata": {},
   "source": [
    "지난번 01_mnist_dataset_numpy 노트북을 성공적으로 수행하신 분들이라면 mnist dataset 중에서 0,1 로만 이루어진 x_train, y_train 을 만드셨을텐데요. 오늘을 이를 이용해서 numpy 를 가지고 logistic regression 을 한번 구현해보도록 합시다. ( 지난번 linear regression 과 마찬가지로 마지막에는 pytorch 를 이용해서도 한번 구현해보도록 하겠습니다. )\n",
    "\n",
    "그럼 먼저 데이터셋을 한번 준비해볼까요? 지난번 \n"
   ]
  },
  {
   "cell_type": "code",
   "execution_count": 1,
   "metadata": {},
   "outputs": [
    {
     "name": "stdout",
     "output_type": "stream",
     "text": [
      "http://yann.lecun.com/exdb/mnist/ downloaded train-images-idx3-ubyte.gz\n",
      "http://yann.lecun.com/exdb/mnist/ downloaded t10k-images-idx3-ubyte.gz\n",
      "http://yann.lecun.com/exdb/mnist/ downloaded train-labels-idx1-ubyte.gz\n",
      "http://yann.lecun.com/exdb/mnist/ downloaded t10k-labels-idx1-ubyte.gz\n",
      "download has been completed.\n",
      "(60000, 28, 28)\n",
      "(60000, 1)\n",
      "(10000, 28, 28)\n",
      "(10000, 1)\n"
     ]
    }
   ],
   "source": [
    "import numpy as np\n",
    "from urllib import request\n",
    "import matplotlib.pyplot as plt\n",
    "import gzip\n",
    "\n",
    "filename = [\n",
    "[\"x_train\", \"train-images-idx3-ubyte.gz\"],\n",
    "[\"x_test\", \"t10k-images-idx3-ubyte.gz\"],\n",
    "[\"y_train\", \"train-labels-idx1-ubyte.gz\"],\n",
    "[\"y_test\", \"t10k-labels-idx1-ubyte.gz\" ],\n",
    "]\n",
    "\n",
    "base_url = \"http://yann.lecun.com/exdb/mnist/\"\n",
    "\n",
    "# CHALLENGE 연습문제 ( 해보고 싶은 분들은 만들어보세요. )\n",
    "# 매번 Lecun 교수님의 홈페이지에 가서 dataset 을 다운로드 해오는 것은 큰 낭비입니다. \n",
    "# 이미 다운로드한 파일들이 있을때 다운로드를 안해도 되도록 코드를 수정해봅시다 :)\n",
    "\n",
    "\n",
    "# filename list 에서 하나씩 file 이름들을 가져옵니다. \n",
    "for n in filename:\n",
    "    request.urlretrieve(base_url+n[1],n[1])\n",
    "    print(\"%s downloaded \" % base_url+n[1])\n",
    "\n",
    "print(\"download has been completed.\")\n",
    "\n",
    "# dictionary 에 'x_train', 'y_train', 'x_test', 'y_test' 라는 key 로 저장합니다.\n",
    "mnist = {}\n",
    "\n",
    "# train, test image 를 가져와서 dictionary 에 넣습니다.  x_train, y_train 에 넣습니다. \n",
    "for name in filename[:2]:\n",
    "    with gzip.open(name[1], 'rb') as f:\n",
    "        mnist[name[0]] = np.frombuffer(f.read(), np.uint8, offset=16).reshape(-1,28,28)\n",
    "        \n",
    "for name in filename[2:]:\n",
    "    with gzip.open(name[1], 'rb') as f:\n",
    "        mnist[name[0]] = np.frombuffer(f.read(),np.uint8, offset=8).reshape(-1,1)\n",
    "        \n",
    "# training data, label 의 shape 을 살펴봅시다. \n",
    "print(mnist['x_train'].shape)\n",
    "print(mnist['y_train'].shape)\n",
    "\n",
    "# test data, label 의 shape 을 살펴볼까요?\n",
    "print(mnist['x_test'].shape)\n",
    "print(mnist['y_test'].shape)\n",
    "\n"
   ]
  },
  {
   "cell_type": "markdown",
   "metadata": {},
   "source": [
    "데이터넷은 0 에서 9 까지의 모든 숫자들을 담고 있습니다. 여기에서 2,4 만으로 이루어져 있는 dataset 을 만들어 볼까요?  ( 원래 0, 1 로 데이터셋을 만들었는데, 두개의 변별력이 너무 없어서 우리의 허름한 logistic regression model 이 너무 학습이 안되길래 2,4 로 변경했습니다.  Real World AI 는 깔끔하게 정리된 tutorial 이랑 너무 많이 다릅니다. 다양한 시행착오를 계속해서 쌓아두지 않으면 큰 낭패를 보기 쉽습니다. )\n",
    "x_train, y_train, x_test, y_test 를 만들어 봅시다."
   ]
  },
  {
   "cell_type": "code",
   "execution_count": 2,
   "metadata": {},
   "outputs": [
    {
     "name": "stdout",
     "output_type": "stream",
     "text": [
      "(11800, 28, 28) (11800, 1)\n",
      "(2014, 28, 28) (2014, 1)\n"
     ]
    }
   ],
   "source": [
    "def dataset_filter( x, y ):  \n",
    "    mask_2 = ( y == 2 )\n",
    "    mask_4 = ( y == 4 ) \n",
    "    mask = mask_2 + mask_4\n",
    "    mask = mask.T\n",
    "    mask = mask[0]  # 역설적이면 rank-1 row vector 로 변경함 \n",
    "    # 2,4 인 데이터들만 꺼내서 새로운 numpy array 를 구성합니다. \n",
    "    x_filtered = x[mask,:]\n",
    "    y_filtered = y[mask,:]\n",
    "    # 숫자 2 의 레이블을 0, 숫자 4의 레이블을 1 로 바꾸어줍니다. (logistic regression 이니까요.)\n",
    "    y_filtered[ np.where(y_filtered==2)] = 0\n",
    "    y_filtered[ np.where(y_filtered==4)] = 1\n",
    "    return x_filtered, y_filtered\n",
    "\n",
    "x_train, y_train = dataset_filter( mnist['x_train'], mnist['y_train'])\n",
    "x_test, y_test = dataset_filter( mnist['x_test'], mnist['y_test'])\n",
    "\n",
    "print(x_train.shape, y_train.shape)\n",
    "print(x_test.shape, y_test.shape)"
   ]
  },
  {
   "cell_type": "markdown",
   "metadata": {},
   "source": [
    "총 60,000 개의 데이터셋에서 0,1 데이터만 꺼내니까  training set 은 12,665개, test set은 2,115 개의 데이터만 남는군요. 제대로 처리가 되었는지 테스트해볼까요?"
   ]
  },
  {
   "cell_type": "code",
   "execution_count": 3,
   "metadata": {},
   "outputs": [
    {
     "data": {
      "image/png": "[encoded data removed]",
      "text/plain": [
       "<Figure size 432x288 with 1 Axes>"
      ]
     },
     "metadata": {
      "needs_background": "light"
     },
     "output_type": "display_data"
    },
    {
     "name": "stdout",
     "output_type": "stream",
     "text": [
      "[1]\n"
     ]
    }
   ],
   "source": [
    "import matplotlib.pyplot as plt\n",
    "\n",
    "# 1000 번째 index 에 들어있는 데이터를 한번 출력해봅시다. \n",
    "img = x_train[1000,:]\n",
    "plt.imshow(img)\n",
    "plt.show()\n",
    "\n",
    "# Label 과 매치하는지 살펴볼까요? \n",
    "print(y_train[1000])"
   ]
  },
  {
   "cell_type": "markdown",
   "metadata": {},
   "source": [
    "자 이제 numpy 를 이용해서 dataset 준비는 제대로 완료되었습니다. 이제 logistic regression 을 구현해보도록 합시다.\n",
    "\n",
    "28 x 28 이미지로 되어있는 2차원의 이미지를 28 * 28 (784) 개의 1D array 로 한번 Flatten 시켜볼까요? 2차원, 3차원으로 구성되어 있는 데이터를 1차원의 column vector 로 쭉 펼치는 과정을 Flatten 한다고 이야기합니다. 나중에 Neural Net 에서 Convolutional Neural Network 에서 Fully Connected Layer 로 연결할때 Flatten 을 사용하게 됩니다. "
   ]
  },
  {
   "cell_type": "code",
   "execution_count": 4,
   "metadata": {},
   "outputs": [
    {
     "name": "stdout",
     "output_type": "stream",
     "text": [
      "(11800, 28, 28) (11800, 1)\n",
      "(2014, 28, 28) (2014, 1)\n",
      "(784, 11800) (1, 11800)\n",
      "(784, 2014) (1, 2014)\n"
     ]
    }
   ],
   "source": [
    "# 0~255 로 되어 있는 값을 0~1 사이로 normalize 해줍니다.\n",
    "x_train = x_train / 255.0\n",
    "x_test = x_test / 255.0\n",
    "\n",
    "print(x_train.shape, y_train.shape)\n",
    "print(x_test.shape, y_test.shape)\n",
    "\n",
    "# dataset 의 dimension 을  ( n_x * m ), label 의 dimension 을 ( 1 * m) 으로 변경합니다.\n",
    "# 왜 이렇게 만드는지는 '이론교육자료'를 참고하도록 합시다. :)  matrix dimension 맞추기가 머리가 아파오기 시작하시죠 ㅎㅎㅎ \n",
    "x_train, y_train = x_train.reshape(-1,28*28).T, y_train.T\n",
    "x_test, y_test = x_test.reshape(-1,28*28).T, y_test.T\n",
    "\n",
    "print(x_train.shape, y_train.shape)\n",
    "print(x_test.shape, y_test.shape)"
   ]
  },
  {
   "cell_type": "markdown",
   "metadata": {},
   "source": [
    "이제 Logistic regression 의 본격적인 training 을 시작해볼까요.\n",
    "\n",
    "__( 여기 즈음에서 Logistic Regression 의 이론교육자료를 첨부할 예정입니다. \n",
    "  이론교육자료는 아직 만들지를 않아서 만들고 나면 이곳에 링크를 첨부해두도록 하겠습니다. )__\n",
    "\n",
    "입력하는 데이터셋의 feature 의 갯수는 X1, X2, ...., X784 까지 총 784 개이고, training dataset 의 갯수는 12,665 개가 되겠네요.  training dataset 의 용량을 계산해보면 ( 12665 * 784 bytes 인데 ) 약 9MB 정도밖에 안하네요. 따로 mini-batch 를 나눌필요없이 전체의 dataset 을 하나의 epoch 으로 다 처리하는데 무리가 없을 것 같네요.\n",
    "\n",
    "입력데이터의 feature dimension 이 784 이기 때문에, weight 는 784 개의 column vector 를 만들면 되겠고, bias 는 real number 1 개만 있으면 되겠네요. \n",
    "\n",
    "__( mini-batch 의 개념은 hidden layer 가 존재하는 제대로 된 neural network 을 만들때 구현해보도록 하겠습니다. )__"
   ]
  },
  {
   "cell_type": "code",
   "execution_count": 5,
   "metadata": {
    "scrolled": true
   },
   "outputs": [
    {
     "name": "stdout",
     "output_type": "stream",
     "text": [
      "epoch: 0, loss: 152781.607446\n",
      "epoch: 1, loss: 152498.768295\n",
      "epoch: 2, loss: 152219.698167\n",
      "epoch: 3, loss: 151944.365508\n",
      "epoch: 4, loss: 151672.738728\n",
      "epoch: 5, loss: 151404.786207\n",
      "epoch: 6, loss: 151140.476306\n",
      "epoch: 7, loss: 150879.777370\n",
      "epoch: 8, loss: 150622.657739\n",
      "epoch: 9, loss: 150369.085754\n",
      "epoch: 10, loss: 150119.029764\n",
      "epoch: 11, loss: 149872.458136\n",
      "epoch: 12, loss: 149629.339257\n",
      "epoch: 13, loss: 149389.641545\n",
      "epoch: 14, loss: 149153.333453\n",
      "epoch: 15, loss: 148920.383478\n",
      "epoch: 16, loss: 148690.760167\n",
      "epoch: 17, loss: 148464.432120\n",
      "epoch: 18, loss: 148241.368002\n",
      "epoch: 19, loss: 148021.536544\n",
      "epoch: 20, loss: 147804.906553\n",
      "epoch: 21, loss: 147591.446913\n",
      "epoch: 22, loss: 147381.126597\n",
      "epoch: 23, loss: 147173.914665\n",
      "epoch: 24, loss: 146969.780278\n",
      "epoch: 25, loss: 146768.692694\n",
      "epoch: 26, loss: 146570.621282\n",
      "epoch: 27, loss: 146375.535520\n",
      "epoch: 28, loss: 146183.405005\n",
      "epoch: 29, loss: 145994.199453\n",
      "epoch: 30, loss: 145807.888709\n",
      "epoch: 31, loss: 145624.442746\n",
      "epoch: 32, loss: 145443.831673\n",
      "epoch: 33, loss: 145266.025738\n",
      "epoch: 34, loss: 145090.995332\n",
      "epoch: 35, loss: 144918.710993\n",
      "epoch: 36, loss: 144749.143411\n",
      "epoch: 37, loss: 144582.263428\n",
      "epoch: 38, loss: 144418.042046\n",
      "epoch: 39, loss: 144256.450428\n",
      "epoch: 40, loss: 144097.459902\n",
      "epoch: 41, loss: 143941.041964\n",
      "epoch: 42, loss: 143787.168279\n",
      "epoch: 43, loss: 143635.810688\n",
      "epoch: 44, loss: 143486.941209\n",
      "epoch: 45, loss: 143340.532037\n",
      "epoch: 46, loss: 143196.555551\n",
      "epoch: 47, loss: 143054.984312\n",
      "epoch: 48, loss: 142915.791070\n",
      "epoch: 49, loss: 142778.948762\n",
      "epoch: 50, loss: 142644.430517\n",
      "epoch: 51, loss: 142512.209656\n",
      "epoch: 52, loss: 142382.259696\n",
      "epoch: 53, loss: 142254.554348\n",
      "epoch: 54, loss: 142129.067524\n",
      "epoch: 55, loss: 142005.773333\n",
      "epoch: 56, loss: 141884.646087\n",
      "epoch: 57, loss: 141765.660301\n",
      "epoch: 58, loss: 141648.790691\n",
      "epoch: 59, loss: 141534.012181\n",
      "epoch: 60, loss: 141421.299899\n",
      "epoch: 61, loss: 141310.629180\n",
      "epoch: 62, loss: 141201.975568\n",
      "epoch: 63, loss: 141095.314814\n",
      "epoch: 64, loss: 140990.622880\n",
      "epoch: 65, loss: 140887.875937\n",
      "epoch: 66, loss: 140787.050366\n",
      "epoch: 67, loss: 140688.122761\n",
      "epoch: 68, loss: 140591.069924\n",
      "epoch: 69, loss: 140495.868872\n",
      "epoch: 70, loss: 140402.496833\n",
      "epoch: 71, loss: 140310.931244\n",
      "epoch: 72, loss: 140221.149758\n",
      "epoch: 73, loss: 140133.130239\n",
      "epoch: 74, loss: 140046.850763\n",
      "epoch: 75, loss: 139962.289616\n",
      "epoch: 76, loss: 139879.425299\n",
      "epoch: 77, loss: 139798.236522\n",
      "epoch: 78, loss: 139718.702209\n",
      "epoch: 79, loss: 139640.801492\n",
      "epoch: 80, loss: 139564.513714\n",
      "epoch: 81, loss: 139489.818430\n",
      "epoch: 82, loss: 139416.695402\n",
      "epoch: 83, loss: 139345.124603\n",
      "epoch: 84, loss: 139275.086213\n",
      "epoch: 85, loss: 139206.560620\n",
      "epoch: 86, loss: 139139.528419\n",
      "epoch: 87, loss: 139073.970412\n",
      "epoch: 88, loss: 139009.867603\n",
      "epoch: 89, loss: 138947.201205\n",
      "epoch: 90, loss: 138885.952631\n",
      "epoch: 91, loss: 138826.103500\n",
      "epoch: 92, loss: 138767.635629\n",
      "epoch: 93, loss: 138710.531039\n",
      "epoch: 94, loss: 138654.771949\n",
      "epoch: 95, loss: 138600.340776\n",
      "epoch: 96, loss: 138547.220137\n",
      "epoch: 97, loss: 138495.392843\n",
      "epoch: 98, loss: 138444.841902\n",
      "epoch: 99, loss: 138395.550515\n",
      "epoch: 100, loss: 138347.502076\n",
      "epoch: 101, loss: 138300.680171\n",
      "epoch: 102, loss: 138255.068576\n",
      "epoch: 103, loss: 138210.651256\n",
      "epoch: 104, loss: 138167.412366\n",
      "epoch: 105, loss: 138125.336244\n",
      "epoch: 106, loss: 138084.407416\n",
      "epoch: 107, loss: 138044.610590\n",
      "epoch: 108, loss: 138005.930658\n",
      "epoch: 109, loss: 137968.352691\n",
      "epoch: 110, loss: 137931.861942\n",
      "epoch: 111, loss: 137896.443841\n",
      "epoch: 112, loss: 137862.083995\n",
      "epoch: 113, loss: 137828.768187\n",
      "epoch: 114, loss: 137796.482372\n",
      "epoch: 115, loss: 137765.212680\n",
      "epoch: 116, loss: 137734.945411\n",
      "epoch: 117, loss: 137705.667033\n",
      "epoch: 118, loss: 137677.364185\n",
      "epoch: 119, loss: 137650.023670\n",
      "epoch: 120, loss: 137623.632458\n",
      "epoch: 121, loss: 137598.177681\n",
      "epoch: 122, loss: 137573.646634\n",
      "epoch: 123, loss: 137550.026773\n",
      "epoch: 124, loss: 137527.305711\n",
      "epoch: 125, loss: 137505.471220\n",
      "epoch: 126, loss: 137484.511229\n",
      "epoch: 127, loss: 137464.413819\n",
      "epoch: 128, loss: 137445.167226\n",
      "epoch: 129, loss: 137426.759837\n",
      "epoch: 130, loss: 137409.180189\n",
      "epoch: 131, loss: 137392.416966\n",
      "epoch: 132, loss: 137376.459001\n",
      "epoch: 133, loss: 137361.295271\n",
      "epoch: 134, loss: 137346.914898\n",
      "epoch: 135, loss: 137333.307145\n",
      "epoch: 136, loss: 137320.461417\n",
      "epoch: 137, loss: 137308.367257\n",
      "epoch: 138, loss: 137297.014348\n",
      "epoch: 139, loss: 137286.392508\n",
      "epoch: 140, loss: 137276.491689\n",
      "epoch: 141, loss: 137267.301980\n",
      "epoch: 142, loss: 137258.813597\n",
      "epoch: 143, loss: 137251.016891\n",
      "epoch: 144, loss: 137243.902339\n",
      "epoch: 145, loss: 137237.460547\n",
      "epoch: 146, loss: 137231.682246\n",
      "epoch: 147, loss: 137226.558294\n",
      "epoch: 148, loss: 137222.079669\n",
      "epoch: 149, loss: 137218.237474\n",
      "epoch: 150, loss: 137215.022930\n",
      "epoch: 151, loss: 137212.427379\n",
      "epoch: 152, loss: 137210.442279\n",
      "epoch: 153, loss: 137209.059205\n",
      "epoch: 154, loss: 137208.269847\n",
      "epoch: 155, loss: 137208.066009\n",
      "epoch: 156, loss: 137208.439604\n",
      "epoch: 157, loss: 137209.382661\n",
      "epoch: 158, loss: 137210.887313\n",
      "epoch: 159, loss: 137212.945806\n",
      "epoch: 160, loss: 137215.550490\n",
      "epoch: 161, loss: 137218.693820\n",
      "epoch: 162, loss: 137222.368356\n",
      "epoch: 163, loss: 137226.566763\n",
      "epoch: 164, loss: 137231.281804\n",
      "epoch: 165, loss: 137236.506345\n",
      "epoch: 166, loss: 137242.233349\n",
      "epoch: 167, loss: 137248.455879\n",
      "epoch: 168, loss: 137255.167093\n",
      "epoch: 169, loss: 137262.360246\n",
      "epoch: 170, loss: 137270.028685\n",
      "epoch: 171, loss: 137278.165851\n",
      "epoch: 172, loss: 137286.765277\n",
      "epoch: 173, loss: 137295.820588\n",
      "epoch: 174, loss: 137305.325495\n",
      "epoch: 175, loss: 137315.273799\n",
      "epoch: 176, loss: 137325.659390\n",
      "epoch: 177, loss: 137336.476241\n",
      "epoch: 178, loss: 137347.718412\n",
      "epoch: 179, loss: 137359.380045\n",
      "epoch: 180, loss: 137371.455366\n",
      "epoch: 181, loss: 137383.938681\n",
      "epoch: 182, loss: 137396.824380\n",
      "epoch: 183, loss: 137410.106927\n",
      "epoch: 184, loss: 137423.780870\n",
      "epoch: 185, loss: 137437.840830\n",
      "epoch: 186, loss: 137452.281506\n",
      "epoch: 187, loss: 137467.097673\n",
      "epoch: 188, loss: 137482.284179\n",
      "epoch: 189, loss: 137497.835945\n",
      "epoch: 190, loss: 137513.747965\n",
      "epoch: 191, loss: 137530.015306\n",
      "epoch: 192, loss: 137546.633101\n",
      "epoch: 193, loss: 137563.596556\n",
      "epoch: 194, loss: 137580.900944\n",
      "epoch: 195, loss: 137598.541606\n",
      "epoch: 196, loss: 137616.513948\n",
      "epoch: 197, loss: 137634.813445\n",
      "epoch: 198, loss: 137653.435633\n",
      "epoch: 199, loss: 137672.376113\n"
     ]
    }
   ],
   "source": [
    "# sigmoid 함수를 정의합니다. \n",
    "def sigmoid_f( x ):\n",
    "    return 1/(1+np.exp(-x))\n",
    "# cross-entropy loss 함수를 정의합니다. \n",
    "def loss_f( a, y ):\n",
    "    return -(np.dot(y.T,np.log(a)) + np.dot((1 - y.T),np.log(1- a)))\n",
    "    \n",
    "# hyper parameter 를 정의합니다. \n",
    "epoch = 200\n",
    "learning_rate = 0.00005\n",
    "m = len(x_train)  # dataset 의 갯수를 의미합니다. \n",
    "\n",
    "# 학습을 시킬 parameter  를 준비합니다. \n",
    "w = np.random.normal(0, 0.1 ,size=(784,1)) # np.random.random((784,1))\n",
    "b = np.zeros((1,1)) # np.random.random((1))\n",
    "\n",
    "loss_trail = []\n",
    "\n",
    "for i in range(epoch):\n",
    "    z = np.dot(w.T, x_train) + b\n",
    "    a = sigmoid_f(z)\n",
    "    loss = loss_f(a,y_train)\n",
    "    loss_m = np.sum(loss)/m\n",
    "    print(\"epoch: %d, loss: %f\" %(i,loss_m))\n",
    "    loss_trail.append(loss_m)\n",
    "    dz = a - y_train\n",
    "    db = 1/m * np.sum(dz)\n",
    "    dw = 1/m * np.dot(x_train, dz.T)\n",
    "    \n",
    "    w = w - learning_rate * dw\n",
    "    b = b - learning_rate * db\n",
    "    "
   ]
  },
  {
   "cell_type": "markdown",
   "metadata": {},
   "source": [
    "loss 가 제대로 떨어지는지 한번 그래프를 그려보도록 합시다."
   ]
  },
  {
   "cell_type": "code",
   "execution_count": 8,
   "metadata": {},
   "outputs": [
    {
     "data": {
      "image/png": "[encoded data removed]",
      "text/plain": [
       "<Figure size 432x288 with 1 Axes>"
      ]
     },
     "metadata": {
      "needs_background": "light"
     },
     "output_type": "display_data"
    }
   ],
   "source": [
    "plt.plot(range(len(loss_trail)), loss_trail)\n",
    "plt.ylabel('loss')\n",
    "plt.xlabel('epoch')\n",
    "plt.show()"
   ]
  },
  {
   "cell_type": "markdown",
   "metadata": {},
   "source": [
    "x_test, y_test 로 준비해놓은 test set 을 이용해서 학습이 얼마나 잘 되었는지 한번 확인해보도록 합시다. \n",
    "\n",
    "잠깐 질문! 위 모델에서 우리가 학습을 한 parameter 는 무엇이고, 그 parameter 의 dimension 을 얼마일까요? \n",
    "\n",
    "그럼 우리가 학습한 모델을 이용해서 test 를 한번 해보도록 합시다. "
   ]
  },
  {
   "cell_type": "code",
   "execution_count": 35,
   "metadata": {},
   "outputs": [
    {
     "name": "stdout",
     "output_type": "stream",
     "text": [
      "(784, 1) (1, 1)\n",
      "(1, 2014) (1, 2014)\n",
      "0.7279046673286991\n"
     ]
    },
    {
     "name": "stderr",
     "output_type": "stream",
     "text": [
      "/usr/local/lib/python3.6/dist-packages/ipykernel_launcher.py:3: RuntimeWarning: overflow encountered in exp\n",
      "  This is separate from the ipykernel package so we can avoid doing imports until\n"
     ]
    }
   ],
   "source": [
    "# w,b 의 dimension 을 확인해보도록 합시다.\n",
    "print(w.shape, b.shape)\n",
    "\n",
    "out = sigmoid_f( np.dot(w.T, x_test) + b)\n",
    "#  out 의 값과 y_test 의 dimension 은 당연히 같아야 되겠지요?\n",
    "print(out.shape, y_test.shape)\n",
    "\n",
    "# sigmoid 출력값중에 0.5 를 넘는 곳은 True 로 marking 합니다. \n",
    "out = out >= 0.5\n",
    "y_test = y_test == 1\n",
    "\n",
    "# 몇개를 제대로 예측했는지 한번 살펴볼까요? \n",
    "true_prediction = ( out == y_test )\n",
    "print( np.sum( true_prediction ) / y_test.shape[1] )"
   ]
  },
  {
   "cell_type": "markdown",
   "metadata": {},
   "source": []
  },
  {
   "cell_type": "code",
   "execution_count": 33,
   "metadata": {},
   "outputs": [
    {
     "name": "stdout",
     "output_type": "stream",
     "text": [
      "(2014, 28, 28)\n",
      "False\n"
     ]
    },
    {
     "data": {
      "image/png": "[encoded data removed]",
      "text/plain": [
       "<Figure size 432x288 with 1 Axes>"
      ]
     },
     "metadata": {
      "needs_background": "light"
     },
     "output_type": "display_data"
    }
   ],
   "source": [
    "x_test *= 255.0\n",
    "\n",
    "images = (x_test.T).reshape(-1,28,28)\n",
    "print(images.shape)\n",
    "# 1000 번째 index 에 들어있는 데이터를 한번 출력해봅시다. \n",
    "img = images[100,:]\n",
    "print(y_test[0][100])\n",
    "plt.imshow(img)\n",
    "plt.show()\n",
    "\n"
   ]
  },
  {
   "cell_type": "markdown",
   "metadata": {},
   "source": []
  },
  {
   "cell_type": "code",
   "execution_count": null,
   "metadata": {},
   "outputs": [],
   "source": []
  },
  {
   "cell_type": "markdown",
   "metadata": {},
   "source": []
  },
  {
   "cell_type": "code",
   "execution_count": null,
   "metadata": {},
   "outputs": [],
   "source": []
  },
  {
   "cell_type": "markdown",
   "metadata": {},
   "source": []
  },
  {
   "cell_type": "code",
   "execution_count": null,
   "metadata": {},
   "outputs": [],
   "source": []
  },
  {
   "cell_type": "markdown",
   "metadata": {},
   "source": []
  },
  {
   "cell_type": "code",
   "execution_count": null,
   "metadata": {},
   "outputs": [],
   "source": []
  },
  {
   "cell_type": "markdown",
   "metadata": {},
   "source": []
  },
  {
   "cell_type": "code",
   "execution_count": null,
   "metadata": {},
   "outputs": [],
   "source": []
  },
  {
   "cell_type": "markdown",
   "metadata": {},
   "source": []
  }
 ],
 "metadata": {
  "kernelspec": {
   "display_name": "Python 3",
   "language": "python",
   "name": "python3"
  },
  "language_info": {
   "codemirror_mode": {
    "name": "ipython",
    "version": 3
   },
   "file_extension": ".py",
   "mimetype": "text/x-python",
   "name": "python",
   "nbconvert_exporter": "python",
   "pygments_lexer": "ipython3",
   "version": "3.6.9"
  }
 },
 "nbformat": 4,
 "nbformat_minor": 4
}
