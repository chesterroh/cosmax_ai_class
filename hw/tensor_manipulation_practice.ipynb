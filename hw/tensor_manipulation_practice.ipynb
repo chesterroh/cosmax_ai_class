{
 "cells": [
  {
   "cell_type": "code",
   "execution_count": 1,
   "metadata": {},
   "outputs": [],
   "source": [
    "\n",
    "import torch \n",
    "import numpy as np\n",
    "\n",
    "device = \"cuda\" if torch.cuda.is_available() else \"cpu\""
   ]
  },
  {
   "cell_type": "code",
   "execution_count": 11,
   "metadata": {},
   "outputs": [
    {
     "data": {
      "text/plain": [
       "(torch.float64, True)"
      ]
     },
     "execution_count": 11,
     "metadata": {},
     "output_type": "execute_result"
    }
   ],
   "source": [
    "t = torch.tensor([ [1,2,3], [4,5,6]], dtype=torch.float64, requires_grad=True)\n",
    "t.dtype, t.requires_grad"
   ]
  },
  {
   "cell_type": "code",
   "execution_count": 14,
   "metadata": {},
   "outputs": [],
   "source": [
    "x = torch.empty(size=(3,3))\n",
    "x = torch.zeros((3,3))\n",
    "x = torch.rand((3,3))\n",
    "x = torch.eye(5,5)   # 이것만 tuple 로 안받음\n",
    "x = torch.arange(start=5, end=10, step=0.1, dtype=torch.float32)\n"
   ]
  },
  {
   "cell_type": "code",
   "execution_count": 18,
   "metadata": {},
   "outputs": [
    {
     "data": {
      "text/plain": [
       "array([[0., 0., 0., 0., 0.],\n",
       "       [0., 0., 0., 0., 0.],\n",
       "       [0., 0., 0., 0., 0.],\n",
       "       [0., 0., 0., 0., 0.],\n",
       "       [0., 0., 0., 0., 0.]])"
      ]
     },
     "execution_count": 18,
     "metadata": {},
     "output_type": "execute_result"
    }
   ],
   "source": [
    "np_array = np.zeros((5,5))\n",
    "t = torch.from_numpy(np_array)\n",
    "np_array_again = t.numpy()\n",
    "np_array_again"
   ]
  },
  {
   "cell_type": "code",
   "execution_count": 19,
   "metadata": {},
   "outputs": [],
   "source": [
    "\n",
    "x = torch.tensor([1,2,3])\n",
    "y = torch.tensor([4,5,6])"
   ]
  },
  {
   "cell_type": "code",
   "execution_count": 23,
   "metadata": {},
   "outputs": [
    {
     "name": "stdout",
     "output_type": "stream",
     "text": [
      "32\n"
     ]
    }
   ],
   "source": [
    "x+y\n",
    "print(x.dot(y).item())"
   ]
  },
  {
   "cell_type": "code",
   "execution_count": 33,
   "metadata": {},
   "outputs": [],
   "source": [
    "\n",
    "x = torch.tensor([[10,2,3],[4,5,6]])"
   ]
  },
  {
   "cell_type": "code",
   "execution_count": 34,
   "metadata": {},
   "outputs": [
    {
     "name": "stdout",
     "output_type": "stream",
     "text": [
      "tensor([14,  7,  9])\n",
      "tensor([15, 15])\n"
     ]
    }
   ],
   "source": [
    "print(x.sum(dim=0))\n",
    "print(x.sum(dim=1))"
   ]
  },
  {
   "cell_type": "code",
   "execution_count": 36,
   "metadata": {},
   "outputs": [
    {
     "name": "stdout",
     "output_type": "stream",
     "text": [
      "tensor([[10,  2,  3],\n",
      "        [ 4,  5,  6]])\n",
      "tensor([0, 1, 1])\n",
      "tensor([0, 2])\n"
     ]
    }
   ],
   "source": [
    "print(x)\n",
    "z = torch.argmax(x, dim=0)\n",
    "print(z)\n",
    "z = torch.argmax(x, dim=1)\n",
    "print(z)"
   ]
  },
  {
   "cell_type": "code",
   "execution_count": 37,
   "metadata": {},
   "outputs": [],
   "source": [
    "\n",
    "batch_size = 5\n",
    "features = 5\n",
    "x = torch.rand( (batch_size, features))"
   ]
  },
  {
   "cell_type": "code",
   "execution_count": 38,
   "metadata": {},
   "outputs": [
    {
     "name": "stdout",
     "output_type": "stream",
     "text": [
      "tensor([[0.3330, 0.2248, 0.5147, 0.4257, 0.3134],\n",
      "        [0.3780, 0.4209, 0.4243, 0.1780, 0.8176],\n",
      "        [0.7328, 0.3134, 0.4411, 0.5940, 0.9559],\n",
      "        [0.5063, 0.1026, 0.5342, 0.2428, 0.2374],\n",
      "        [0.4999, 0.5789, 0.9938, 0.6708, 0.2934]])\n"
     ]
    }
   ],
   "source": [
    "print(x)"
   ]
  },
  {
   "cell_type": "code",
   "execution_count": 47,
   "metadata": {},
   "outputs": [
    {
     "name": "stdout",
     "output_type": "stream",
     "text": [
      "torch.Size([5, 5])\n",
      "torch.Size([5])\n",
      "tensor([0.3330, 0.2248, 0.5147, 0.4257, 0.3134])\n",
      "tensor([[0.3330],\n",
      "        [0.3780],\n",
      "        [0.7328],\n",
      "        [0.5063],\n",
      "        [0.4999]])\n"
     ]
    }
   ],
   "source": [
    "print(x.shape)\n",
    "print(x[0].shape)\n",
    "print(x[0])\n",
    "print(x[:,0].unsqueeze(1))"
   ]
  },
  {
   "cell_type": "code",
   "execution_count": 51,
   "metadata": {},
   "outputs": [
    {
     "name": "stdout",
     "output_type": "stream",
     "text": [
      "tensor([0.7328, 0.3134, 0.4411])\n",
      "0.2248018980026245\n"
     ]
    }
   ],
   "source": [
    "print(x[2, 0:3])\n",
    "print(x[0,1].item())"
   ]
  },
  {
   "cell_type": "code",
   "execution_count": 54,
   "metadata": {},
   "outputs": [],
   "source": [
    "x = torch.arange(9)\n",
    "x = x.view(3,3)\n",
    "x = x.view(-1,3)"
   ]
  },
  {
   "cell_type": "code",
   "execution_count": 69,
   "metadata": {},
   "outputs": [
    {
     "name": "stdout",
     "output_type": "stream",
     "text": [
      "tensor([[[0, 1, 2],\n",
      "         [3, 4, 5],\n",
      "         [6, 7, 8]]])\n",
      "tensor([[[0, 1, 2]],\n",
      "\n",
      "        [[3, 4, 5]],\n",
      "\n",
      "        [[6, 7, 8]]])\n",
      "tensor([[[0],\n",
      "         [1],\n",
      "         [2]],\n",
      "\n",
      "        [[3],\n",
      "         [4],\n",
      "         [5]],\n",
      "\n",
      "        [[6],\n",
      "         [7],\n",
      "         [8]]])\n"
     ]
    }
   ],
   "source": [
    "print(x.unsqueeze(dim=0))\n",
    "print(x.unsqueeze(dim=1))\n",
    "print(x.unsqueeze(dim=2))"
   ]
  },
  {
   "cell_type": "code",
   "execution_count": 77,
   "metadata": {},
   "outputs": [
    {
     "name": "stdout",
     "output_type": "stream",
     "text": [
      "tensor([[0.6203, 0.3876, 0.0040, 0.5194, 0.1837],\n",
      "        [0.7676, 0.1795, 0.6247, 0.2436, 0.8726]])\n",
      "torch.Size([4, 5])\n"
     ]
    }
   ],
   "source": [
    "\n",
    "x = torch.rand((2,5))\n",
    "y = torch.rand((2,5))\n",
    "print(x)\n",
    "print(torch.cat((x, y), dim=0).shape)\n",
    "print(torch.cat())"
   ]
  },
  {
   "cell_type": "code",
   "execution_count": null,
   "metadata": {},
   "outputs": [],
   "source": []
  },
  {
   "cell_type": "code",
   "execution_count": null,
   "metadata": {},
   "outputs": [],
   "source": []
  },
  {
   "cell_type": "code",
   "execution_count": null,
   "metadata": {},
   "outputs": [],
   "source": []
  }
 ],
 "metadata": {
  "kernelspec": {
   "display_name": "Python 3",
   "language": "python",
   "name": "python3"
  },
  "language_info": {
   "codemirror_mode": {
    "name": "ipython",
    "version": 3
   },
   "file_extension": ".py",
   "mimetype": "text/x-python",
   "name": "python",
   "nbconvert_exporter": "python",
   "pygments_lexer": "ipython3",
   "version": "3.8.5"
  }
 },
 "nbformat": 4,
 "nbformat_minor": 4
}
