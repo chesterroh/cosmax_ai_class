{
 "cells": [
  {
   "cell_type": "markdown",
   "metadata": {
    "colab_type": "text",
    "id": "A12SEn76ymcH"
   },
   "source": [
    "Basic Data types\n",
    "\n",
    "Numbers : 기본적으로 정수형(interger)와 부동소수형(float) 존재. float 형을 표현하고 싶으면 정수형 숫자 뒤에 . 을 추가."
   ]
  },
  {
   "cell_type": "code",
   "execution_count": null,
   "metadata": {
    "colab": {
     "base_uri": "https://localhost:8080/",
     "height": 197
    },
    "colab_type": "code",
    "id": "NGJzZUTvy0u2",
    "outputId": "8b36f72b-f676-4a62-99d4-216fbb347581"
   },
   "outputs": [
    {
     "name": "stdout",
     "output_type": "stream",
     "text": [
      "<class 'int'>\n",
      "2\n",
      "3\n",
      "1\n",
      "2\n",
      "4\n",
      "3\n",
      "6\n",
      "<class 'float'>\n",
      "2.5 3.5 5.0 6.25\n"
     ]
    }
   ],
   "source": [
    "x = 2\n",
    "print(type(x))  # prints <class 'int'>\n",
    "print(x)        # prints '2'\n",
    "print(x+1)      # Addition; prints '3'\n",
    "print(x-1)      # Subtraction; prints '1'\n",
    "print(x*1)      # Multiplication; prints '2'\n",
    "print(x**2)     # Exponenetiation; prints '4'\n",
    "\n",
    "x += 1 \n",
    "print(x)  # prints '3'\n",
    "x *= 2\n",
    "print(x)  # prints '6'\n",
    "\n",
    "y = 2.5\n",
    "print(type(y))  # prints <class 'float'>\n",
    "print(y, y+1, y*2, y**2)  # prints '2.5, 3.5, 5.0, 6.25'"
   ]
  },
  {
   "cell_type": "markdown",
   "metadata": {
    "colab_type": "text",
    "id": "Cpo298-D0k3c"
   },
   "source": [
    "Booleans : and 와 or 표현. "
   ]
  },
  {
   "cell_type": "code",
   "execution_count": null,
   "metadata": {
    "colab": {
     "base_uri": "https://localhost:8080/",
     "height": 143
    },
    "colab_type": "code",
    "id": "AEzjkVJj0sMT",
    "outputId": "1d555615-f1fd-43db-d07a-37fa648f429c"
   },
   "outputs": [
    {
     "name": "stdout",
     "output_type": "stream",
     "text": [
      "<class 'bool'>\n",
      "False\n",
      "True\n",
      "False\n",
      "True\n",
      "True\n",
      "False\n"
     ]
    }
   ],
   "source": [
    "t = True\n",
    "f = False\n",
    "print(type(t))  # prints <class 'bool'>\n",
    "print(t and f) \n",
    "print(t or f)\n",
    "print(not t)\n",
    "print(not f)\n",
    "print(t != f)\n",
    "print( t != t)"
   ]
  },
  {
   "cell_type": "markdown",
   "metadata": {
    "colab_type": "text",
    "id": "k24sXRQu1WkF"
   },
   "source": [
    "String: 큰따옴표나 작은따옴표로 묶어서 표현"
   ]
  },
  {
   "cell_type": "code",
   "execution_count": null,
   "metadata": {
    "colab": {
     "base_uri": "https://localhost:8080/",
     "height": 107
    },
    "colab_type": "code",
    "id": "AmkAmylS1cD4",
    "outputId": "2f88df9c-3963-4a9d-c4e7-708542f294c8"
   },
   "outputs": [
    {
     "name": "stdout",
     "output_type": "stream",
     "text": [
      "hello\n",
      "Hello\n",
      "5\n",
      "hello world\n",
      "hello world 12\n"
     ]
    }
   ],
   "source": [
    "hello = 'hello'\n",
    "world = \"world\"\n",
    "\n",
    "print(hello)    # 위에 hello 를 가져오는것\n",
    "print('Hello')  # Hello 는 위에 만들어두지 않았기 때문에 직접 프린트 안에 작은따옴표 or 큰따옴표를 직접 넣음으로써 프린트 가능\n",
    "print(len(hello))\n",
    "\n",
    "hw = hello + ' ' + world\n",
    "print(hw)\n",
    "\n",
    "hw12 = '%s %s %d' %(hello, world, 12)   # (hello, 12, world) // TypeError: %d format: a number is required, not str\n",
    "print(hw12)\n"
   ]
  },
  {
   "cell_type": "code",
   "execution_count": null,
   "metadata": {
    "colab": {
     "base_uri": "https://localhost:8080/",
     "height": 143
    },
    "colab_type": "code",
    "id": "Op__hSKt3Azl",
    "outputId": "7cb48fd4-d98a-4e55-85b3-5367ff437ac6"
   },
   "outputs": [
    {
     "name": "stdout",
     "output_type": "stream",
     "text": [
      "Hello\n",
      "HELLO\n",
      "  hello\n",
      "  HELLO\n",
      " hello \n",
      "he(ell)(ell)o\n",
      "world\n"
     ]
    }
   ],
   "source": [
    "s = 'hello'\n",
    "print(s.capitalize())  # Capitalize a string; prints \"Hello\"\n",
    "print(s.upper())       # Convert a string to uppercase; prints \"HELLO\"\n",
    "print(s.rjust(7))      # Right-justify a string, padding with spaces; prints \"  hello\"\n",
    "print(s.upper().rjust(7))    # prints \"  HELLO\"  //upper 뒤에 () 해주고 그 뒤에 rjust도 () 해줘야함.\n",
    "print(s.center(7))           # Center a string, padding with spaces; prints \" hello \"\n",
    "print(s.replace('l', '(ell)'))  # Replace all instances of one substring with another;\n",
    "                                # prints \"he(ell)(ell)o\"\n",
    "\n",
    "print('   world  '.strip())   # Strip leading and trailing whitespace; prints \"world\""
   ]
  },
  {
   "cell_type": "markdown",
   "metadata": {
    "colab_type": "text",
    "id": "J8Ef_jD_5188"
   },
   "source": [
    "Lists : Array 라고도 함. "
   ]
  },
  {
   "cell_type": "code",
   "execution_count": null,
   "metadata": {
    "colab": {
     "base_uri": "https://localhost:8080/",
     "height": 143
    },
    "colab_type": "code",
    "id": "UTUcg1Er546i",
    "outputId": "94d4b600-4f9d-4d04-9419-914e1039f6c2"
   },
   "outputs": [
    {
     "name": "stdout",
     "output_type": "stream",
     "text": [
      "[3, 1, 2] 2\n",
      "2\n",
      "[3, 1, 'foo']\n",
      "[3, 1, 'foo', 'bar']\n",
      "bar [3, 1, 'foo']\n",
      "<class 'str'>\n",
      "<class 'list'>\n"
     ]
    }
   ],
   "source": [
    "xs = [3, 1, 2]     # Create a list  // list는 [] 대괄호로 만든다.\n",
    "print(xs, xs[2])   # xs의 lists 를 가져오고, xs의 2번째 (0부터 카운트) 값을 가져옴.\n",
    "print(xs[-1])      # Negative indices count from the end of the list; prints \"2\"\n",
    "xs[2] = 'foo'      # Lists can contain elements of different types  // 이거는 replace 하는거야\n",
    "print(xs)          # Prints \"[3, 1, 'foo']\"\n",
    "xs.append('bar')   # Add a new element to the end of the list\n",
    "print(xs)          # Prints \"[3, 1, 'foo', 'bar']\"\n",
    "x = xs.pop()      # Remove and return the last element of the list\n",
    "print(x, xs)       # Prints \"bar [3, 1, 'foo']\"\n",
    "\n",
    "print(type(x))\n",
    "print(type(xs))"
   ]
  },
  {
   "cell_type": "markdown",
   "metadata": {
    "colab_type": "text",
    "id": "L-OrSbPz7R58"
   },
   "source": [
    "Slicing: list를 알맞게 자르는 것\n",
    "*   [start_index : end_index]\n",
    "*   주의할 점: start_index는 inclusive, end_index는 exclusive\n",
    "\n",
    "\n"
   ]
  },
  {
   "cell_type": "code",
   "execution_count": null,
   "metadata": {
    "colab": {
     "base_uri": "https://localhost:8080/",
     "height": 161
    },
    "colab_type": "code",
    "id": "f2KmvGqS7gn-",
    "outputId": "0fc41059-b93c-4c27-88f5-e2f81466e9f9"
   },
   "outputs": [
    {
     "name": "stdout",
     "output_type": "stream",
     "text": [
      "[0, 1, 2, 3, 4]\n",
      "[2, 3]\n",
      "[2, 3, 4]\n",
      "[2, 3]\n",
      "[0, 1]\n",
      "[0, 1, 2, 3, 4]\n",
      "[0, 1, 2, 3]\n",
      "[0, 1, 8, 9, 4]\n"
     ]
    }
   ],
   "source": [
    "nums = list(range(5))     # range is a built-in function that creates a list of integers\n",
    "print(nums)               # Prints \"[0, 1, 2, 3, 4]\"\n",
    "print(nums[2:4])          # Get a slice from index 2 to 4 (exclusive); prints \"[2, 3]\"\n",
    "print(nums[2:])           # Get a slice from index 2 to the end; prints \"[2, 3, 4]\"\n",
    "print(nums[2:-1])         # prints [2,3] // 위에랑 다른 것은 마지막을 -1로 기입함으로써 exclusive 하기 때문.\n",
    "print(nums[:2])           # Get a slice from the start to index 2 (exclusive); prints \"[0, 1]\"\n",
    "print(nums[:])            # Get a slice of the whole list; prints \"[0, 1, 2, 3, 4]\"\n",
    "print(nums[:-1])          # Slice indices can be negative; prints \"[0, 1, 2, 3]\"\n",
    "nums[2:4] = [8, 9]        # Assign a new sublist to a slice   // 2번째, 4번째를 8과 9로 대체한거야\n",
    "print(nums)               # Prints \"[0, 1, 8, 9, 4]\"\n"
   ]
  },
  {
   "cell_type": "markdown",
   "metadata": {
    "colab_type": "text",
    "id": "8SmlXGtM81Hn"
   },
   "source": [
    "Loops : array 안에 있는 element 들을 차례대로 둘러볼때"
   ]
  },
  {
   "cell_type": "code",
   "execution_count": null,
   "metadata": {
    "colab": {
     "base_uri": "https://localhost:8080/",
     "height": 71
    },
    "colab_type": "code",
    "id": "biMz8wuF869B",
    "outputId": "a03c00ae-f794-4259-8a00-da36eabbde43"
   },
   "outputs": [
    {
     "name": "stdout",
     "output_type": "stream",
     "text": [
      "cat\n",
      "dog\n",
      "monkey\n"
     ]
    }
   ],
   "source": [
    "animals = ['cat', 'dog', 'monkey']\n",
    "for animal in animals:\n",
    "  print(animal)\n",
    "\n",
    "  #prints 'cat', 'dog', 'monkey', each on its own line"
   ]
  },
  {
   "cell_type": "markdown",
   "metadata": {
    "colab_type": "text",
    "id": "EMmtke2V9e1C"
   },
   "source": [
    "리스트 안에 있는 원소를 뽑아내면서 index number도 알고 싶다면, enumerate()(반복자)를 활용\n"
   ]
  },
  {
   "cell_type": "code",
   "execution_count": null,
   "metadata": {
    "colab": {
     "base_uri": "https://localhost:8080/",
     "height": 71
    },
    "colab_type": "code",
    "id": "WcsiRGDW9p4T",
    "outputId": "e12157f5-a0f1-4eb3-f57d-64dcf455a489"
   },
   "outputs": [
    {
     "name": "stdout",
     "output_type": "stream",
     "text": [
      "#1: cat\n",
      "#2: dog\n",
      "#3: monkey\n"
     ]
    }
   ],
   "source": [
    "animals = ['cat', 'dog', 'monkey']\n",
    "for idx, animal in enumerate(animals):\n",
    "  print('#%d: %s' % (idx + 1, animal))\n",
    "\n",
    "  # Prints \"#1: cat\", \"#2: dog\", \"#3: monkey\", each on its own line"
   ]
  },
  {
   "cell_type": "code",
   "execution_count": null,
   "metadata": {
    "colab": {
     "base_uri": "https://localhost:8080/",
     "height": 143
    },
    "colab_type": "code",
    "id": "TN3tbXTp-XWo",
    "outputId": "0fc0c83f-10c8-438f-e659-bdf90f7cbefd"
   },
   "outputs": [
    {
     "name": "stdout",
     "output_type": "stream",
     "text": [
      "cat\n",
      "dog\n",
      "monkey\n",
      "['cat', 'dog', 'monkey']\n",
      "cat\n",
      "dog\n",
      "monkey\n"
     ]
    }
   ],
   "source": [
    "# list 는 당연히 아래와 같이 둘러볼 수도 있습니다.\n",
    "\n",
    "animals = [ 'cat', 'dog', 'monkey']\n",
    "for idx in range(len(animals)):\n",
    "    print(animals[idx])\n",
    "\n",
    "print(animals)\n",
    "\n",
    "\n",
    "animals = [ 'cat', 'dog', 'monkey']\n",
    "for idx in animals:\n",
    "    print(idx)   ## 위의 내용이랑 이번에 작성한거랑 다른게 뭘까...?"
   ]
  },
  {
   "cell_type": "code",
   "execution_count": null,
   "metadata": {
    "colab": {
     "base_uri": "https://localhost:8080/",
     "height": 35
    },
    "colab_type": "code",
    "id": "DWCg9j_e_VMg",
    "outputId": "4a1fc90c-8693-4dcc-dfd8-11e11e9527d1"
   },
   "outputs": [
    {
     "name": "stdout",
     "output_type": "stream",
     "text": [
      "[0, 1, 4, 9, 16]\n"
     ]
    }
   ],
   "source": [
    "nums = [0,1,2,3,4]\n",
    "squares = []\n",
    "\n",
    "for x in nums:\n",
    "  squares.append(x **2)\n",
    "print(squares)   # Prints [0, 1, 4, 9, 16]"
   ]
  },
  {
   "cell_type": "code",
   "execution_count": null,
   "metadata": {
    "colab": {
     "base_uri": "https://localhost:8080/",
     "height": 35
    },
    "colab_type": "code",
    "id": "doTwwQ5E_ke_",
    "outputId": "e1629cb6-bba8-4e6b-e512-8b055824af04"
   },
   "outputs": [
    {
     "name": "stdout",
     "output_type": "stream",
     "text": [
      "[0, 1, 4, 9, 16]\n"
     ]
    }
   ],
   "source": [
    "# 위의 코드를 더 짧게 축약하면 이렇게 변환할 수 있지요?\n",
    "\n",
    "nums = [0,1,2,3,4]\n",
    "squares = [x**2 for x in nums]\n",
    "print(squares)  # Prints [0, 1, 4, 9, 16]"
   ]
  },
  {
   "cell_type": "code",
   "execution_count": null,
   "metadata": {
    "colab": {},
    "colab_type": "code",
    "id": "kOEVWXE3AZyQ"
   },
   "outputs": [],
   "source": [
    "List comprehension 을 표현할때 뒤에 조건문까지 추가 가능"
   ]
  },
  {
   "cell_type": "code",
   "execution_count": null,
   "metadata": {
    "colab": {
     "base_uri": "https://localhost:8080/",
     "height": 35
    },
    "colab_type": "code",
    "id": "9TPpRp6hAeCO",
    "outputId": "44c6a393-f06f-451c-9756-4ccc0ff33f81"
   },
   "outputs": [
    {
     "name": "stdout",
     "output_type": "stream",
     "text": [
      "[0, 4, 16]\n"
     ]
    }
   ],
   "source": [
    "nums = [0,1,2,3,4]\n",
    "even_squares = [x ** 2 for x in nums if x % 2 == 0]\n",
    "print(even_squares)  # Prints '[0, 4, 16]'"
   ]
  },
  {
   "cell_type": "markdown",
   "metadata": {
    "colab_type": "text",
    "id": "qX45IBqWA1y-"
   },
   "source": [
    "Dictionaries : index를 key 를 사용하여 더 직관적으로 접근할 수 있도록 해주는 자료형"
   ]
  },
  {
   "cell_type": "code",
   "execution_count": null,
   "metadata": {
    "colab": {
     "base_uri": "https://localhost:8080/",
     "height": 161
    },
    "colab_type": "code",
    "id": "3r0RW_rBA9rD",
    "outputId": "577898eb-c742-4f94-c300-020732c8ed2f"
   },
   "outputs": [
    {
     "name": "stdout",
     "output_type": "stream",
     "text": [
      "cute\n",
      "True\n",
      "wet\n",
      "N/A\n",
      "wet\n",
      "{'cat': 'cute', 'dog': 'furry', 'fish': 'wet'}\n",
      "N/A\n",
      "{'cat': 'cute', 'dog': 'furry'}\n"
     ]
    }
   ],
   "source": [
    "d = {'cat' : 'cute', 'dog' : 'furry'} # Create a new dictionary with some data\n",
    "print(d['cat'])   # Get an entry from a dictionary; prints \"cute\"\n",
    "print('cat' in d) # Check if a dictionary has a given key; prints \"True\"\n",
    "d['fish'] = 'wet' # Set an entry in a dictionary\n",
    "print(d['fish'])  # Prints \"wet\"\n",
    "\n",
    "# print(d['monkey'])  # KeyError: 'monkey' not a key of d\n",
    "print(d.get('monkey', 'N/A'))  # Get an element with a default; prints \"N/A\"\n",
    "print(d.get('fish', 'N/A'))    # Get an element with a default; prints \"wet\"\n",
    "\n",
    "print(d)\n",
    "\n",
    "del d['fish']         # Remove an element from a dictionary\n",
    "print(d.get('fish', 'N/A')) # \"fish\" is no longer a key; prints \"N/A\"\n",
    "print(d)"
   ]
  },
  {
   "cell_type": "markdown",
   "metadata": {
    "colab_type": "text",
    "id": "GR_DxCZMEANK"
   },
   "source": [
    "Dictionary Traverse"
   ]
  },
  {
   "cell_type": "code",
   "execution_count": null,
   "metadata": {
    "colab": {
     "base_uri": "https://localhost:8080/",
     "height": 89
    },
    "colab_type": "code",
    "id": "FT55NElnEClS",
    "outputId": "cb4eef6b-d46e-4c0c-bb75-82fbec4f4e05"
   },
   "outputs": [
    {
     "name": "stdout",
     "output_type": "stream",
     "text": [
      "A person has 2 legs\n",
      "A cat has 4 legs\n",
      "A spider has 8 legs\n",
      "2\n"
     ]
    }
   ],
   "source": [
    "d = {'person' : 2, 'cat' : 4, 'spider' : 8}\n",
    "for animal in d:\n",
    "  legs = d[animal]  # key 값을 표현해준것.\n",
    "  print('A %s has %d legs' % (animal, legs))\n",
    "  # Prints \"A person has 2 legs\", \"A cat has 4 legs\", \"A spider has 8 legs\""
   ]
  },
  {
   "cell_type": "markdown",
   "metadata": {
    "colab_type": "text",
    "id": "JuXNjTIGGI1K"
   },
   "source": [
    "Key 값을 한번에 꺼내는 Iterator는 items()"
   ]
  },
  {
   "cell_type": "code",
   "execution_count": null,
   "metadata": {
    "colab": {
     "base_uri": "https://localhost:8080/",
     "height": 71
    },
    "colab_type": "code",
    "id": "j7_cd1e_GS0P",
    "outputId": "12f0d508-e1b7-40bc-ebf3-b771e41954bd"
   },
   "outputs": [
    {
     "name": "stdout",
     "output_type": "stream",
     "text": [
      "A person has 2 legs\n",
      "A cat has 4 legs\n",
      "A spider has 8 legs\n"
     ]
    }
   ],
   "source": [
    "d = {'person' : 2, 'cat' : 4, 'spider' : 8}\n",
    "for animal, legs in d.items():\n",
    "  print('A %s has %d legs' % (animal, legs))\n",
    "  # Prints \"A person has 2 legs\", \"A cat has 4 legs\", \"A spider has 8 legs\""
   ]
  },
  {
   "cell_type": "markdown",
   "metadata": {
    "colab_type": "text",
    "id": "PAvvkHZaHIrm"
   },
   "source": [
    "Dictionary도 list처럼 comprehension 사용 가능"
   ]
  },
  {
   "cell_type": "code",
   "execution_count": null,
   "metadata": {
    "colab": {
     "base_uri": "https://localhost:8080/",
     "height": 35
    },
    "colab_type": "code",
    "id": "BD4S30MCHNcJ",
    "outputId": "7519a76f-d54f-4c37-f8f2-7aabbfa7214c"
   },
   "outputs": [
    {
     "name": "stdout",
     "output_type": "stream",
     "text": [
      "{0: 0, 2: 4, 4: 16}\n"
     ]
    }
   ],
   "source": [
    "nums = [0,1,2,3,4]\n",
    "even_num_to_square = {x : x**2 for x in nums if x % 2 == 0}\n",
    "print(even_num_to_square)   # Prints \"{0: 0, 2: 4, 4: 16}\""
   ]
  },
  {
   "cell_type": "markdown",
   "metadata": {
    "colab_type": "text",
    "id": "-gkwweDlHopf"
   },
   "source": [
    "Sets: 집합. 중복되는 element들을 제거해준 list\n",
    "*   Set 을 표현할때 {0,1,2,3,4} 이렇게 중괄호로 표현. \n",
    "*   List, Dictionary의 표현법이랑 혼동하면 안됨. (원래 리스트는 대괄호, 딕셔너리가 중괄호임.)\n",
    "\n",
    "\n"
   ]
  },
  {
   "cell_type": "code",
   "execution_count": null,
   "metadata": {
    "colab": {
     "base_uri": "https://localhost:8080/",
     "height": 107
    },
    "colab_type": "code",
    "id": "hf-aOA2rH4Nc",
    "outputId": "faf68f43-30be-434b-baf7-263a24cd2390"
   },
   "outputs": [
    {
     "name": "stdout",
     "output_type": "stream",
     "text": [
      "True\n",
      "False\n",
      "3\n",
      "3\n",
      "2\n"
     ]
    }
   ],
   "source": [
    "animals = {'cat', 'dog'}\n",
    "print('cat' in animals)   # Check if an element is in a set; prints \"True\"\n",
    "print('fish' in animals)  # prints \"False\"\n",
    "\n",
    "animals.add('fish')  # Add an element to a set\n",
    "print(len(animals))  # Number of elements in a set; prints \"3\"  // {'cat', 'dog', 'fish'}\n",
    "animals.add('cat')   # Adding an element that is already in the set does nothing\n",
    "print(len(animals))  # Prints \"3\" // cat 이 이미 있기 때문에 추가되지 않음.\n",
    "#### 리스트랑 달라. 리스트가 아니기 때문에 append를 쓸 수 없고 add 임.\n",
    "\n",
    "animals.remove('cat')  # Remove an element from a set\n",
    "print(len(animals))    # Prints \"2\"  // {'dog', 'fish'}"
   ]
  },
  {
   "cell_type": "markdown",
   "metadata": {
    "colab_type": "text",
    "id": "0cJW55nvJgRs"
   },
   "source": [
    "Set 역시 iterator 를 통해서 traverse 가능하고, comprehension도 가능"
   ]
  },
  {
   "cell_type": "code",
   "execution_count": null,
   "metadata": {
    "colab": {
     "base_uri": "https://localhost:8080/",
     "height": 71
    },
    "colab_type": "code",
    "id": "9jNN934HJlqc",
    "outputId": "9a365a04-ef06-4a20-9fc8-fcf3b1568ca0"
   },
   "outputs": [
    {
     "name": "stdout",
     "output_type": "stream",
     "text": [
      "#1: dog\n",
      "#2: cat\n",
      "#3: fish\n"
     ]
    }
   ],
   "source": [
    "animals = {'cat', 'dog', 'fish'}\n",
    "for idx, animal in enumerate(animals):\n",
    "  print('#%d: %s' % (idx +1, animal))\n",
    "# Prints \"#1: fish\", \"#2: dog\", \"#3: cat\""
   ]
  },
  {
   "cell_type": "code",
   "execution_count": null,
   "metadata": {
    "colab": {
     "base_uri": "https://localhost:8080/",
     "height": 35
    },
    "colab_type": "code",
    "id": "wNShEApUJ_yL",
    "outputId": "59cd05c0-3890-4930-af58-2538519285a0"
   },
   "outputs": [
    {
     "name": "stdout",
     "output_type": "stream",
     "text": [
      "{0, 1, 2, 3, 4, 5}\n"
     ]
    }
   ],
   "source": [
    "from math import sqrt\n",
    "nums = {int(sqrt(x)) for x in range(30)}\n",
    "print(nums)  # Prints \"{0, 1, 2, 3, 4, 5}\""
   ]
  },
  {
   "cell_type": "markdown",
   "metadata": {
    "colab_type": "text",
    "id": "u6ladt2qKpJn"
   },
   "source": [
    "Tuples: List랑 비슷\n",
    "\n",
    "*   (0,1,2,3,4,) 이렇게 표현\n",
    "*   Tuple 은 Dictionary 의 key로 사용할 수 있음.\n",
    "*   List는 Dictionary의 key로 사용할 수 없음. "
   ]
  },
  {
   "cell_type": "code",
   "execution_count": null,
   "metadata": {
    "colab": {
     "base_uri": "https://localhost:8080/",
     "height": 125
    },
    "colab_type": "code",
    "id": "zW8d8CV7K_7t",
    "outputId": "3740cdbf-daaf-432e-9dcc-8bf3b7e31cb9"
   },
   "outputs": [
    {
     "name": "stdout",
     "output_type": "stream",
     "text": [
      "{(0, 1): 0, (1, 2): 1, (2, 3): 2, (3, 4): 3, (4, 5): 4, (5, 6): 5, (6, 7): 6, (7, 8): 7, (8, 9): 8, (9, 10): 9}\n",
      "<class 'dict'>\n",
      "(5, 6)\n",
      "<class 'tuple'>\n",
      "5\n",
      "1\n"
     ]
    }
   ],
   "source": [
    "d = {(x, x+1) : x for x in range(10)}   # Create a dictionary with tuple keys\n",
    "t = (5,6)\n",
    "\n",
    "print(d)\n",
    "print(type(d))\n",
    "print(t)\n",
    "print(type(t))  # Prints \"<class 'tuple'>\"\n",
    "\n",
    "print(d[t])      # Prints \"5\"\n",
    "print(d[1,2])    # Prints \"1\""
   ]
  },
  {
   "cell_type": "markdown",
   "metadata": {
    "colab_type": "text",
    "id": "lPq6gfNpL6M1"
   },
   "source": [
    "Functions"
   ]
  },
  {
   "cell_type": "code",
   "execution_count": null,
   "metadata": {
    "colab": {
     "base_uri": "https://localhost:8080/",
     "height": 71
    },
    "colab_type": "code",
    "id": "E8UXHBAFL7il",
    "outputId": "0c8e6608-5b1a-4c5b-8970-483fda35550c"
   },
   "outputs": [
    {
     "name": "stdout",
     "output_type": "stream",
     "text": [
      "negative\n",
      "zero\n",
      "positive\n"
     ]
    }
   ],
   "source": [
    "def sign(x):\n",
    "  if x > 0:\n",
    "    return 'positive'\n",
    "  elif x < 0:\n",
    "    return 'negative'\n",
    "  else:\n",
    "    return 'zero'\n",
    "\n",
    "for x in [-1, 0, 1]:\n",
    "  print(sign(x))\n",
    "  # Prints \"negative\", \"zero\", \"positive\""
   ]
  },
  {
   "cell_type": "markdown",
   "metadata": {
    "colab_type": "text",
    "id": "Z1X5bC_yMXqR"
   },
   "source": [
    "Function에 인자(argument)를 넘길때 기본값을 지정해줄 수 있음.\n",
    "\n",
    "그리고 기본값을 지정해준 argument는 생략할 수 있음.\n",
    "\n"
   ]
  },
  {
   "cell_type": "code",
   "execution_count": null,
   "metadata": {
    "colab": {
     "base_uri": "https://localhost:8080/",
     "height": 89
    },
    "colab_type": "code",
    "id": "JSRHxUFlMjtC",
    "outputId": "9928f31a-f2a4-48ca-e81c-ef8e297398b8"
   },
   "outputs": [
    {
     "name": "stdout",
     "output_type": "stream",
     "text": [
      "Hello, Bob\n",
      "HELLO, FRED!\n",
      "Hello, Ella\n",
      "HELLO, ELLA!\n"
     ]
    }
   ],
   "source": [
    "def hello(name, loud=False):\n",
    "    if loud:\n",
    "        print('HELLO, %s!' % name.upper())\n",
    "    else:\n",
    "        print('Hello, %s' % name)\n",
    "\n",
    "hello('Bob') # Prints \"Hello, Bob\"\n",
    "hello('Fred', loud=True)  # Prints \"HELLO, FRED!\"\n",
    "hello('Ella', loud=False)\n",
    "hello('Ella', loud=True)"
   ]
  },
  {
   "cell_type": "markdown",
   "metadata": {
    "colab_type": "text",
    "id": "Ij8umRBqCjeL"
   },
   "source": [
    "Class : Function을 같은 용도에 따라서 Data와 함께 모아 놓은 것.\n",
    "\n",
    "> 상속(inheritance) 개념도 같이 체크할 것\n"
   ]
  },
  {
   "cell_type": "code",
   "execution_count": null,
   "metadata": {
    "colab": {
     "base_uri": "https://localhost:8080/",
     "height": 71
    },
    "colab_type": "code",
    "id": "L7ACVGLrCxNo",
    "outputId": "a351fe6b-9b7f-4139-8399-a63202c2b5d1"
   },
   "outputs": [
    {
     "name": "stdout",
     "output_type": "stream",
     "text": [
      "Hello, Fred\n",
      "HELLO, FRED! \n",
      "Hello, Fred\n"
     ]
    }
   ],
   "source": [
    "class Greeter(object):\n",
    "\n",
    "  # constructor\n",
    "  def __init__(self, name):\n",
    "    self.name = name   # Create an instance variable\n",
    "\n",
    "  # Instance method\n",
    "  def greet(self, loud=False):\n",
    "    if loud:\n",
    "      print('HELLO, %s! ' % self.name.upper())\n",
    "    else:\n",
    "      print('Hello, %s' % self.name)\n",
    "\n",
    "g = Greeter('Fred')  # Construct an instance of the Greeter class\n",
    "g.greet()           # call an instance method ; prints \"Hello, Fred\"\n",
    "g.greet(loud=True)  # call an instance method ; prints \"HELLO< FRED!\"\n",
    "g.greet(loud=False)"
   ]
  },
  {
   "cell_type": "markdown",
   "metadata": {
    "colab_type": "text",
    "id": "eXn06CXAJu0h"
   },
   "source": [
    "Numpy"
   ]
  },
  {
   "cell_type": "code",
   "execution_count": null,
   "metadata": {
    "colab": {
     "base_uri": "https://localhost:8080/",
     "height": 161
    },
    "colab_type": "code",
    "id": "Uu-unZWOJ34F",
    "outputId": "2cd25129-7fbd-467f-be60-711976e45d7f"
   },
   "outputs": [
    {
     "name": "stdout",
     "output_type": "stream",
     "text": [
      "<class 'numpy.ndarray'>\n",
      "(3,)\n",
      "1 2 3\n",
      "[5 2 3]\n",
      "(2, 3)\n",
      "1 2 4\n",
      "[[1 2 3]\n",
      " [4 5 6]]\n"
     ]
    }
   ],
   "source": [
    "import numpy as np\n",
    "\n",
    "a = np.array([1,2,3])   # Create a rank 1 array\n",
    "print(type(a))          # Prints \"<class 'numpy.ndarray'>\"\n",
    "print(a.shape)          # Prints \"(3,)\"\n",
    "print(a[0], a[1], a[2]) # Prints \"1 2 3\"\n",
    "a[0] = 5                # Change an element of the array\n",
    "print(a)                # Prints \"[5, 2, 3]\"\n",
    "\n",
    "b = np.array([[1,2,3], [4,5,6]])   # Create a rank 2 array\n",
    "print(b.shape)                    # Prints \"(2, 3)\"\n",
    "print(b[0,0], b[0,1,], b[1,0] )   # Prints \"1 2 4\"\n",
    "print(b)"
   ]
  },
  {
   "cell_type": "markdown",
   "metadata": {
    "colab_type": "text",
    "id": "7LBEVoplOfOj"
   },
   "source": [
    "numpy 의 함수들에 dimension을 넣어줄때 tuple로 넣어준다.\n",
    "\n",
    "> np.zeros((2,2)) 이렇게 씀\n",
    "\n",
    "> np.zeros(2,2) 이렇게 쓰면 에러\n",
    "\n",
    "\n",
    "\n"
   ]
  },
  {
   "cell_type": "code",
   "execution_count": null,
   "metadata": {
    "colab": {
     "base_uri": "https://localhost:8080/",
     "height": 179
    },
    "colab_type": "code",
    "id": "1e20ow8eO0Er",
    "outputId": "d4da5f1f-7f5a-4d0b-d86b-26ecd18de6e1"
   },
   "outputs": [
    {
     "name": "stdout",
     "output_type": "stream",
     "text": [
      "[[0. 0.]\n",
      " [0. 0.]]\n",
      "[[1. 1.]]\n",
      "[[7 7]\n",
      " [7 7]]\n",
      "[[1. 0.]\n",
      " [0. 1.]]\n",
      "[[0.37201475 0.89456918]\n",
      " [0.53532687 0.19837174]]\n"
     ]
    }
   ],
   "source": [
    "import numpy as np\n",
    "\n",
    "a = np.zeros((2,2))  # Create an array of all zeros\n",
    "print(a)              # Prints \"[[ 0.  0.]\n",
    "                      #          [ 0.  0.]]\"\n",
    "\n",
    "b = np.ones((1,2))     # Create an array of all ones\n",
    "print(b)               # Prints \"[[ 1.  1.]]\"\n",
    "\n",
    "c = np.full((2,2), 7)   # Create a constant array\n",
    "print(c)               # Prints \"[[ 7.  7.]\n",
    "                       #          [ 7.  7.]]\"\n",
    "\n",
    "d = np.eye(2)         # Create a 2x2 identity matrix\n",
    "print(d)             # Prints \"[[ 1.  0.]\n",
    "                     #          [ 0.  1.]]\"\n",
    "\n",
    "e = np.random.random((2,2))   # Create an array filled with random values (숫자 0~1 사이 float)\n",
    "print(e)"
   ]
  },
  {
   "cell_type": "markdown",
   "metadata": {
    "colab_type": "text",
    "id": "SB0hh6v6YJvK"
   },
   "source": [
    "Array indexing : Python list와 비슷하지만 약간 다른 indexing scheme"
   ]
  },
  {
   "cell_type": "code",
   "execution_count": null,
   "metadata": {
    "colab": {
     "base_uri": "https://localhost:8080/",
     "height": 233
    },
    "colab_type": "code",
    "id": "D0THTns4Y5xt",
    "outputId": "e6d06a0e-372c-49a4-b370-0234ade56d2d"
   },
   "outputs": [
    {
     "name": "stdout",
     "output_type": "stream",
     "text": [
      "(3, 4)\n",
      "[[2 3]\n",
      " [6 7]]\n",
      "<class 'numpy.ndarray'>\n",
      "(2, 2)\n",
      "2\n",
      "[[ 1 77  3  4]\n",
      " [ 5  6  7  8]\n",
      " [ 9 10 11 12]]\n",
      "[[77  3]\n",
      " [ 6  7]]\n",
      "77\n"
     ]
    }
   ],
   "source": [
    "import numpy as np\n",
    "\n",
    "# Create the following rank 2 array with shape (3, 4)\n",
    "# [[ 1  2  3  4]\n",
    "#  [ 5  6  7  8]\n",
    "#  [ 9 10 11 12]]\n",
    "\n",
    "\n",
    "a = np.array([[1,2,3,4], [5,6,7,8], [9,10,11,12]])\n",
    "print(a.shape)  # Prints (3,4)  // 왜 이게 나오는지 이해필요!!\n",
    "\n",
    "# Use slicing to pull out the subarray consisting of the first 2 rows\n",
    "# and columns 1 and 2; b is the following array of shape (2, 2):\n",
    "# [[2 3]\n",
    "#  [6 7]]\n",
    "b = a[:2, 1:3]     \n",
    "print(b)\n",
    "print(type(b))\n",
    "print(b.shape)\n",
    "\n",
    "\n",
    "# A slice of an array is a view into the same data, so modifying it\n",
    "# will modify the original array.\n",
    "print(a[0, 1])   \n",
    "b[0, 0] = 77     # b[0, 0] is the same piece of data as a[0, 1] / b가 a 값이여서.. b를 수정하면 a의 값도 변경\n",
    "print(a)\n",
    "print(b)\n",
    "print(a[0, 1])   # Prints \"77\""
   ]
  },
  {
   "cell_type": "markdown",
   "metadata": {
    "colab_type": "text",
    "id": "qJnX74dxcHC6"
   },
   "source": [
    "Slicing operator와 integer indexing을 섞어 사용 가능."
   ]
  },
  {
   "cell_type": "code",
   "execution_count": null,
   "metadata": {
    "colab": {
     "base_uri": "https://localhost:8080/",
     "height": 125
    },
    "colab_type": "code",
    "id": "z782SUD3cNVW",
    "outputId": "2919a42c-a692-4c3d-bd3a-b611c05927ac"
   },
   "outputs": [
    {
     "name": "stdout",
     "output_type": "stream",
     "text": [
      "[5 6 7 8] (4,)\n",
      "[[5 6 7 8]] (1, 4)\n",
      "[ 2  6 10] (3,)\n",
      "[[ 2]\n",
      " [ 6]\n",
      " [10]] (3, 1)\n"
     ]
    }
   ],
   "source": [
    "import numpy as np\n",
    "\n",
    "# Create the following rank 2 array with shape (3, 4)\n",
    "# [[ 1  2  3  4]\n",
    "#  [ 5  6  7  8]\n",
    "#  [ 9 10 11 12]]\n",
    "a = np.array([[1,2,3,4], [5,6,7,8], [9,10,11,12]])\n",
    "\n",
    "\n",
    "# Two ways of accessing the data in the middle row of the array.\n",
    "# Mixing integer indexing with slices yields an array of lower rank,\n",
    "# while using only slices yields an array of the same rank as the\n",
    "# original array:\n",
    "row_r1 = a[1, :]    # Rank 1 view of the second row of a\n",
    "row_r2 = a[1:2, :]  # Rank 2 view of the second row of a\n",
    "print(row_r1, row_r1.shape)  # Prints \"[5 6 7 8] (4,)\"\n",
    "print(row_r2, row_r2.shape)  # Prints \"[[5 6 7 8]] (1, 4)\"  # shape이 다른 것 주의!!\n",
    "\n",
    "# We can make the same distinction when accessing columns of an array:\n",
    "col_r1 = a[:, 1]\n",
    "col_r2 = a[:, 1:2]\n",
    "print(col_r1, col_r1.shape)  # Prints \"[ 2  6 10] (3,)\"\n",
    "print(col_r2, col_r2.shape)  # Prints \"[[ 2]\n",
    "                             #          [ 6]\n",
    "                             #          [10]] (3, 1)\" #구간을 설정해주는게 행열 그대로 가져옴."
   ]
  },
  {
   "cell_type": "markdown",
   "metadata": {
    "colab_type": "text",
    "id": "zDEagdsfdPSM"
   },
   "source": [
    "Integer array indexing: 이해해보고 안되면 skip. "
   ]
  },
  {
   "cell_type": "code",
   "execution_count": null,
   "metadata": {
    "colab": {
     "base_uri": "https://localhost:8080/",
     "height": 413
    },
    "colab_type": "code",
    "id": "b8lBoFw9dR69",
    "outputId": "f487a428-32f1-4f18-823d-0e03432807ba"
   },
   "outputs": [
    {
     "name": "stdout",
     "output_type": "stream",
     "text": [
      "[[1 2]\n",
      " [3 4]\n",
      " [5 6]]\n",
      "[1 4 5]\n",
      "================\n",
      "[[1 2]\n",
      " [3 4]\n",
      " [5 6]]\n",
      "[[1 2]\n",
      " [3 4]\n",
      " [1 2]]\n",
      "[2 2]\n",
      "================\n",
      "1\n",
      "[[1 2]\n",
      " [1 2]]\n",
      "[2 2]\n",
      "(2,)\n",
      "<class 'numpy.ndarray'>\n",
      "2 2\n",
      "()\n",
      "<class 'numpy.int64'>\n"
     ]
    }
   ],
   "source": [
    "import numpy as np\n",
    "\n",
    "a = np.array([[1,2], [3,4], [5,6]])\n",
    "print(a)\n",
    "\n",
    "# An example of integer array indexing.\n",
    "# The returned array will have shape (3,) and\n",
    "print(a[[0, 1, 2], [0, 1, 0]])  # Prints \"[1 4 5]\"\n",
    "print(\"================\")\n",
    "print(a[[0, 1, 2]])\n",
    "print(a[[0, 1, 0]])\n",
    "\n",
    "\n",
    "# When using integer array indexing, you can reuse the same\n",
    "# element from the source array:\n",
    "print(a[[0, 0], [1, 1]])  # Prints \"[2 2]\"\n",
    "print(\"================\")\n",
    "print(a[0,0])\n",
    "print(a[[0,0]])\n",
    "\n",
    "\n",
    "# Equivalent to the previous integer array indexing example\n",
    "print(np.array([a[0, 1], a[0, 1]]))  # Prints \"[2 2]\"\n",
    "c = np.array([a[0, 1], a[0, 1]])\n",
    "print(c.shape)\n",
    "print(type(c))\n",
    "\n",
    "print(a[0,1], a[0,1])  # 이거는 array가 아니야\n",
    "d = a[0,1]\n",
    "print(d.shape)\n",
    "print(type(d))"
   ]
  },
  {
   "cell_type": "markdown",
   "metadata": {
    "colab_type": "text",
    "id": "hLKPxbb4g_-N"
   },
   "source": [
    "위의 방법을 조금 더 편리하게 하는 방식. 이해가 안된다면 skip"
   ]
  },
  {
   "cell_type": "code",
   "execution_count": null,
   "metadata": {
    "colab": {
     "base_uri": "https://localhost:8080/",
     "height": 179
    },
    "colab_type": "code",
    "id": "Ty9z6yhThGtv",
    "outputId": "49169eaa-069a-4792-d3a2-b3533915935c"
   },
   "outputs": [
    {
     "name": "stdout",
     "output_type": "stream",
     "text": [
      "[[ 1  2  3]\n",
      " [ 4  5  6]\n",
      " [ 7  8  9]\n",
      " [10 11 12]]\n",
      "[ 1  6  7 11]\n",
      "[[11  2  3]\n",
      " [ 4  5 16]\n",
      " [17  8  9]\n",
      " [10 21 12]]\n"
     ]
    }
   ],
   "source": [
    "import numpy as np\n",
    "\n",
    "# Create a new array from which we will select elements\n",
    "a = np.array([[1,2,3], [4,5,6], [7,8,9], [10, 11, 12]])\n",
    "\n",
    "print(a)  # prints \"array([[ 1,  2,  3],\n",
    "          #                [ 4,  5,  6],\n",
    "          #                [ 7,  8,  9],\n",
    "          #                [10, 11, 12]])\"\n",
    "\n",
    "# Create an array of indices\n",
    "b = np.array([0, 2, 0, 1])\n",
    "\n",
    "\n",
    "# Select one element from each row of a using the indices in b\n",
    "print(a[np.arange(4), b])  # Prints \"[ 1  6  7 11]\"\n",
    "\n",
    "# Mutate one element from each row of a using the indices in b\n",
    "a[np.arange(4), b] += 10\n",
    "\n",
    "\n",
    "print(a)  # prints \"array([[11,  2,  3],\n",
    "          #                [ 4,  5, 16],\n",
    "          #                [17,  8,  9],\n",
    "          #                [10, 21, 12]])"
   ]
  },
  {
   "cell_type": "markdown",
   "metadata": {
    "colab_type": "text",
    "id": "BHCXiuD8h5p7"
   },
   "source": [
    "Boolean array indexing: numpy의 강력한 점 중 하나. \n",
    "\n",
    "*   condition을 넣어주면 원래의 matrix와 같은 dimension으로 결과값을 넘김. \n",
    "*   꼭 이해 필요\n",
    "\n"
   ]
  },
  {
   "cell_type": "code",
   "execution_count": null,
   "metadata": {
    "colab": {
     "base_uri": "https://localhost:8080/",
     "height": 179
    },
    "colab_type": "code",
    "id": "Y3bztdEsiJvX",
    "outputId": "a5f50aba-3ca7-4e32-f6a5-37571c82d328"
   },
   "outputs": [
    {
     "name": "stdout",
     "output_type": "stream",
     "text": [
      "[[False False]\n",
      " [ True  True]\n",
      " [ True  True]]\n",
      "[3 4 5 6]\n",
      "(4,)\n",
      "<class 'numpy.ndarray'>\n",
      "[3 4 5 6]\n",
      "(4,)\n",
      "<class 'numpy.ndarray'>\n"
     ]
    }
   ],
   "source": [
    "import numpy as np\n",
    "\n",
    "a = np.array([[1,2], [3, 4], [5, 6]])\n",
    "\n",
    "bool_idx = (a > 2)   # Find the elements of a that are bigger than 2;\n",
    "                     # this returns a numpy array of Booleans of the same\n",
    "                     # shape as a, where each slot of bool_idx tells\n",
    "                     # whether that element of a is > 2.\n",
    "\n",
    "print(bool_idx)      # Prints \"[[False False]\n",
    "                     #          [ True  True]\n",
    "                     #          [ True  True]]\"\n",
    "\n",
    "\n",
    "# We use boolean array indexing to construct a rank 1 array\n",
    "# consisting of the elements of a corresponding to the True values\n",
    "# of bool_idx\n",
    "print(a[bool_idx])  # Prints \"[3 4 5 6]\"\n",
    "b = a[bool_idx]\n",
    "print(b.shape)\n",
    "print(type(b))\n",
    "\n",
    "# We can do all of the above in a single concise statement:\n",
    "print(a[a > 2])     # Prints \"[3 4 5 6]\"\n",
    "c = a[a>2]\n",
    "print(c.shape)\n",
    "print(type(c))"
   ]
  },
  {
   "cell_type": "markdown",
   "metadata": {
    "colab_type": "text",
    "id": "5NjkKegHipjX"
   },
   "source": [
    "Datatypes\n",
    "\n",
    "> numpy matrix 안에서 사용하는 data 들을 표현하는 방법\n",
    "*   int64는 64비트로 표현하는 integer 라는 뜻\n",
    "*   float64는 64비트(8bytes)로 표현하는 부동소수점 데이터 라는 뜻\n",
    "\n",
    "\n",
    "\n"
   ]
  },
  {
   "cell_type": "code",
   "execution_count": null,
   "metadata": {
    "colab": {
     "base_uri": "https://localhost:8080/",
     "height": 71
    },
    "colab_type": "code",
    "id": "9mt3N3BrjCE1",
    "outputId": "76594de1-c0d3-49dc-d3a6-9268cf779423"
   },
   "outputs": [
    {
     "name": "stdout",
     "output_type": "stream",
     "text": [
      "int64\n",
      "float64\n",
      "int64\n"
     ]
    }
   ],
   "source": [
    "import numpy as np\n",
    "\n",
    "x = np.array([1, 2])   # Let numpy choose the datatype\n",
    "print(x.dtype)         # Prints \"int64\"\n",
    "\n",
    "x = np.array([1.0, 2.0])   # Let numpy choose the datatype\n",
    "print(x.dtype)             # Prints \"float64\"\n",
    "\n",
    "x = np.array([1, 2], dtype=np.int64)   # Force a particular datatype\n",
    "print(x.dtype)                         # Prints \"int64\""
   ]
  },
  {
   "cell_type": "markdown",
   "metadata": {
    "colab_type": "text",
    "id": "6SF5XXQFjK_j"
   },
   "source": [
    "Array Math\n",
    "\n",
    "*   numpy 행렬끼리 더하거나 곱하면 같은 자리에 있는 원소들끼리만 연산. -> element-wise operation\n",
    "\n"
   ]
  },
  {
   "cell_type": "code",
   "execution_count": null,
   "metadata": {
    "colab": {
     "base_uri": "https://localhost:8080/",
     "height": 341
    },
    "colab_type": "code",
    "id": "MXCH9bsbjbqp",
    "outputId": "22755de6-1e0f-4d54-a5f5-a0a0e093cfb8"
   },
   "outputs": [
    {
     "name": "stdout",
     "output_type": "stream",
     "text": [
      "[[ 6.  8.]\n",
      " [10. 12.]]\n",
      "[[ 6.  8.]\n",
      " [10. 12.]]\n",
      "[[-4. -4.]\n",
      " [-4. -4.]]\n",
      "[[-4. -4.]\n",
      " [-4. -4.]]\n",
      "[[ 5. 12.]\n",
      " [21. 32.]]\n",
      "[[ 5. 12.]\n",
      " [21. 32.]]\n",
      "[[0.2        0.33333333]\n",
      " [0.42857143 0.5       ]]\n",
      "[[0.2        0.33333333]\n",
      " [0.42857143 0.5       ]]\n",
      "[[1.         1.41421356]\n",
      " [1.73205081 2.        ]]\n"
     ]
    }
   ],
   "source": [
    "import numpy as np\n",
    "\n",
    "x = np.array([[1,2],[3,4]], dtype=np.float64)\n",
    "y = np.array([[5,6],[7,8]], dtype=np.float64)\n",
    "\n",
    "# Elementwise sum; both produce the array\n",
    "# [[ 6.0  8.0]\n",
    "#  [10.0 12.0]]\n",
    "print(x + y)\n",
    "print(np.add(x, y))\n",
    "\n",
    "# Elementwise difference; both produce the array\n",
    "# [[-4.0 -4.0]\n",
    "#  [-4.0 -4.0]]\n",
    "print(x - y)\n",
    "print(np.subtract(x, y))\n",
    "\n",
    "# Elementwise product; both produce the array\n",
    "# [[ 5.0 12.0]\n",
    "#  [21.0 32.0]]\n",
    "print(x * y)\n",
    "print(np.multiply(x, y))\n",
    "\n",
    "# Elementwise division; both produce the array\n",
    "# [[ 0.2         0.33333333]\n",
    "#  [ 0.42857143  0.5       ]]\n",
    "print(x / y)\n",
    "print(np.divide(x, y))\n",
    "\n",
    "# Elementwise square root; produces the array\n",
    "# [[ 1.          1.41421356]\n",
    "#  [ 1.73205081  2.        ]]\n",
    "print(np.sqrt(x))"
   ]
  },
  {
   "cell_type": "markdown",
   "metadata": {
    "colab_type": "text",
    "id": "vuOAO3HYkRsb"
   },
   "source": [
    "우리가 알고 있던, 수학시간에 배웠던 형태의 '곱'을 표현하기 위해서는 dot operator 를 사용해야함.\n",
    "-> 이런 경우에는 dimension이 바뀜."
   ]
  },
  {
   "cell_type": "code",
   "execution_count": null,
   "metadata": {
    "colab": {
     "base_uri": "https://localhost:8080/",
     "height": 161
    },
    "colab_type": "code",
    "id": "q5g9TzxhkcgE",
    "outputId": "7815bd37-26bd-4649-b608-0fe75520ece2"
   },
   "outputs": [
    {
     "name": "stdout",
     "output_type": "stream",
     "text": [
      "219\n",
      "219\n",
      "[29 67]\n",
      "[29 67]\n",
      "[[19 22]\n",
      " [43 50]]\n",
      "[[19 22]\n",
      " [43 50]]\n"
     ]
    }
   ],
   "source": [
    "import numpy as np\n",
    "\n",
    "x = np.array([[1,2],[3,4]])\n",
    "y = np.array([[5,6],[7,8]])\n",
    "\n",
    "v = np.array([9,10])\n",
    "w = np.array([11, 12])\n",
    "\n",
    "# Inner product of vectors; both produce 219\n",
    "print(v.dot(w))\n",
    "print(np.dot(v, w))\n",
    "\n",
    "# Matrix / vector product; both produce the rank 1 array [29 67]\n",
    "print(x.dot(v))\n",
    "print(np.dot(x, v))\n",
    "\n",
    "# Matrix / matrix product; both produce the rank 2 array\n",
    "# [[19 22]\n",
    "#  [43 50]]\n",
    "print(x.dot(y))\n",
    "print(np.dot(x, y))"
   ]
  },
  {
   "cell_type": "markdown",
   "metadata": {
    "colab_type": "text",
    "id": "MI1MhzyalxJm"
   },
   "source": [
    "numpy 에는 유용한 함수들이 있음.\n",
    "*   https://numpy.org/doc/1.18/reference/routines.math.html \n",
    "*   예를 들어 sum 함수\n",
    "\n",
    "\n",
    "\n",
    "\n",
    "\n"
   ]
  },
  {
   "cell_type": "code",
   "execution_count": null,
   "metadata": {
    "colab": {
     "base_uri": "https://localhost:8080/",
     "height": 71
    },
    "colab_type": "code",
    "id": "GnaGJtvTl-z6",
    "outputId": "7e39a754-c4ad-4aea-b944-732c130f6066"
   },
   "outputs": [
    {
     "name": "stdout",
     "output_type": "stream",
     "text": [
      "10\n",
      "[4 6]\n",
      "[3 7]\n"
     ]
    }
   ],
   "source": [
    "import numpy as np\n",
    "\n",
    "x = np.array([[1,2],[3,4]])\n",
    "\n",
    "print(np.sum(x))  # Compute sum of all elements; prints \"10\"\n",
    "print(np.sum(x, axis=0))  # Compute sum of each column; prints \"[4 6]\" 세로\n",
    "print(np.sum(x, axis=1))  # Compute sum of each row; prints \"[3 7]\" 가로"
   ]
  },
  {
   "cell_type": "markdown",
   "metadata": {
    "colab_type": "text",
    "id": "cOE1Za_4mIMt"
   },
   "source": [
    "Transpose 전치\n",
    "\n",
    "*   \" .T \"를 붙여주면 됨.\n",
    "\n"
   ]
  },
  {
   "cell_type": "code",
   "execution_count": null,
   "metadata": {
    "colab": {
     "base_uri": "https://localhost:8080/",
     "height": 125
    },
    "colab_type": "code",
    "id": "ESNfdqOOmJ5M",
    "outputId": "ea6478b9-0135-4081-bb7a-58662e5f5c70"
   },
   "outputs": [
    {
     "name": "stdout",
     "output_type": "stream",
     "text": [
      "[[1 2]\n",
      " [3 4]]\n",
      "[[1 3]\n",
      " [2 4]]\n",
      "[1 2 3]\n",
      "[1 2 3]\n"
     ]
    }
   ],
   "source": [
    "import numpy as np\n",
    "\n",
    "x = np.array([[1,2], [3,4]])\n",
    "print(x)    # Prints \"[[1 2]\n",
    "            #          [3 4]]\"\n",
    "print(x.T)  # Prints \"[[1 3]\n",
    "            #          [2 4]]\"\n",
    "\n",
    "# Note that taking the transpose of a rank 1 array does nothing:\n",
    "v = np.array([1,2,3])\n",
    "print(v)    # Prints \"[1 2 3]\"\n",
    "print(v.T)  # Prints \"[1 2 3]\""
   ]
  },
  {
   "cell_type": "markdown",
   "metadata": {
    "colab_type": "text",
    "id": "mQMpUVyLmdrT"
   },
   "source": [
    "Broadcasting\n",
    "\n",
    "*   중요!!\n",
    "*   dimension이 다른 array 들에 대해서도 연산이 가능하도록 dimentsion 이 작은 array를 적절하게 확장해주는 개념.\n",
    "\n",
    "딥러닝에서는 데이터셋(X)과 weight(학습하는 파라미터)를 곱한 다음에 bias를 더할때 주로 이 broadcast를 사용함. bias도 학습을 하는 파라미터 중의 하나.\n",
    "\n",
    "\n",
    "\n"
   ]
  },
  {
   "cell_type": "code",
   "execution_count": null,
   "metadata": {
    "colab": {
     "base_uri": "https://localhost:8080/",
     "height": 89
    },
    "colab_type": "code",
    "id": "ctm5nRUkm8jt",
    "outputId": "59b8ae93-dc07-41f6-f6d2-5f172141b486"
   },
   "outputs": [
    {
     "name": "stdout",
     "output_type": "stream",
     "text": [
      "[[ 2  2  4]\n",
      " [ 5  5  7]\n",
      " [ 8  8 10]\n",
      " [11 11 13]]\n"
     ]
    }
   ],
   "source": [
    "import numpy as np\n",
    "\n",
    "# We will add the vector v to each row of the matrix x,\n",
    "# storing the result in the matrix y\n",
    "x = np.array([[1,2,3], [4,5,6], [7,8,9], [10, 11, 12]])\n",
    "v = np.array([1, 0, 1])\n",
    "y = np.empty_like(x)   # Create an empty matrix with the same shape as x\n",
    "\n",
    "# Add the vector v to each row of the matrix x with an explicit loop\n",
    "for i in range(4):\n",
    "    y[i, :] = x[i, :] + v\n",
    "\n",
    "# Now y is the following\n",
    "# [[ 2  2  4]\n",
    "#  [ 5  5  7]\n",
    "#  [ 8  8 10]\n",
    "#  [11 11 13]]\n",
    "print(y)"
   ]
  },
  {
   "cell_type": "code",
   "execution_count": null,
   "metadata": {
    "colab": {},
    "colab_type": "code",
    "id": "IpTov5FFnrJn"
   },
   "outputs": [],
   "source": [
    "위 코드를 조금 더 간단하게 -> vv는 v를 4개를 더 만들어서 stacking 하는 코드"
   ]
  },
  {
   "cell_type": "code",
   "execution_count": null,
   "metadata": {
    "colab": {
     "base_uri": "https://localhost:8080/",
     "height": 161
    },
    "colab_type": "code",
    "id": "nJjAfDLYnkIy",
    "outputId": "8341179a-1643-443b-b3ca-f1c5fed4d291"
   },
   "outputs": [
    {
     "name": "stdout",
     "output_type": "stream",
     "text": [
      "[[1 0 1]\n",
      " [1 0 1]\n",
      " [1 0 1]\n",
      " [1 0 1]]\n",
      "[[ 2  2  4]\n",
      " [ 5  5  7]\n",
      " [ 8  8 10]\n",
      " [11 11 13]]\n"
     ]
    }
   ],
   "source": [
    "import numpy as np\n",
    "\n",
    "# We will add the vector v to each row of the matrix x,\n",
    "# storing the result in the matrix y\n",
    "x = np.array([[1,2,3], [4,5,6], [7,8,9], [10, 11, 12]])\n",
    "v = np.array([1, 0, 1])\n",
    "vv = np.tile(v, (4, 1))   # Stack 4 copies of v on top of each other // v를 4행으로 [] 1번\n",
    "print(vv)                 # Prints \"[[1 0 1]\n",
    "                          #          [1 0 1]\n",
    "                          #          [1 0 1]\n",
    "                          #          [1 0 1]]\"\n",
    "\n",
    "y = x + vv  # Add x and vv elementwise\n",
    "print(y)  # Prints \"[[ 2  2  4\n",
    "          #          [ 5  5  7]\n",
    "          #          [ 8  8 10]\n",
    "          #          [11 11 13]]\"\n"
   ]
  },
  {
   "cell_type": "markdown",
   "metadata": {
    "colab_type": "text",
    "id": "P4zohmsboSKZ"
   },
   "source": [
    "Broadcasting 쓰면 아래처럼"
   ]
  },
  {
   "cell_type": "code",
   "execution_count": null,
   "metadata": {
    "colab": {
     "base_uri": "https://localhost:8080/",
     "height": 89
    },
    "colab_type": "code",
    "id": "CZmqq3P3oVHi",
    "outputId": "c74bd8fd-cfcc-4edb-d823-a2be0e1925fe"
   },
   "outputs": [
    {
     "name": "stdout",
     "output_type": "stream",
     "text": [
      "[[ 2  2  4]\n",
      " [ 5  5  7]\n",
      " [ 8  8 10]\n",
      " [11 11 13]]\n"
     ]
    }
   ],
   "source": [
    "import numpy as np\n",
    "\n",
    "# We will add the vector v to each row of the matrix x,\n",
    "# storing the result in the matrix y\n",
    "x = np.array([[1,2,3], [4,5,6], [7,8,9], [10, 11, 12]])\n",
    "v = np.array([1, 0, 1])\n",
    "y = x + v  # Add v to each row of x using broadcasting\n",
    "print(y)  # Prints \"[[ 2  2  4]\n",
    "          #          [ 5  5  7]\n",
    "          #          [ 8  8 10]\n",
    "          #          [11 11 13]]\""
   ]
  },
  {
   "cell_type": "markdown",
   "metadata": {
    "colab_type": "text",
    "id": "9CY0KOe5odfq"
   },
   "source": [
    "MATPLOTLIB\n",
    "\n",
    "*   외우진 않더라도 이해해보자.\n",
    "\n"
   ]
  },
  {
   "cell_type": "code",
   "execution_count": null,
   "metadata": {
    "colab": {
     "base_uri": "https://localhost:8080/",
     "height": 265
    },
    "colab_type": "code",
    "id": "kocqg1Jmos-V",
    "outputId": "175848db-d429-449a-8a88-22eb9c3e75cb"
   },
   "outputs": [
    {
     "data": {
      "image/png": "[encoded data removed]",
      "text/plain": [
       "<Figure size 432x288 with 1 Axes>"
      ]
     },
     "metadata": {
      "needs_background": "light",
      "tags": []
     },
     "output_type": "display_data"
    }
   ],
   "source": [
    "%matplotlib inline\n",
    "\n",
    "import numpy as np\n",
    "import matplotlib.pyplot as plt\n",
    "\n",
    "# Compute the x and y coordinates for points on a sine curve\n",
    "x = np.arange(0, 3 * np.pi, 0.1)\n",
    "y = np.sin(x)\n",
    "\n",
    "# Plot the points using matplotlib\n",
    "plt.plot(x, y)\n",
    "plt.show()  # You must call plt.show() to make graphics appear."
   ]
  }
 ],
 "metadata": {
  "colab": {
   "collapsed_sections": [],
   "name": "00_numpy_practice1_hmcho(0902).ipynb",
   "provenance": []
  },
  "kernelspec": {
   "display_name": "Python 3",
   "language": "python",
   "name": "python3"
  },
  "language_info": {
   "codemirror_mode": {
    "name": "ipython",
    "version": 3
   },
   "file_extension": ".py",
   "mimetype": "text/x-python",
   "name": "python",
   "nbconvert_exporter": "python",
   "pygments_lexer": "ipython3",
   "version": "3.8.4"
  }
 },
 "nbformat": 4,
 "nbformat_minor": 1
}
