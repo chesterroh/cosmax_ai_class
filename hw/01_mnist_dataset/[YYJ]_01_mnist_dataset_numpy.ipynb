{
 "cells": [
  {
   "cell_type": "markdown",
   "metadata": {
    "colab_type": "text",
    "id": "7Bpb3DULYQvR"
   },
   "source": [
    "### `**MNist dataset**\n",
    "mnist dataset 소개: https://sdc-james.gitbook.io/onebook/4.-and/5.1./5.1.3.-mnist-dataset\n",
    "\n",
    "Numpy를 활용한 dataset 핸들링: Yann Lecun 교수가 90년대 초반에 만들었던 Neural Net이였던 LeNet에 사용되었던 dataset. 0에서 9까지의 사람손글씨 데이터셋. 관련 영상: https://www.youtube.com/watch?v=FwFduRA_L6Q \n",
    "\n",
    "dataset은 yann.lcun.com에서 다운로드 가능: http://yann.lecun.com/exdb/mnist/"
   ]
  },
  {
   "cell_type": "code",
   "execution_count": 3,
   "metadata": {
    "colab": {},
    "colab_type": "code",
    "id": "fkg4jIBHKQfn"
   },
   "outputs": [],
   "source": [
    "import numpy as np\n",
    "from urllib import request # urllib.request는 URL(Uniform Resource Locator)을 가져오기 위한 파이썬 모듈\n",
    "import gzip # .gz파일의 압축을 해제하지 않고 바로 열어볼 수 있는 모듈 제공"
   ]
  },
  {
   "cell_type": "code",
   "execution_count": 4,
   "metadata": {
    "colab": {
     "base_uri": "https://localhost:8080/",
     "height": 143
    },
    "colab_type": "code",
    "id": "ZYOfzyKKWQrM",
    "outputId": "d12dc81b-64f1-40be-dbe0-cbb4cdcad2c5"
   },
   "outputs": [
    {
     "name": "stdout",
     "output_type": "stream",
     "text": [
      "[['x_train', 'train-images-idx3-ubyte.gz'], ['x_test', 't10k-images-idx3-ubyte.gz'], ['y_train', 'train-labels-idx1-ubyte.gz'], ['y_test', 't10k-labels-idx1-ubyte.gz']]\n",
      "4\n",
      "<class 'list'>\n",
      "http://yann.lecun.com/exdb/mnist/train-images-idx3-ubyte.gz\n",
      "http://yann.lecun.com/exdb/mnist/t10k-images-idx3-ubyte.gz\n",
      "http://yann.lecun.com/exdb/mnist/train-labels-idx1-ubyte.gz\n",
      "http://yann.lecun.com/exdb/mnist/t10k-labels-idx1-ubyte.gz\n"
     ]
    }
   ],
   "source": [
    "filename = [['x_train', 'train-images-idx3-ubyte.gz'], \n",
    "            ['x_test', 't10k-images-idx3-ubyte.gz'],\n",
    "            ['y_train', 'train-labels-idx1-ubyte.gz'],\n",
    "            ['y_test', 't10k-labels-idx1-ubyte.gz']]   # 길이가 4인 리스트 생성\n",
    "\n",
    "base_url = 'http://yann.lecun.com/exdb/mnist/'\n",
    "\n",
    "print(filename)\n",
    "print(len(filename))\n",
    "print(type(filename))\n",
    "\n",
    "for n in filename:\n",
    "  print(base_url+n[1])"
   ]
  },
  {
   "cell_type": "code",
   "execution_count": 5,
   "metadata": {
    "colab": {
     "base_uri": "https://localhost:8080/",
     "height": 107
    },
    "colab_type": "code",
    "id": "mXrZMQWQbPQY",
    "outputId": "842be8ea-aa57-4816-de7b-99d3eefbe003"
   },
   "outputs": [
    {
     "name": "stdout",
     "output_type": "stream",
     "text": [
      "http://yann.lecun.com/exdb/mnist/ downloadedtrain-images-idx3-ubyte.gz\n",
      "http://yann.lecun.com/exdb/mnist/ downloadedt10k-images-idx3-ubyte.gz\n",
      "http://yann.lecun.com/exdb/mnist/ downloadedtrain-labels-idx1-ubyte.gz\n",
      "http://yann.lecun.com/exdb/mnist/ downloadedt10k-labels-idx1-ubyte.gz\n",
      "download has been completed.\n"
     ]
    }
   ],
   "source": [
    "# filename list에서 하나씩 file 이름 호출\n",
    "for n in filename:\n",
    "  request.urlretrieve(base_url+n[1], n[1]) # request.urlretrieve(url주소, 로컬에 저장될 파일이름): URL로 표시된 네트워크 객체(URL 주소의 문서)를 로컬 파일로 저장, 즉 직접 다운로드가 가능함\n",
    "  print('%s downloaded' % base_url+n[1])\n",
    "\n",
    "print('download has been completed.')"
   ]
  },
  {
   "cell_type": "code",
   "execution_count": 6,
   "metadata": {
    "colab": {},
    "colab_type": "code",
    "id": "jOwNZK-DYQKB"
   },
   "outputs": [],
   "source": [
    "# dictionary에 'x_train', 'y_train', 'x_test', 'y_test'라는 key로 저장\n",
    "mnist = {}\n",
    "\n",
    "# train, test image를 가져와서 dictionary에 x_train, y_train에 input\n",
    "for name in filename[:2]:  # train set 만 호출\n",
    "  with gzip.open(name[1], 'rb') as f:   #gz 파일을 읽어와 f에 저장. 첫 번째 인수는 가져올 파일명, 뒤에는 모드 인자로, 'rb'가 디폴트.\n",
    "    mnist[name[0]] = np.frombuffer(f.read(), np.uint8, offset=16).reshape(-1, 28, 28)   # frombuffer(raw data, dtype, ): bytes(raw data)에서 array로 값을 얻고 싶을 때 쓰는 함수. 원하는 차원이나 크기를 맞추기 위해 reshape 필요\n",
    "    # f.read(): 파일의 내용 전체를 문자열로 돌려줌. 즉 파일 전체 내용을 받음.\n",
    "    # 위 코드에서 offset=16의 의미는?\n",
    "    # reshape(-1, 28, 28)에서 -1의 의미: 열과 깊이가 지정된 차원으로 배정이 될 수 있도록 행의 차원을 추정하라는 것. https://rfriend.tistory.com/345 참고.\n",
    "\n",
    "for name in filename[2:]:\n",
    "  with gzip.open(name[1], 'rb') as f:\n",
    "    mnist[name[0]] = np.frombuffer(f.read(), np.uint8, offset=8).reshape(-1,1) # offset=8이 무엇을 뜻하는지??"
   ]
  },
  {
   "cell_type": "code",
   "execution_count": 5,
   "metadata": {
    "colab": {
     "base_uri": "https://localhost:8080/",
     "height": 53
    },
    "colab_type": "code",
    "id": "kmeHZggLYExd",
    "outputId": "9a60e6ee-708e-4309-8e14-0f3c098b0d71"
   },
   "outputs": [
    {
     "name": "stdout",
     "output_type": "stream",
     "text": [
      "(60000, 28, 28)\n",
      "(60000, 1)\n"
     ]
    }
   ],
   "source": [
    "# training data, label의 shape 확인\n",
    "print(mnist['x_train'].shape)\n",
    "print(mnist['y_train'].shape)"
   ]
  },
  {
   "cell_type": "code",
   "execution_count": 6,
   "metadata": {
    "colab": {
     "base_uri": "https://localhost:8080/",
     "height": 53
    },
    "colab_type": "code",
    "id": "eFASLHHLo6zv",
    "outputId": "3713f6d1-f3a1-4c23-ffb5-cb21fcf958fc"
   },
   "outputs": [
    {
     "name": "stdout",
     "output_type": "stream",
     "text": [
      "(10000, 28, 28)\n",
      "(10000, 1)\n"
     ]
    }
   ],
   "source": [
    "# test data, label의 shape 확인\n",
    "print(mnist['x_test'].shape)\n",
    "print(mnist['y_test'].shape)"
   ]
  },
  {
   "cell_type": "code",
   "execution_count": 7,
   "metadata": {
    "colab": {
     "base_uri": "https://localhost:8080/",
     "height": 265
    },
    "colab_type": "code",
    "id": "mV5GzAP9qB7l",
    "outputId": "446fc655-300a-4fe3-ad4e-0b8446017737"
   },
   "outputs": [
    {
     "data": {
      "image/png": "[encoded data removed]",
      "text/plain": [
       "<Figure size 432x288 with 1 Axes>"
      ]
     },
     "metadata": {
      "needs_background": "light"
     },
     "output_type": "display_data"
    }
   ],
   "source": [
    "# dataset 확인\n",
    "import matplotlib.pyplot as plt\n",
    "\n",
    "# 100번째 index에 들어있는 데이터 출력\n",
    "img = mnist['x_train'][99, :]\n",
    "plt.imshow(img)\n",
    "plt.show()"
   ]
  },
  {
   "cell_type": "code",
   "execution_count": 7,
   "metadata": {
    "colab": {
     "base_uri": "https://localhost:8080/",
     "height": 35
    },
    "colab_type": "code",
    "id": "fBJm8V1mqOdI",
    "outputId": "86e18831-c5a0-4f21-8667-da95c193e26b"
   },
   "outputs": [
    {
     "name": "stdout",
     "output_type": "stream",
     "text": [
      "[1]\n"
     ]
    }
   ],
   "source": [
    "# 28x28 pixel로 된 것을 확인. 이 숫자가 나타나는 번호가 맞는지 label로 확인\n",
    "print(mnist['y_train'][99])"
   ]
  },
  {
   "cell_type": "code",
   "execution_count": 9,
   "metadata": {
    "colab": {
     "base_uri": "https://localhost:8080/",
     "height": 265
    },
    "colab_type": "code",
    "id": "Kd4vDpMVrKJD",
    "outputId": "3be9d89d-483b-4476-fff2-0e0e651e220a"
   },
   "outputs": [
    {
     "data": {
      "image/png": "[encoded data removed]",
      "text/plain": [
       "<Figure size 432x288 with 1 Axes>"
      ]
     },
     "metadata": {
      "needs_background": "light"
     },
     "output_type": "display_data"
    }
   ],
   "source": [
    "# 1이라는 것이 확인됨. 이번엔 6000번째 데이터의 숫자를 출력해보자\n",
    "img = mnist['x_train'][5999]\n",
    "plt.imshow(img)\n",
    "plt.show()"
   ]
  },
  {
   "cell_type": "code",
   "execution_count": 10,
   "metadata": {
    "colab": {
     "base_uri": "https://localhost:8080/",
     "height": 35
    },
    "colab_type": "code",
    "id": "Mc6otWtKr94Z",
    "outputId": "4678b017-fe34-417c-e294-c7a80caeb5e4"
   },
   "outputs": [
    {
     "name": "stdout",
     "output_type": "stream",
     "text": [
      "[9]\n"
     ]
    }
   ],
   "source": [
    "# 6000번째 숫자에 대한 label 확인\n",
    "print(mnist['y_train'][5999])"
   ]
  },
  {
   "cell_type": "markdown",
   "metadata": {
    "colab_type": "text",
    "id": "EzjoSSgptDVI"
   },
   "source": [
    "### **연습문제**"
   ]
  },
  {
   "cell_type": "code",
   "execution_count": 9,
   "metadata": {
    "colab": {},
    "colab_type": "code",
    "id": "S3IvMoajsfSh"
   },
   "outputs": [],
   "source": [
    "x_train, y_train, x_test, y_test = mnist['x_train'], mnist['y_train'], mnist['x_test'], mnist['y_test'] # dictionary의 값들을 tuple로 전환??"
   ]
  },
  {
   "cell_type": "code",
   "execution_count": 12,
   "metadata": {
    "colab": {
     "base_uri": "https://localhost:8080/",
     "height": 240
    },
    "colab_type": "code",
    "id": "a8lD9K39sndQ",
    "outputId": "5b5c4260-240d-4fde-bfa8-88edd8e0c0f2"
   },
   "outputs": [
    {
     "data": {
      "image/png": "[encoded data removed]",
      "text/plain": [
       "<Figure size 432x288 with 10 Axes>"
      ]
     },
     "metadata": {
      "needs_background": "light"
     },
     "output_type": "display_data"
    }
   ],
   "source": [
    "# 연습문제 1. (pyplot)\n",
    "# x_train data 로부터 i 번째에서부터 시작하는 이미지를 10 개를 동시에 출력해 봅시다.\n",
    "\n",
    "def draw_10_images(i):\n",
    "    images = x_train[i:i+10]\n",
    "\n",
    "    idx=1\n",
    "    for img in images:\n",
    "      plt.subplot(2,5,idx)\n",
    "      plt.imshow(img)\n",
    "      plt.title('img_%d' % i)\n",
    "      idx += 1\n",
    "      i += 1\n",
    "    \n",
    "    plt.show()\n",
    "\n",
    "draw_10_images(35782)"
   ]
  },
  {
   "cell_type": "code",
   "execution_count": 18,
   "metadata": {
    "colab": {
     "base_uri": "https://localhost:8080/",
     "height": 215
    },
    "colab_type": "code",
    "id": "WXUNegcGv4r_",
    "outputId": "83e1db90-758a-409f-ab67-3cdb1ba85634"
   },
   "outputs": [
    {
     "name": "stdout",
     "output_type": "stream",
     "text": [
      "0 : 5923 개\n",
      "1 : 6742 개\n",
      "2 : 5958 개\n",
      "3 : 6131 개\n",
      "4 : 5842 개\n",
      "5 : 5421 개\n",
      "6 : 5918 개\n",
      "7 : 6265 개\n",
      "8 : 5851 개\n",
      "9 : 5949 개\n",
      "60000\n",
      "0 : 5923\n",
      "1 : 6742\n",
      "2 : 5958\n",
      "3 : 6131\n",
      "4 : 5842\n",
      "5 : 5421\n",
      "6 : 5918\n",
      "7 : 6265\n",
      "8 : 5851\n",
      "9 : 5949\n"
     ]
    },
    {
     "data": {
      "text/plain": [
       "23983"
      ]
     },
     "execution_count": 18,
     "metadata": {},
     "output_type": "execute_result"
    }
   ],
   "source": [
    "# 연습문제 2. x_train 에서 각각의 0, 1, 2, ..., 9 각각의 데이터셋은 몇개씩이나 있을까요?\n",
    "\n",
    "\n",
    "# iterative (반복하는 방식)\n",
    "cum=0\n",
    "for i in range(10):\n",
    "  mask = ( y_train == i )\n",
    "  count_i = len(y_train[mask])\n",
    "  cum += count_i\n",
    "  print('%d : %d 개' % (i, count_i))\n",
    "\n",
    "print(cum)\n",
    "\n",
    "# vectorized 방식 \n",
    "\n",
    "for i in range(10):\n",
    "    print(\"%d : %d\" % (i,np.sum( y_train == i )))\n",
    "\n",
    "np.sum(y_train > 5 )"
   ]
  },
  {
   "cell_type": "code",
   "execution_count": 36,
   "metadata": {},
   "outputs": [
    {
     "name": "stdout",
     "output_type": "stream",
     "text": [
      "(1000,)\n",
      "(399,)\n",
      "[101 102 103 104 105 106 107 108 109 110 111 112 113 114 115 116 117 118\n",
      " 119 120 121 122 123 124 125 126 127 128 129 130 131 132 133 134 135 136\n",
      " 137 138 139 140 141 142 143 144 145 146 147 148 149 150 151 152 153 154\n",
      " 155 156 157 158 159 160 161 162 163 164 165 166 167 168 169 170 171 172\n",
      " 173 174 175 176 177 178 179 180 181 182 183 184 185 186 187 188 189 190\n",
      " 191 192 193 194 195 196 197 198 199 200 201 202 203 204 205 206 207 208\n",
      " 209 210 211 212 213 214 215 216 217 218 219 220 221 222 223 224 225 226\n",
      " 227 228 229 230 231 232 233 234 235 236 237 238 239 240 241 242 243 244\n",
      " 245 246 247 248 249 250 251 252 253 254 255 256 257 258 259 260 261 262\n",
      " 263 264 265 266 267 268 269 270 271 272 273 274 275 276 277 278 279 280\n",
      " 281 282 283 284 285 286 287 288 289 290 291 292 293 294 295 296 297 298\n",
      " 299 300 301 302 303 304 305 306 307 308 309 310 311 312 313 314 315 316\n",
      " 317 318 319 320 321 322 323 324 325 326 327 328 329 330 331 332 333 334\n",
      " 335 336 337 338 339 340 341 342 343 344 345 346 347 348 349 350 351 352\n",
      " 353 354 355 356 357 358 359 360 361 362 363 364 365 366 367 368 369 370\n",
      " 371 372 373 374 375 376 377 378 379 380 381 382 383 384 385 386 387 388\n",
      " 389 390 391 392 393 394 395 396 397 398 399 400 401 402 403 404 405 406\n",
      " 407 408 409 410 411 412 413 414 415 416 417 418 419 420 421 422 423 424\n",
      " 425 426 427 428 429 430 431 432 433 434 435 436 437 438 439 440 441 442\n",
      " 443 444 445 446 447 448 449 450 451 452 453 454 455 456 457 458 459 460\n",
      " 461 462 463 464 465 466 467 468 469 470 471 472 473 474 475 476 477 478\n",
      " 479 480 481 482 483 484 485 486 487 488 489 490 491 492 493 494 495 496\n",
      " 497 498 499]\n"
     ]
    }
   ],
   "source": [
    "a = np.arange(0,1000)\n",
    "print(a.shape)\n",
    "\n",
    "mask = ( a > 100) & ( a < 500)\n",
    "\n",
    "b = a[mask]\n",
    "\n",
    "print(b.shape)\n",
    "print(b)\n",
    "\n"
   ]
  },
  {
   "cell_type": "code",
   "execution_count": 37,
   "metadata": {
    "colab": {
     "base_uri": "https://localhost:8080/",
     "height": 1000
    },
    "colab_type": "code",
    "id": "7B8d68KQy7BG",
    "outputId": "3040e4b8-f8d9-4f34-ff01-008e9c5359c2"
   },
   "outputs": [
    {
     "name": "stdout",
     "output_type": "stream",
     "text": [
      "[[0.86802297]\n",
      " [0.8791198 ]\n",
      " [0.46333831]\n",
      " [0.56587192]\n",
      " [0.70457721]\n",
      " [0.70815023]\n",
      " [0.07624274]\n",
      " [0.58926812]\n",
      " [0.4337733 ]\n",
      " [0.81496253]\n",
      " [0.17951562]\n",
      " [0.19422896]\n",
      " [0.42602806]\n",
      " [0.81571428]\n",
      " [0.13800803]\n",
      " [0.36460087]\n",
      " [0.07094081]\n",
      " [0.90964287]\n",
      " [0.37242218]\n",
      " [0.46290971]\n",
      " [0.11027225]\n",
      " [0.76565414]\n",
      " [0.32019707]\n",
      " [0.49276904]\n",
      " [0.56534483]\n",
      " [0.06196224]\n",
      " [0.96795496]\n",
      " [0.41927954]\n",
      " [0.79213004]\n",
      " [0.96694202]\n",
      " [0.79744209]\n",
      " [0.26477339]\n",
      " [0.3154839 ]\n",
      " [0.9280662 ]\n",
      " [0.42280905]\n",
      " [0.65602417]\n",
      " [0.87320323]\n",
      " [0.64278527]\n",
      " [0.67463804]\n",
      " [0.27976842]\n",
      " [0.18467321]\n",
      " [0.15332578]\n",
      " [0.31279325]\n",
      " [0.33134337]\n",
      " [0.56339256]\n",
      " [0.96256302]\n",
      " [0.97065072]\n",
      " [0.65989539]\n",
      " [0.03687039]\n",
      " [0.27875652]\n",
      " [0.17034415]\n",
      " [0.03049663]\n",
      " [0.18319428]\n",
      " [0.64463193]\n",
      " [0.58942409]\n",
      " [0.5867503 ]\n",
      " [0.56170442]\n",
      " [0.35904592]\n",
      " [0.68131466]\n",
      " [0.42707539]\n",
      " [0.17479957]\n",
      " [0.51556207]\n",
      " [0.55299571]\n",
      " [0.29163776]\n",
      " [0.47077705]\n",
      " [0.86148027]\n",
      " [0.00474909]\n",
      " [0.46938802]\n",
      " [0.32241757]\n",
      " [0.9180155 ]\n",
      " [0.70819045]\n",
      " [0.20308014]\n",
      " [0.47092699]\n",
      " [0.54964963]\n",
      " [0.28427013]\n",
      " [0.42003388]\n",
      " [0.03836994]\n",
      " [0.089036  ]\n",
      " [0.56986006]\n",
      " [0.91242247]\n",
      " [0.28645717]\n",
      " [0.04164212]\n",
      " [0.85059113]\n",
      " [0.36782448]\n",
      " [0.56048538]\n",
      " [0.9352971 ]\n",
      " [0.28108623]\n",
      " [0.12544795]\n",
      " [0.52907557]\n",
      " [0.99699119]\n",
      " [0.03698963]\n",
      " [0.29249877]\n",
      " [0.60683709]\n",
      " [0.29033861]\n",
      " [0.63517091]\n",
      " [0.13877344]\n",
      " [0.16550983]\n",
      " [0.08816309]\n",
      " [0.91207223]\n",
      " [0.34689918]]\n",
      "[[False]\n",
      " [False]\n",
      " [False]\n",
      " [False]\n",
      " [False]\n",
      " [False]\n",
      " [ True]\n",
      " [False]\n",
      " [False]\n",
      " [False]\n",
      " [ True]\n",
      " [ True]\n",
      " [False]\n",
      " [False]\n",
      " [ True]\n",
      " [ True]\n",
      " [ True]\n",
      " [False]\n",
      " [ True]\n",
      " [False]\n",
      " [ True]\n",
      " [False]\n",
      " [ True]\n",
      " [False]\n",
      " [False]\n",
      " [ True]\n",
      " [False]\n",
      " [False]\n",
      " [False]\n",
      " [False]\n",
      " [False]\n",
      " [ True]\n",
      " [ True]\n",
      " [False]\n",
      " [False]\n",
      " [False]\n",
      " [False]\n",
      " [False]\n",
      " [False]\n",
      " [ True]\n",
      " [ True]\n",
      " [ True]\n",
      " [ True]\n",
      " [ True]\n",
      " [False]\n",
      " [False]\n",
      " [False]\n",
      " [False]\n",
      " [ True]\n",
      " [ True]\n",
      " [ True]\n",
      " [ True]\n",
      " [ True]\n",
      " [False]\n",
      " [False]\n",
      " [False]\n",
      " [False]\n",
      " [ True]\n",
      " [False]\n",
      " [False]\n",
      " [ True]\n",
      " [False]\n",
      " [False]\n",
      " [ True]\n",
      " [False]\n",
      " [False]\n",
      " [ True]\n",
      " [False]\n",
      " [ True]\n",
      " [False]\n",
      " [False]\n",
      " [ True]\n",
      " [False]\n",
      " [False]\n",
      " [ True]\n",
      " [False]\n",
      " [ True]\n",
      " [ True]\n",
      " [False]\n",
      " [False]\n",
      " [ True]\n",
      " [ True]\n",
      " [False]\n",
      " [ True]\n",
      " [False]\n",
      " [False]\n",
      " [ True]\n",
      " [ True]\n",
      " [False]\n",
      " [False]\n",
      " [ True]\n",
      " [ True]\n",
      " [False]\n",
      " [ True]\n",
      " [False]\n",
      " [ True]\n",
      " [ True]\n",
      " [ True]\n",
      " [False]\n",
      " [ True]]\n",
      "(43, 1) 43\n",
      "[[0.07624274]\n",
      " [0.17951562]\n",
      " [0.19422896]\n",
      " [0.13800803]\n",
      " [0.36460087]\n",
      " [0.07094081]\n",
      " [0.37242218]\n",
      " [0.11027225]\n",
      " [0.32019707]\n",
      " [0.06196224]\n",
      " [0.26477339]\n",
      " [0.3154839 ]\n",
      " [0.27976842]\n",
      " [0.18467321]\n",
      " [0.15332578]\n",
      " [0.31279325]\n",
      " [0.33134337]\n",
      " [0.03687039]\n",
      " [0.27875652]\n",
      " [0.17034415]\n",
      " [0.03049663]\n",
      " [0.18319428]\n",
      " [0.35904592]\n",
      " [0.17479957]\n",
      " [0.29163776]\n",
      " [0.00474909]\n",
      " [0.32241757]\n",
      " [0.20308014]\n",
      " [0.28427013]\n",
      " [0.03836994]\n",
      " [0.089036  ]\n",
      " [0.28645717]\n",
      " [0.04164212]\n",
      " [0.36782448]\n",
      " [0.28108623]\n",
      " [0.12544795]\n",
      " [0.03698963]\n",
      " [0.29249877]\n",
      " [0.29033861]\n",
      " [0.13877344]\n",
      " [0.16550983]\n",
      " [0.08816309]\n",
      " [0.34689918]]\n"
     ]
    }
   ],
   "source": [
    "# 연습문제 3. 0~9 까지를 분류하는 multi-class classification은 pytorch를 이용해서 매우 손쉽게 풀어볼 예정이구요. 학습을 위해서 0,1 숫자 두개는 특별히 분류해서 numpy를 이용해서 직접 logistic regression을 돌려볼려고 합니다.\n",
    "\n",
    "# 0,1 만 존재하는 x_train, y_train, x_test, y_test를 만들어 보도록 합시다. \n",
    "\n",
    "# Hint\n",
    "a = np.random.random(1000000)\n",
    "a = a.reshape(100,1)   # rank-1 row array 에서 column array 로 변환\n",
    "# (100,) ==> (100,1)\n",
    "print(a)\n",
    "\n",
    "mask = a < 0.4  #  a array 에서 0.4 보다 작은 원소만 뽑아서 mask array 를 만듬\n",
    "print(mask) # boolean 형태의 array\n",
    "\n",
    "c = a[mask]\n",
    "c = c.reshape(-1,1)\n",
    "print(c.shape, len(c))\n",
    "print(c)\n",
    "\n",
    "# 위의 예제를 보시면 y_train 에서 0,1 을 뽑는 것 가능하겠죠?  y_train 에서 얻은 mask를 이용해서 x_train 을 얻는 것은 조금 복잡합니다 :)"
   ]
  },
  {
   "cell_type": "code",
   "execution_count": 15,
   "metadata": {
    "colab": {
     "base_uri": "https://localhost:8080/",
     "height": 143
    },
    "colab_type": "code",
    "id": "GsCOCbmj37BQ",
    "outputId": "916714ab-f975-4230-aa3d-dadb7ae80ea1"
   },
   "outputs": [
    {
     "name": "stdout",
     "output_type": "stream",
     "text": [
      "[[False]\n",
      " [ True]\n",
      " [False]\n",
      " ...\n",
      " [False]\n",
      " [False]\n",
      " [False]]\n",
      "(12665, 1) 12665\n",
      "[[0]\n",
      " [1]\n",
      " [1]\n",
      " ...\n",
      " [1]\n",
      " [0]\n",
      " [1]]\n"
     ]
    }
   ],
   "source": [
    "train_bool = ([y_train < 2])[0]\n",
    "print(train_bool)\n",
    "\n",
    "y01_train = y_train[y_train < 2].reshape(-1,1)\n",
    "print(y01_train.shape, len(y01_train))\n",
    "print(y01_train)\n"
   ]
  },
  {
   "cell_type": "code",
   "execution_count": 49,
   "metadata": {},
   "outputs": [
    {
     "name": "stdout",
     "output_type": "stream",
     "text": [
      "12665\n",
      "(60000, 1)\n",
      "12665\n",
      "[[False]\n",
      " [ True]\n",
      " [False]\n",
      " ...\n",
      " [False]\n",
      " [False]\n",
      " [False]]\n",
      "[False  True False ... False False False]\n"
     ]
    }
   ],
   "source": [
    "\n",
    "\n",
    "x_train, y_train, x_test, y_test \n",
    "\n",
    "# label 이 0, 1 인 dataset 만 추출을 해보자. \n",
    "# y_train = [[0], [1], [7], ... [9]]\n",
    "\n",
    "# mask = ( y_train == 0 ) + (y_train ==1 )\n",
    "mask = y_train < 2\n",
    "\n",
    "print(np.sum(mask)) #  0, 1 인 element 의 갯수\n",
    "print(mask.shape)\n",
    "\n",
    "y_train_01 = y_train[mask]\n",
    "print(len(y_train_01))\n",
    "# x_train_01 = x_train[mask]    # x_train shape 은 (60000,[ 28,28 ])\n",
    "#                                                  12665 만 꺼내야 되거든요.\n",
    "\n",
    "print(mask)\n",
    "print(mask.T[0])\n",
    "x_train_01 = x_train[mask.T[0],:]\n",
    "\n"
   ]
  },
  {
   "cell_type": "code",
   "execution_count": 16,
   "metadata": {
    "colab": {
     "base_uri": "https://localhost:8080/",
     "height": 258
    },
    "colab_type": "code",
    "id": "81zMV1ufmJoN",
    "outputId": "e7d30934-74b1-44fc-cf16-983bdd24fbcb"
   },
   "outputs": [
    {
     "name": "stdout",
     "output_type": "stream",
     "text": [
      "x01_train의 길이: 12665, y01_train의 길이: 12665\n"
     ]
    },
    {
     "data": {
      "image/png": "[encoded data removed]",
      "text/plain": [
       "<Figure size 432x288 with 10 Axes>"
      ]
     },
     "metadata": {
      "needs_background": "light"
     },
     "output_type": "display_data"
    }
   ],
   "source": [
    "# 0,1 train set 추출\n",
    "train_bool = np.array([y_train < 2])[0]\n",
    "\n",
    "x01_train = []\n",
    "y01_train = []\n",
    "\n",
    "for idx, y in enumerate(train_bool):\n",
    "  if y == True:\n",
    "    x01_train.append(x_train[idx])\n",
    "    y01_train.append(y_train[idx])\n",
    "\n",
    "print('x01_train의 길이: %d, y01_train의 길이: %d' % (len(x01_train), len(y01_train)))\n",
    "\n",
    "x01_train_array = np.array(x01_train).reshape(-1, 28, 28)\n",
    "y01_train_array = np.array(y01_train).reshape(-1,1)\n",
    "\n",
    "\n",
    "# 검증\n",
    "def draw_10_images(i):\n",
    "    images = x01_train_array[i:i+10]\n",
    "\n",
    "    idx=1\n",
    "    for img in images:\n",
    "      plt.subplot(2,5,idx)\n",
    "      plt.imshow(img)\n",
    "      plt.title('img_%d' % i)\n",
    "      idx += 1\n",
    "      i += 1\n",
    "    \n",
    "    plt.show()\n",
    "\n",
    "draw_10_images(100)"
   ]
  },
  {
   "cell_type": "code",
   "execution_count": 19,
   "metadata": {
    "colab": {
     "base_uri": "https://localhost:8080/",
     "height": 258
    },
    "colab_type": "code",
    "id": "E-MNOG5mmWO5",
    "outputId": "4beabe0f-99a8-438f-fb0b-eba2bf39ffbd"
   },
   "outputs": [
    {
     "name": "stdout",
     "output_type": "stream",
     "text": [
      "Test bool\n",
      "[[False]\n",
      " [False]\n",
      " [ True]\n",
      " ...\n",
      " [False]\n",
      " [False]\n",
      " [False]]\n",
      "x01_test의 길이: 2115, y01_test의 길이: 2115\n"
     ]
    },
    {
     "data": {
      "image/png": "[encoded data removed]",
      "text/plain": [
       "<Figure size 432x288 with 10 Axes>"
      ]
     },
     "metadata": {
      "needs_background": "light"
     },
     "output_type": "display_data"
    }
   ],
   "source": [
    "# 0,1 test set 추출\n",
    "# test_bool = np.array([y_test < 2])[0]\n",
    "test_bool = y_test < 2\n",
    "print(\"Test bool\")\n",
    "print(test_bool)\n",
    "\n",
    "x01_test = []\n",
    "y01_test = []\n",
    "\n",
    "for idx, y in enumerate(test_bool):\n",
    "  if y == True:\n",
    "    x01_test.append(x_test[idx])\n",
    "    y01_test.append(y_test[idx])\n",
    "\n",
    "print('x01_test의 길이: %d, y01_test의 길이: %d' % (len(x01_test), len(y01_test)))\n",
    "\n",
    "x01_test_array = np.array(x01_test).reshape(-1, 28, 28)\n",
    "y01_test_array = np.array(y01_test).reshape(-1,1)\n",
    "\n",
    "\n",
    "# 검증\n",
    "def draw_10_images(i):\n",
    "    images = x01_test_array[i:i+10]\n",
    "\n",
    "    idx=1\n",
    "    for img in images:\n",
    "      plt.subplot(2,5,idx)\n",
    "      plt.imshow(img)\n",
    "      plt.title('img_%d' % i)\n",
    "      idx += 1\n",
    "      i += 1\n",
    "    \n",
    "    plt.show()\n",
    "\n",
    "draw_10_images(100)"
   ]
  },
  {
   "cell_type": "code",
   "execution_count": null,
   "metadata": {
    "colab": {},
    "colab_type": "code",
    "id": "4u95xTm7m7X6"
   },
   "outputs": [],
   "source": []
  }
 ],
 "metadata": {
  "colab": {
   "collapsed_sections": [],
   "name": "[YYJ]_01_mnist_dataset_numpy",
   "provenance": []
  },
  "kernelspec": {
   "display_name": "Python 3",
   "language": "python",
   "name": "python3"
  },
  "language_info": {
   "codemirror_mode": {
    "name": "ipython",
    "version": 3
   },
   "file_extension": ".py",
   "mimetype": "text/x-python",
   "name": "python",
   "nbconvert_exporter": "python",
   "pygments_lexer": "ipython3",
   "version": "3.8.4"
  }
 },
 "nbformat": 4,
 "nbformat_minor": 1
}
