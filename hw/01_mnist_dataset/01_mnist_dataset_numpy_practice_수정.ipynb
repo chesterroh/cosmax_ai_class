{
  "nbformat": 4,
  "nbformat_minor": 0,
  "metadata": {
    "colab": {
      "name": "01_mnist_dataset_numpy_practice.ipynb",
      "provenance": [],
      "collapsed_sections": []
    },
    "kernelspec": {
      "name": "python3",
      "display_name": "Python 3"
    }
  },
  "cells": [
    {
      "cell_type": "code",
      "metadata": {
        "id": "4Uot0Xl0IyGj",
        "colab_type": "code",
        "colab": {}
      },
      "source": [
        "import numpy as np\n",
        "from urllib import request\n",
        "import gzip"
      ],
      "execution_count": 1,
      "outputs": []
    },
    {
      "cell_type": "code",
      "metadata": {
        "id": "0pUqZTCSI6zM",
        "colab_type": "code",
        "colab": {
          "base_uri": "https://localhost:8080/",
          "height": 170
        },
        "outputId": "e010ecb0-8ed2-400a-aab0-949a145c12c4"
      },
      "source": [
        "filename = [\n",
        "[\"x_train\", \"train-images-idx3-ubyte.gz\"],\n",
        "[\"x_test\", \"t10k-images-idx3-ubyte.gz\"],\n",
        "[\"y_train\", \"train-labels-idx1-ubyte.gz\"],\n",
        "[\"y_test\", \"t10k-labels-idx1-ubyte.gz\" ],\n",
        "]\n",
        "\n",
        "base_url = \"http://yann.lecun.com/exdb/mnist/\"\n",
        "\n",
        "for n in filename:\n",
        "  request.urlretrieve(base_url+n[1],n[1])\n",
        "  print(n[1])\n",
        "  print(\"%s downloaded \" % base_url+n[1])\n",
        "\n",
        "print(\"download has been completed.\")"
      ],
      "execution_count": 2,
      "outputs": [
        {
          "output_type": "stream",
          "text": [
            "train-images-idx3-ubyte.gz\n",
            "http://yann.lecun.com/exdb/mnist/ downloaded train-images-idx3-ubyte.gz\n",
            "t10k-images-idx3-ubyte.gz\n",
            "http://yann.lecun.com/exdb/mnist/ downloaded t10k-images-idx3-ubyte.gz\n",
            "train-labels-idx1-ubyte.gz\n",
            "http://yann.lecun.com/exdb/mnist/ downloaded train-labels-idx1-ubyte.gz\n",
            "t10k-labels-idx1-ubyte.gz\n",
            "http://yann.lecun.com/exdb/mnist/ downloaded t10k-labels-idx1-ubyte.gz\n",
            "download has been completed.\n"
          ],
          "name": "stdout"
        }
      ]
    },
    {
      "cell_type": "code",
      "metadata": {
        "id": "A0zhbOkNJuuL",
        "colab_type": "code",
        "colab": {}
      },
      "source": [
        "mnist = {}\n",
        "for name in filename[:2]:\n",
        "  with gzip.open(name[1], 'rb') as f:\n",
        "    mnist[name[0]] = np.frombuffer(f.read(), np.uint8, offset = 16).reshape(-1,28,28)\n",
        "\n",
        "for name in filename[2:]:\n",
        "  with gzip.open(name[1], 'rb') as f:\n",
        "    mnist[name[0]] = np.frombuffer(f.read(), np.uint8, offset = 8).reshape(-1,1)"
      ],
      "execution_count": 3,
      "outputs": []
    },
    {
      "cell_type": "code",
      "metadata": {
        "id": "BWQxuG8MsAPj",
        "colab_type": "code",
        "colab": {
          "base_uri": "https://localhost:8080/",
          "height": 85
        },
        "outputId": "afe9519e-51b0-4e48-f4f8-b16331cd4efe"
      },
      "source": [
        "print(mnist['x_train'].shape)\n",
        "print(mnist['y_train'].shape)\n",
        "print(mnist['x_test'].shape)\n",
        "print(mnist['y_test'].shape)"
      ],
      "execution_count": 4,
      "outputs": [
        {
          "output_type": "stream",
          "text": [
            "(60000, 28, 28)\n",
            "(60000, 1)\n",
            "(10000, 28, 28)\n",
            "(10000, 1)\n"
          ],
          "name": "stdout"
        }
      ]
    },
    {
      "cell_type": "code",
      "metadata": {
        "id": "0iqbSthssaed",
        "colab_type": "code",
        "colab": {
          "base_uri": "https://localhost:8080/",
          "height": 265
        },
        "outputId": "97b854b9-61d9-4e5b-9936-d187c41fc74f"
      },
      "source": [
        "import matplotlib.pyplot as plt\n",
        "\n",
        "img = mnist['x_train'][99,:]\n",
        "plt.imshow(img)\n",
        "plt.show()"
      ],
      "execution_count": 5,
      "outputs": [
        {
          "output_type": "display_data",
          "data": {
            "image/png": "[encoded data removed]",
            "text/plain": [
              "<Figure size 432x288 with 1 Axes>"
            ]
          },
          "metadata": {
            "tags": [],
            "needs_background": "light"
          }
        }
      ]
    },
    {
      "cell_type": "code",
      "metadata": {
        "id": "mstASnyXtZmP",
        "colab_type": "code",
        "colab": {
          "base_uri": "https://localhost:8080/",
          "height": 34
        },
        "outputId": "a33fdbe0-49ff-470f-db5f-f05e6abc38c0"
      },
      "source": [
        "print(mnist['y_train'][99])"
      ],
      "execution_count": 6,
      "outputs": [
        {
          "output_type": "stream",
          "text": [
            "[1]\n"
          ],
          "name": "stdout"
        }
      ]
    },
    {
      "cell_type": "code",
      "metadata": {
        "id": "ZsiqcbzCtjnu",
        "colab_type": "code",
        "colab": {
          "base_uri": "https://localhost:8080/",
          "height": 265
        },
        "outputId": "797aa1e0-e430-4cb8-b9ca-33624e309b34"
      },
      "source": [
        "img = mnist['x_train'][5999,:]\n",
        "plt.imshow(img)\n",
        "plt.show()"
      ],
      "execution_count": 7,
      "outputs": [
        {
          "output_type": "display_data",
          "data": {
            "image/png": "[encoded data removed]",
            "text/plain": [
              "<Figure size 432x288 with 1 Axes>"
            ]
          },
          "metadata": {
            "tags": [],
            "needs_background": "light"
          }
        }
      ]
    },
    {
      "cell_type": "code",
      "metadata": {
        "id": "EkQGKHqjtuID",
        "colab_type": "code",
        "colab": {
          "base_uri": "https://localhost:8080/",
          "height": 34
        },
        "outputId": "d1cd707d-844d-4986-b048-e39b9c36e1a8"
      },
      "source": [
        "print(mnist['y_train'][5999])"
      ],
      "execution_count": 8,
      "outputs": [
        {
          "output_type": "stream",
          "text": [
            "[9]\n"
          ],
          "name": "stdout"
        }
      ]
    },
    {
      "cell_type": "code",
      "metadata": {
        "id": "E6Ih4LwStzSr",
        "colab_type": "code",
        "colab": {}
      },
      "source": [
        "x_train, y_train, x_test, y_text = mnist['x_train'], mnist['y_train'], mnist['x_test'], mnist['y_test']"
      ],
      "execution_count": 9,
      "outputs": []
    },
    {
      "cell_type": "code",
      "metadata": {
        "id": "D8BhSNFquB7z",
        "colab_type": "code",
        "colab": {
          "base_uri": "https://localhost:8080/",
          "height": 1000
        },
        "outputId": "5c6c724e-09a2-4263-b0dc-d1f56d256bf2"
      },
      "source": [
        "# 연습문제 1. (pyplot)\n",
        "# x_train data 로부터 i 번째에서부터 시작하는 이미지를 10 개를 동시에 출력해 봅시다.\n",
        "# \n",
        "import numpy as np\n",
        "import matplotlib.pyplot as plt\n",
        "\n",
        "#for i in range(5):\n",
        "#  image = x_train[i,:]\n",
        "#  plt.subplot(2,2,1)\n",
        "#  plt.imshow(image)\n",
        "#  plt.show()\n",
        "\n",
        "def draw_10_images(i):\n",
        "  images = x_train[i:i+10]\n",
        "    \n",
        "  for img in images:\n",
        "    plt.subplot(2,2,1)\n",
        "    plt.imshow(img)\n",
        "    plt.show()\n",
        "  \n",
        "draw_10_images(7) # x_train data의 7번째부터 시작하여 차례대로 10개의 이미지를 동시에 출력\n",
        "\n"
      ],
      "execution_count": 10,
      "outputs": [
        {
          "output_type": "display_data",
          "data": {
            "image/png": "[encoded data removed]",
            "text/plain": [
              "<Figure size 432x288 with 1 Axes>"
            ]
          },
          "metadata": {
            "tags": [],
            "needs_background": "light"
          }
        },
        {
          "output_type": "display_data",
          "data": {
            "image/png": "[encoded data removed]",
            "text/plain": [
              "<Figure size 432x288 with 1 Axes>"
            ]
          },
          "metadata": {
            "tags": [],
            "needs_background": "light"
          }
        },
        {
          "output_type": "display_data",
          "data": {
            "image/png": "[encoded data removed]",
            "text/plain": [
              "<Figure size 432x288 with 1 Axes>"
            ]
          },
          "metadata": {
            "tags": [],
            "needs_background": "light"
          }
        },
        {
          "output_type": "display_data",
          "data": {
            "image/png": "[encoded data removed]",
            "text/plain": [
              "<Figure size 432x288 with 1 Axes>"
            ]
          },
          "metadata": {
            "tags": [],
            "needs_background": "light"
          }
        },
        {
          "output_type": "display_data",
          "data": {
            "image/png": "[encoded data removed]",
            "text/plain": [
              "<Figure size 432x288 with 1 Axes>"
            ]
          },
          "metadata": {
            "tags": [],
            "needs_background": "light"
          }
        },
        {
          "output_type": "display_data",
          "data": {
            "image/png": "[encoded data removed]",
            "text/plain": [
              "<Figure size 432x288 with 1 Axes>"
            ]
          },
          "metadata": {
            "tags": [],
            "needs_background": "light"
          }
        },
        {
          "output_type": "display_data",
          "data": {
            "image/png": "[encoded data removed]",
            "text/plain": [
              "<Figure size 432x288 with 1 Axes>"
            ]
          },
          "metadata": {
            "tags": [],
            "needs_background": "light"
          }
        },
        {
          "output_type": "display_data",
          "data": {
            "image/png": "[encoded data removed]",
            "text/plain": [
              "<Figure size 432x288 with 1 Axes>"
            ]
          },
          "metadata": {
            "tags": [],
            "needs_background": "light"
          }
        },
        {
          "output_type": "display_data",
          "data": {
            "image/png": "[encoded data removed]",
            "text/plain": [
              "<Figure size 432x288 with 1 Axes>"
            ]
          },
          "metadata": {
            "tags": [],
            "needs_background": "light"
          }
        },
        {
          "output_type": "display_data",
          "data": {
            "image/png": "[encoded data removed]",
            "text/plain": [
              "<Figure size 432x288 with 1 Axes>"
            ]
          },
          "metadata": {
            "tags": [],
            "needs_background": "light"
          }
        }
      ]
    },
    {
      "cell_type": "code",
      "metadata": {
        "id": "Ex-6Kpn4_hFz",
        "colab_type": "code",
        "colab": {
          "base_uri": "https://localhost:8080/",
          "height": 34
        },
        "outputId": "46ecdd09-4337-409c-bb82-da3037a82525"
      },
      "source": [
        "# 연습문제 2. x_train 에서 각각의 0, 1, 2, ..., 9 각각의 데이터셋은 몇개씩이나 있을까요?\n",
        "\n",
        "# your code here\n",
        "import numpy as np\n",
        "\n",
        "#def count_x_train(i): # iteration method\n",
        "#  count = 0\n",
        "#  y_train_num = y_train[:]\n",
        "#  for num in y_train_num:\n",
        "#    if num  == i :\n",
        "#      count += 1\n",
        "#  return count\n",
        "  \n",
        "#count_x_train(2)\n",
        "\n",
        "def count_number(i):\n",
        "   #y_train_array = np.array(y_train) \n",
        "   #print(y_train_array) # print y_train label\n",
        "   #bool_idx = (y_train_array == i)\n",
        "   #print(bool_idx) # y_train label에서 i 값과 동일할 경우에는 True로 Mask, 다를 경우에는 False로 Mask\n",
        "   print(np.count_nonzero(y_train_array == i))\n",
        "\n",
        "count_number(2)\n"
      ],
      "execution_count": 50,
      "outputs": [
        {
          "output_type": "stream",
          "text": [
            "5958\n"
          ],
          "name": "stdout"
        }
      ]
    },
    {
      "cell_type": "code",
      "metadata": {
        "id": "oediWWKVBS_2",
        "colab_type": "code",
        "colab": {
          "base_uri": "https://localhost:8080/",
          "height": 408
        },
        "outputId": "2162600d-a631-4b2a-c8ae-22591e0e9455"
      },
      "source": [
        "# 연습문제 3. 0~9 까지를 분류하는 multi-class classification 은 pytorch 를 이용해서 매우 손쉽게 풀어볼 예정이구요. \n",
        "# 학습을 위해서 0,1 숫자 두개는 특별히 분류해서 numpy 를 이용해서 직접 logistic regression 을 돌려볼려고 합니다. \n",
        "# 0,1 만 존재하는 x_train, y_train, x_test, y_test 를 만들어 보도록 합시다. \n",
        "\n",
        "y_train_label = y_train[:]\n",
        "print(y_train_label) # print total y_train label\n",
        "print(len(y_train_label)) # number of y_train label #60000개\n",
        "\n",
        "mask = y_train_label < 2 # y_train_label에서 2보다 작은 원소를 mask array로 지정, 따라서 0과 1만 True value를 나타내고 나머지는 False\n",
        "print(mask)\n",
        "\n",
        "b = y_train_label[mask].reshape(-1,1) # y_train_label row array 에서 column array 로 변환\n",
        "print(b.shape, len(b))\n",
        "print(b)"
      ],
      "execution_count": 17,
      "outputs": [
        {
          "output_type": "stream",
          "text": [
            "[[5]\n",
            " [0]\n",
            " [4]\n",
            " ...\n",
            " [5]\n",
            " [6]\n",
            " [8]]\n",
            "60000\n",
            "[[False]\n",
            " [ True]\n",
            " [False]\n",
            " ...\n",
            " [False]\n",
            " [False]\n",
            " [False]]\n",
            "(12665, 1) 12665\n",
            "[[0]\n",
            " [1]\n",
            " [1]\n",
            " ...\n",
            " [1]\n",
            " [0]\n",
            " [1]]\n"
          ],
          "name": "stdout"
        }
      ]
    }
  ]
}