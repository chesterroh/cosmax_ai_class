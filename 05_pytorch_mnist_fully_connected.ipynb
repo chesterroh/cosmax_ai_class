{
 "cells": [
  {
   "cell_type": "markdown",
   "metadata": {},
   "source": [
    "## PYTORCH 를 이용한 mnist FC classifier \n",
    "\n",
    "fully-connected layer 만을 이용해서 MNIST 데이터를 분류해보도록 하겠습니다. \n",
    "지금까지 numpy 를 이용해서 저희 밑바닥부터 모든 작업들을 진행했다면, 이제는 pytorch framework 이 제공하는 편리한 기능들을 이용하도록 하겠습니다. 얼마나 편리하게 만들어져 있는지 직접 경험해 보도록 합시다.\n",
    "\n",
    "\n",
    "\n",
    "__( 나중에 여기에 이론 슬라이드를 첨부해 넣도록 하겠습니다.)__"
   ]
  },
  {
   "cell_type": "code",
   "execution_count": 1,
   "metadata": {},
   "outputs": [
    {
     "name": "stderr",
     "output_type": "stream",
     "text": [
      "/home/chester/.local/lib/python3.8/site-packages/tqdm/auto.py:22: TqdmWarning: IProgress not found. Please update jupyter and ipywidgets. See https://ipywidgets.readthedocs.io/en/stable/user_install.html\n",
      "  from .autonotebook import tqdm as notebook_tqdm\n"
     ]
    }
   ],
   "source": [
    "import torch\n",
    "import torch.nn as nn\n",
    "import torch.nn.functional as F\n",
    "import torch.optim as optim\n",
    "from torchvision import datasets, transforms\n",
    "import matplotlib.pyplot as plt\n",
    "import numpy as np\n"
   ]
  },
  {
   "cell_type": "markdown",
   "metadata": {},
   "source": [
    "GPU 가 존재한다면 GPU 의 강력함을 한번 느껴보도록 할까요. 먼저 CPU 로 한번 계산해보고 나중에 GPU 로 연산을 했을때 얼마나 빨라지는지 테스트 해보도록 하겠습니다."
   ]
  },
  {
   "cell_type": "code",
   "execution_count": 2,
   "metadata": {},
   "outputs": [],
   "source": [
    "#device = torch.device(\"cuda:0\" if torch.cuda.is_available() else \"cpu\")\n",
    "device = torch.device(\"cpu\")"
   ]
  },
  {
   "cell_type": "markdown",
   "metadata": {},
   "source": [
    "### MNIST Dataset 을 load 합니다. \n",
    "\n",
    "training dataset, test dataset 을 편리하게 loading 하게 만들어주는 메쏘드들이 이미 잘 구현이 되어 있습니다. 이 과정에서 다양한 normalize, data augmentation 등을 transforms 라는 녀석을 통해서 손쉽게 구현해 넣을 수 있습니다.\n"
   ]
  },
  {
   "cell_type": "code",
   "execution_count": 3,
   "metadata": {},
   "outputs": [
    {
     "name": "stdout",
     "output_type": "stream",
     "text": [
      "Downloading http://yann.lecun.com/exdb/mnist/train-images-idx3-ubyte.gz\n",
      "Downloading http://yann.lecun.com/exdb/mnist/train-images-idx3-ubyte.gz to ./sample_data/MNIST/raw/train-images-idx3-ubyte.gz\n"
     ]
    },
    {
     "name": "stderr",
     "output_type": "stream",
     "text": [
      "9913344it [00:00, 16966519.71it/s]                                               \n"
     ]
    },
    {
     "name": "stdout",
     "output_type": "stream",
     "text": [
      "Extracting ./sample_data/MNIST/raw/train-images-idx3-ubyte.gz to ./sample_data/MNIST/raw\n",
      "\n",
      "Downloading http://yann.lecun.com/exdb/mnist/train-labels-idx1-ubyte.gz\n",
      "Downloading http://yann.lecun.com/exdb/mnist/train-labels-idx1-ubyte.gz to ./sample_data/MNIST/raw/train-labels-idx1-ubyte.gz\n"
     ]
    },
    {
     "name": "stderr",
     "output_type": "stream",
     "text": [
      "29696it [00:00, 521690.18it/s]                                                   \n"
     ]
    },
    {
     "name": "stdout",
     "output_type": "stream",
     "text": [
      "Extracting ./sample_data/MNIST/raw/train-labels-idx1-ubyte.gz to ./sample_data/MNIST/raw\n",
      "\n",
      "Downloading http://yann.lecun.com/exdb/mnist/t10k-images-idx3-ubyte.gz\n",
      "Downloading http://yann.lecun.com/exdb/mnist/t10k-images-idx3-ubyte.gz to ./sample_data/MNIST/raw/t10k-images-idx3-ubyte.gz\n"
     ]
    },
    {
     "name": "stderr",
     "output_type": "stream",
     "text": [
      "1649664it [00:00, 6165431.34it/s]                                                \n"
     ]
    },
    {
     "name": "stdout",
     "output_type": "stream",
     "text": [
      "Extracting ./sample_data/MNIST/raw/t10k-images-idx3-ubyte.gz to ./sample_data/MNIST/raw\n",
      "\n",
      "Downloading http://yann.lecun.com/exdb/mnist/t10k-labels-idx1-ubyte.gz\n",
      "Downloading http://yann.lecun.com/exdb/mnist/t10k-labels-idx1-ubyte.gz to ./sample_data/MNIST/raw/t10k-labels-idx1-ubyte.gz\n"
     ]
    },
    {
     "name": "stderr",
     "output_type": "stream",
     "text": [
      "5120it [00:00, 14470914.07it/s]                                                  "
     ]
    },
    {
     "name": "stdout",
     "output_type": "stream",
     "text": [
      "Extracting ./sample_data/MNIST/raw/t10k-labels-idx1-ubyte.gz to ./sample_data/MNIST/raw\n",
      "\n"
     ]
    },
    {
     "name": "stderr",
     "output_type": "stream",
     "text": [
      "\n"
     ]
    }
   ],
   "source": [
    "input_size = 28 * 28\n",
    "output_size = 10    # 0~9 까지 총 10개로 분류되어야 하기 때문입니다. \n",
    "\n",
    "\n",
    "train_dataset = datasets.MNIST('./sample_data', train=True, download=True,\n",
    "                              transform=transforms.Compose([\n",
    "                                  transforms.ToTensor(),   # transform 에 들어오는 image 는 항상 PIL type 이어야 합니다. \n",
    "                                  transforms.Normalize((0.1307,), (0.3081,))\n",
    "                              ]))\n",
    "\n",
    "test_dataset = datasets.MNIST('./sample_data', train=False, download=True,\n",
    "                             transform=transforms.Compose([\n",
    "                                 transforms.ToTensor(),\n",
    "                                 transforms.Normalize((0.1307,), (0.3081,))\n",
    "                             ]))\n",
    "\n",
    "train_loader = torch.utils.data.DataLoader( train_dataset, batch_size=64, shuffle=True)\n",
    "test_loader = torch.utils.data.DataLoader( test_dataset, batch_size=1000, shuffle=True)\n"
   ]
  },
  {
   "cell_type": "markdown",
   "metadata": {},
   "source": [
    "몇개의 training dataset 을 한번 시각화해보도록 하겠습니다. "
   ]
  },
  {
   "cell_type": "code",
   "execution_count": 4,
   "metadata": {},
   "outputs": [
    {
     "data": {
      "image/png": "[encoded data removed]",
      "text/plain": [
       "<Figure size 1152x432 with 10 Axes>"
      ]
     },
     "metadata": {
      "needs_background": "light"
     },
     "output_type": "display_data"
    }
   ],
   "source": [
    "plt.figure(figsize=(16,6))\n",
    "\n",
    "for i in range(10):\n",
    "    plt.subplot(2, 5, i+1)\n",
    "    image, _ = train_loader.dataset.__getitem__(i)\n",
    "    plt.imshow(image.squeeze().numpy())\n",
    "    plt.axis('off')"
   ]
  },
  {
   "cell_type": "markdown",
   "metadata": {},
   "source": [
    "## 이제 Fully Connected Layer 모델을 만들어 봅시다.\n",
    "\n",
    "(cf. Multi-class classifier 를 만들때 혼동되는 부분중에 하나가 왜 마지막 layer 에 softmax 를 넣지 않지요? 라고 질문주시는 분들이 있는데요. 우리가 아래에서 사용할 loss 함수가 CrossEntropyLoss() 를 사용하기 때문입니다. Network 의 끝단에 softmax( nn.LogSoftmax() 를 사용합니다. ) 를 사용할 경우에는 loss 함수계산 역시 NLLLoss 를 사용해야 합니다. 자세한 내용은 http://www.gisdeveloper.co.kr/?p=8668 를 참고하세요. )"
   ]
  },
  {
   "cell_type": "code",
   "execution_count": 5,
   "metadata": {},
   "outputs": [],
   "source": [
    "class fc_layer(nn.Module):\n",
    "    def __init__(self, input_size, n_hidden, output_size):\n",
    "        super(fc_layer, self).__init__() \n",
    "        self.input_size = input_size\n",
    "        self.network = nn.Sequential(\n",
    "            nn.Linear(input_size, n_hidden),\n",
    "            nn.ReLU(),\n",
    "            nn.Linear(n_hidden, n_hidden),\n",
    "            nn.ReLU(),\n",
    "            nn.Linear(n_hidden, output_size),\n",
    "        )\n",
    "        \n",
    "    def forward(self, x):\n",
    "        x = x.view(-1, self.input_size)  # 28*28 2D array 를 784 1D array 로 flatten 합니다.\n",
    "        return self.network(x)"
   ]
  },
  {
   "cell_type": "code",
   "execution_count": 6,
   "metadata": {},
   "outputs": [
    {
     "name": "stdout",
     "output_type": "stream",
     "text": [
      "epoch: 0, batch_idx: 0, loss: 2.347549\n",
      "epoch: 0, batch_idx: 100, loss: 1.336743\n",
      "epoch: 0, batch_idx: 200, loss: 1.160565\n",
      "epoch: 0, batch_idx: 300, loss: 0.533368\n",
      "epoch: 0, batch_idx: 400, loss: 0.598605\n",
      "epoch: 0, batch_idx: 500, loss: 0.429612\n",
      "epoch: 0, batch_idx: 600, loss: 0.369259\n",
      "epoch: 0, batch_idx: 700, loss: 0.478480\n",
      "epoch: 0, batch_idx: 800, loss: 0.326877\n",
      "epoch: 0, batch_idx: 900, loss: 0.350635\n",
      "epoch: 1, batch_idx: 0, loss: 0.409310\n",
      "epoch: 1, batch_idx: 100, loss: 0.258362\n",
      "epoch: 1, batch_idx: 200, loss: 0.332065\n",
      "epoch: 1, batch_idx: 300, loss: 0.335535\n",
      "epoch: 1, batch_idx: 400, loss: 0.197067\n",
      "epoch: 1, batch_idx: 500, loss: 0.408997\n",
      "epoch: 1, batch_idx: 600, loss: 0.436429\n",
      "epoch: 1, batch_idx: 700, loss: 0.390767\n",
      "epoch: 1, batch_idx: 800, loss: 0.481739\n",
      "epoch: 1, batch_idx: 900, loss: 0.453019\n",
      "epoch: 2, batch_idx: 0, loss: 0.386188\n",
      "epoch: 2, batch_idx: 100, loss: 0.308696\n",
      "epoch: 2, batch_idx: 200, loss: 0.314649\n",
      "epoch: 2, batch_idx: 300, loss: 0.266146\n",
      "epoch: 2, batch_idx: 400, loss: 0.270805\n",
      "epoch: 2, batch_idx: 500, loss: 0.370538\n",
      "epoch: 2, batch_idx: 600, loss: 0.398159\n",
      "epoch: 2, batch_idx: 700, loss: 0.259936\n",
      "epoch: 2, batch_idx: 800, loss: 0.261881\n",
      "epoch: 2, batch_idx: 900, loss: 0.306570\n",
      "epoch: 3, batch_idx: 0, loss: 0.171151\n",
      "epoch: 3, batch_idx: 100, loss: 0.250797\n",
      "epoch: 3, batch_idx: 200, loss: 0.433271\n",
      "epoch: 3, batch_idx: 300, loss: 0.453616\n",
      "epoch: 3, batch_idx: 400, loss: 0.200707\n",
      "epoch: 3, batch_idx: 500, loss: 0.203983\n",
      "epoch: 3, batch_idx: 600, loss: 0.186222\n",
      "epoch: 3, batch_idx: 700, loss: 0.181517\n",
      "epoch: 3, batch_idx: 800, loss: 0.274628\n",
      "epoch: 3, batch_idx: 900, loss: 0.467991\n",
      "epoch: 4, batch_idx: 0, loss: 0.377951\n",
      "epoch: 4, batch_idx: 100, loss: 0.477728\n",
      "epoch: 4, batch_idx: 200, loss: 0.302033\n",
      "epoch: 4, batch_idx: 300, loss: 0.318743\n",
      "epoch: 4, batch_idx: 400, loss: 0.305110\n",
      "epoch: 4, batch_idx: 500, loss: 0.489002\n",
      "epoch: 4, batch_idx: 600, loss: 0.351567\n",
      "epoch: 4, batch_idx: 700, loss: 0.402815\n",
      "epoch: 4, batch_idx: 800, loss: 0.185572\n",
      "epoch: 4, batch_idx: 900, loss: 0.562654\n"
     ]
    }
   ],
   "source": [
    "epoch = 5\n",
    "learning_rate = 0.001\n",
    "\n",
    "n_hidden = 7   # hidden unit 을 5개로 정의합니다.  \n",
    "\n",
    "# 우리가 만든 model instance 를 initiate 합니다. 이제 net 라는 model 이 memory 에 존재하기 시작합니다. \n",
    "# 우리가 학습을 시킬 parameter 들은 이 안에 들어있지요. \n",
    "model = fc_layer( input_size, n_hidden, output_size)\n",
    "model.to(device)  # torch.device() 에서 setup 한 device 의 memory 로 모델을 load 합니다. \n",
    "\n",
    "# loss 함수를 정의합니다. \n",
    "criterion = nn.CrossEntropyLoss()\n",
    "\n",
    "# optimizer 를 정의합니다. Adam 을 사용해보도록 합시다. \n",
    "optimizer = optim.Adam(model.parameters(), lr=learning_rate)\n",
    "\n",
    "# 질문, net.parameters() 에 존재하는 trainable parameter 의 숫자는 몇개일까요?\n",
    "\n",
    "loss_trail = []\n",
    "\n",
    "for epoch_idx in range(epoch):    # Epoch iterator\n",
    "    batch_idx = 0\n",
    "    for data, label in train_loader:\n",
    "        data, label = data.to(device), label.to(device)\n",
    "        optimizer.zero_grad()\n",
    "        output = model(data)\n",
    "        loss = criterion(output, label)\n",
    "        loss.backward()\n",
    "        optimizer.step()\n",
    "        \n",
    "        if batch_idx % 100 == 0:\n",
    "            print(\"epoch: %d, batch_idx: %d, loss: %f\" % (epoch_idx, batch_idx, loss.item()))\n",
    "            loss_trail.append(loss.item())\n",
    "            \n",
    "        batch_idx += 1\n",
    "    \n",
    "    \n"
   ]
  },
  {
   "cell_type": "code",
   "execution_count": 7,
   "metadata": {},
   "outputs": [
    {
     "data": {
      "image/png": "[encoded data removed]",
      "text/plain": [
       "<Figure size 432x288 with 1 Axes>"
      ]
     },
     "metadata": {
      "needs_background": "light"
     },
     "output_type": "display_data"
    }
   ],
   "source": [
    "plt.plot(range(len(loss_trail)), loss_trail)\n",
    "plt.ylabel('loss')\n",
    "plt.xlabel('mini-batches')\n",
    "plt.show()"
   ]
  },
  {
   "cell_type": "markdown",
   "metadata": {},
   "source": [
    "테스트를 한번 해볼까요? "
   ]
  },
  {
   "cell_type": "code",
   "execution_count": 8,
   "metadata": {},
   "outputs": [
    {
     "name": "stdout",
     "output_type": "stream",
     "text": [
      "test accuracy 90.610000\n"
     ]
    }
   ],
   "source": [
    "correct = 0 \n",
    "\n",
    "with torch.no_grad():\n",
    "    for data, label in test_loader:\n",
    "        data, label = data.to(device), label.to(device)\n",
    "    \n",
    "        output = model(data)\n",
    "        test_loss = criterion(output, label)\n",
    "        pred = output.argmax(dim=1, keepdim=True)\n",
    "        correct += pred.eq(label.view_as(pred)).sum().item()\n",
    "\n",
    "print(\"test accuracy %f\" % (100. * correct / len(test_loader.dataset)))"
   ]
  },
  {
   "cell_type": "markdown",
   "metadata": {},
   "source": [
    "과제 .1   GPU 를 사용하도록 코드를 변경해봅시다.\n",
    "\n",
    "과제. 2   epoch 과 hidden layer 의 neuron 갯수(n_hidden) 를 조정해서 test accuracy 가 어떻게 바뀌는지 테스트해봅시다."
   ]
  },
  {
   "cell_type": "code",
   "execution_count": null,
   "metadata": {},
   "outputs": [],
   "source": []
  },
  {
   "cell_type": "code",
   "execution_count": null,
   "metadata": {},
   "outputs": [],
   "source": []
  }
 ],
 "metadata": {
  "kernelspec": {
   "display_name": "Python 3 (ipykernel)",
   "language": "python",
   "name": "python3"
  },
  "language_info": {
   "codemirror_mode": {
    "name": "ipython",
    "version": 3
   },
   "file_extension": ".py",
   "mimetype": "text/x-python",
   "name": "python",
   "nbconvert_exporter": "python",
   "pygments_lexer": "ipython3",
   "version": "3.8.10"
  }
 },
 "nbformat": 4,
 "nbformat_minor": 4
}
